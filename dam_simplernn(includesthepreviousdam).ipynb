{
 "cells": [
  {
   "cell_type": "code",
   "execution_count": 97,
   "metadata": {
    "colab": {
     "base_uri": "https://localhost:8080/"
    },
    "executionInfo": {
     "elapsed": 34368,
     "status": "ok",
     "timestamp": 1713334196050,
     "user": {
      "displayName": "­이진서 / 직원 / 그린바이오과학기술연구원",
      "userId": "11108064377578484520"
     },
     "user_tz": -540
    },
    "id": "GQo1Ioqzm9dq",
    "outputId": "90a20769-eb67-41fa-d941-5e978baeb8e0"
   },
   "outputs": [],
   "source": [
    "\"\"\" RNN dam flow prediction: stacked RNN \"\"\"\n",
    "\n",
    "# import libraries\n",
    "import numpy as np\n",
    "import pandas as pd\n",
    "from tensorflow.keras.models import Sequential\n",
    "from tensorflow.keras.layers import LSTM, Dense, Flatten,SimpleRNN\n",
    "from tensorflow.keras.optimizers import Adam\n",
    "from sklearn.preprocessing import StandardScaler, MinMaxScaler\n",
    "import matplotlib.pyplot as plt\n"
   ]
  },
  {
   "cell_type": "code",
   "execution_count": 98,
   "metadata": {
    "id": "NHfpFZhV1KrZ"
   },
   "outputs": [],
   "source": [
    "rain_data = pd.read_csv('rain_day.csv', encoding='utf-8')\n",
    "dam_data = pd.read_csv('dam_edit.csv', encoding='utf-8')"
   ]
  },
  {
   "cell_type": "code",
   "execution_count": 99,
   "metadata": {
    "id": "ZOSc9aW_NTX_"
   },
   "outputs": [],
   "source": [
    "data = []"
   ]
  },
  {
   "cell_type": "code",
   "execution_count": 100,
   "metadata": {
    "id": "pqbh4uMo27f3"
   },
   "outputs": [],
   "source": [
    "dam_data = dam_data.drop('Unnamed: 0', axis = 1)"
   ]
  },
  {
   "cell_type": "code",
   "execution_count": null,
   "metadata": {
    "id": "dxpKYS2Fi-uw"
   },
   "outputs": [],
   "source": []
  },
  {
   "cell_type": "code",
   "execution_count": 101,
   "metadata": {
    "id": "cdLeO4e24q26"
   },
   "outputs": [],
   "source": [
    "data = pd.merge( dam_data,rain_data, on='date', how='inner')"
   ]
  },
  {
   "cell_type": "code",
   "execution_count": 102,
   "metadata": {
    "id": "_dHIpEd22O2E"
   },
   "outputs": [],
   "source": [
    "data = data.fillna(0)"
   ]
  },
  {
   "cell_type": "code",
   "execution_count": 103,
   "metadata": {
    "colab": {
     "base_uri": "https://localhost:8080/"
    },
    "executionInfo": {
     "elapsed": 642,
     "status": "ok",
     "timestamp": 1713334198129,
     "user": {
      "displayName": "­이진서 / 직원 / 그린바이오과학기술연구원",
      "userId": "11108064377578484520"
     },
     "user_tz": -540
    },
    "id": "8LCkdpxW4q0W",
    "outputId": "8c3c27f3-061e-48f3-c37a-3ae2d5ffa09b"
   },
   "outputs": [
    {
     "name": "stdout",
     "output_type": "stream",
     "text": [
      "             date  dam_t-1    90  100  101  211  212\n",
      "0      1974-01-01    0.000   0.0  0.0  0.0  0.0  0.0\n",
      "1      1974-01-02   10.000   0.0  0.0  0.0  0.0  0.0\n",
      "2      1974-01-03    9.000   0.0  0.0  0.0  0.0  0.0\n",
      "3      1974-01-04    4.800   0.0  0.0  0.0  0.0  0.0\n",
      "4      1974-01-05    6.100   0.0  0.0  0.0  0.0  0.0\n",
      "...           ...      ...   ...  ...  ...  ...  ...\n",
      "18257  2023-12-27   30.518   0.0  0.0  0.0  0.0  0.0\n",
      "18258  2023-12-28   25.873   0.0  0.0  0.0  0.0  0.0\n",
      "18259  2023-12-29   21.186   0.0  0.0  0.0  0.0  0.0\n",
      "18260  2023-12-30   20.887   0.7  2.3  9.9  6.8  8.5\n",
      "18261  2023-12-31   29.183  26.8  6.0  5.3  3.1  4.9\n",
      "\n",
      "[18262 rows x 7 columns]\n"
     ]
    }
   ],
   "source": [
    "print(data)"
   ]
  },
  {
   "cell_type": "code",
   "execution_count": null,
   "metadata": {
    "id": "PgHrzxos-42s"
   },
   "outputs": [],
   "source": []
  },
  {
   "cell_type": "code",
   "execution_count": 104,
   "metadata": {
    "colab": {
     "base_uri": "https://localhost:8080/"
    },
    "executionInfo": {
     "elapsed": 13,
     "status": "ok",
     "timestamp": 1713334198130,
     "user": {
      "displayName": "­이진서 / 직원 / 그린바이오과학기술연구원",
      "userId": "11108064377578484520"
     },
     "user_tz": -540
    },
    "id": "KZQFqaNs1Ko9",
    "outputId": "61252eba-3f8b-42e3-f3f3-ec695c1fba11"
   },
   "outputs": [
    {
     "name": "stdout",
     "output_type": "stream",
     "text": [
      "             date  dam_t-1\n",
      "0      1974-01-01    0.000\n",
      "1      1974-01-02   10.000\n",
      "2      1974-01-03    9.000\n",
      "3      1974-01-04    4.800\n",
      "4      1974-01-05    6.100\n",
      "...           ...      ...\n",
      "18257  2023-12-27   30.518\n",
      "18258  2023-12-28   25.873\n",
      "18259  2023-12-29   21.186\n",
      "18260  2023-12-30   20.887\n",
      "18261  2023-12-31   29.183\n",
      "\n",
      "[18262 rows x 2 columns]\n"
     ]
    }
   ],
   "source": [
    "print(dam_data)"
   ]
  },
  {
   "cell_type": "code",
   "execution_count": 105,
   "metadata": {
    "id": "gAMWMiiZ_I3c"
   },
   "outputs": [],
   "source": [
    "dam = dam_data.drop('date', axis= 1)"
   ]
  },
  {
   "cell_type": "code",
   "execution_count": 106,
   "metadata": {
    "colab": {
     "base_uri": "https://localhost:8080/"
    },
    "executionInfo": {
     "elapsed": 12,
     "status": "ok",
     "timestamp": 1713334198130,
     "user": {
      "displayName": "­이진서 / 직원 / 그린바이오과학기술연구원",
      "userId": "11108064377578484520"
     },
     "user_tz": -540
    },
    "id": "wd50aIWU1Kml",
    "outputId": "a10fcee0-6c46-4910-939f-4fc61d7ccf43"
   },
   "outputs": [
    {
     "name": "stdout",
     "output_type": "stream",
     "text": [
      "             date    90  100  101  211  212\n",
      "0      1974-01-01   0.0  0.0  0.0  0.0  0.0\n",
      "1      1974-01-02   0.0  0.0  0.0  0.0  0.0\n",
      "2      1974-01-03   0.0  0.0  0.0  0.0  0.0\n",
      "3      1974-01-04   0.0  0.0  0.0  0.0  0.0\n",
      "4      1974-01-05   0.0  0.0  0.0  0.0  0.0\n",
      "...           ...   ...  ...  ...  ...  ...\n",
      "18257  2023-12-27   0.0  0.0  0.0  0.0  0.0\n",
      "18258  2023-12-28   0.0  0.0  0.0  0.0  0.0\n",
      "18259  2023-12-29   0.0  0.0  0.0  0.0  0.0\n",
      "18260  2023-12-30   0.7  2.3  9.9  6.8  8.5\n",
      "18261  2023-12-31  26.8  6.0  5.3  3.1  4.9\n",
      "\n",
      "[18262 rows x 6 columns]\n"
     ]
    }
   ],
   "source": [
    "print(rain_data)"
   ]
  },
  {
   "cell_type": "code",
   "execution_count": 107,
   "metadata": {
    "id": "bXv8dcE91KhZ"
   },
   "outputs": [],
   "source": [
    "data = data[9496:]"
   ]
  },
  {
   "cell_type": "code",
   "execution_count": 108,
   "metadata": {
    "id": "36Yl3EaL1KfB"
   },
   "outputs": [
    {
     "data": {
      "text/html": [
       "<div>\n",
       "<style scoped>\n",
       "    .dataframe tbody tr th:only-of-type {\n",
       "        vertical-align: middle;\n",
       "    }\n",
       "\n",
       "    .dataframe tbody tr th {\n",
       "        vertical-align: top;\n",
       "    }\n",
       "\n",
       "    .dataframe thead th {\n",
       "        text-align: right;\n",
       "    }\n",
       "</style>\n",
       "<table border=\"1\" class=\"dataframe\">\n",
       "  <thead>\n",
       "    <tr style=\"text-align: right;\">\n",
       "      <th></th>\n",
       "      <th>date</th>\n",
       "      <th>dam_t-1</th>\n",
       "      <th>90</th>\n",
       "      <th>100</th>\n",
       "      <th>101</th>\n",
       "      <th>211</th>\n",
       "      <th>212</th>\n",
       "    </tr>\n",
       "  </thead>\n",
       "  <tbody>\n",
       "    <tr>\n",
       "      <th>9496</th>\n",
       "      <td>2000-01-01</td>\n",
       "      <td>13.000</td>\n",
       "      <td>1.2</td>\n",
       "      <td>1.0</td>\n",
       "      <td>0.0</td>\n",
       "      <td>0.0</td>\n",
       "      <td>0.0</td>\n",
       "    </tr>\n",
       "    <tr>\n",
       "      <th>9497</th>\n",
       "      <td>2000-01-02</td>\n",
       "      <td>15.900</td>\n",
       "      <td>1.1</td>\n",
       "      <td>3.1</td>\n",
       "      <td>8.9</td>\n",
       "      <td>7.0</td>\n",
       "      <td>9.0</td>\n",
       "    </tr>\n",
       "    <tr>\n",
       "      <th>9498</th>\n",
       "      <td>2000-01-03</td>\n",
       "      <td>20.400</td>\n",
       "      <td>0.0</td>\n",
       "      <td>0.0</td>\n",
       "      <td>0.0</td>\n",
       "      <td>0.0</td>\n",
       "      <td>0.0</td>\n",
       "    </tr>\n",
       "    <tr>\n",
       "      <th>9499</th>\n",
       "      <td>2000-01-04</td>\n",
       "      <td>16.000</td>\n",
       "      <td>0.0</td>\n",
       "      <td>0.0</td>\n",
       "      <td>0.0</td>\n",
       "      <td>0.0</td>\n",
       "      <td>0.0</td>\n",
       "    </tr>\n",
       "    <tr>\n",
       "      <th>9500</th>\n",
       "      <td>2000-01-05</td>\n",
       "      <td>13.700</td>\n",
       "      <td>10.4</td>\n",
       "      <td>9.1</td>\n",
       "      <td>12.0</td>\n",
       "      <td>5.8</td>\n",
       "      <td>12.0</td>\n",
       "    </tr>\n",
       "    <tr>\n",
       "      <th>...</th>\n",
       "      <td>...</td>\n",
       "      <td>...</td>\n",
       "      <td>...</td>\n",
       "      <td>...</td>\n",
       "      <td>...</td>\n",
       "      <td>...</td>\n",
       "      <td>...</td>\n",
       "    </tr>\n",
       "    <tr>\n",
       "      <th>18257</th>\n",
       "      <td>2023-12-27</td>\n",
       "      <td>30.518</td>\n",
       "      <td>0.0</td>\n",
       "      <td>0.0</td>\n",
       "      <td>0.0</td>\n",
       "      <td>0.0</td>\n",
       "      <td>0.0</td>\n",
       "    </tr>\n",
       "    <tr>\n",
       "      <th>18258</th>\n",
       "      <td>2023-12-28</td>\n",
       "      <td>25.873</td>\n",
       "      <td>0.0</td>\n",
       "      <td>0.0</td>\n",
       "      <td>0.0</td>\n",
       "      <td>0.0</td>\n",
       "      <td>0.0</td>\n",
       "    </tr>\n",
       "    <tr>\n",
       "      <th>18259</th>\n",
       "      <td>2023-12-29</td>\n",
       "      <td>21.186</td>\n",
       "      <td>0.0</td>\n",
       "      <td>0.0</td>\n",
       "      <td>0.0</td>\n",
       "      <td>0.0</td>\n",
       "      <td>0.0</td>\n",
       "    </tr>\n",
       "    <tr>\n",
       "      <th>18260</th>\n",
       "      <td>2023-12-30</td>\n",
       "      <td>20.887</td>\n",
       "      <td>0.7</td>\n",
       "      <td>2.3</td>\n",
       "      <td>9.9</td>\n",
       "      <td>6.8</td>\n",
       "      <td>8.5</td>\n",
       "    </tr>\n",
       "    <tr>\n",
       "      <th>18261</th>\n",
       "      <td>2023-12-31</td>\n",
       "      <td>29.183</td>\n",
       "      <td>26.8</td>\n",
       "      <td>6.0</td>\n",
       "      <td>5.3</td>\n",
       "      <td>3.1</td>\n",
       "      <td>4.9</td>\n",
       "    </tr>\n",
       "  </tbody>\n",
       "</table>\n",
       "<p>8766 rows × 7 columns</p>\n",
       "</div>"
      ],
      "text/plain": [
       "             date  dam_t-1    90  100   101  211   212\n",
       "9496   2000-01-01   13.000   1.2  1.0   0.0  0.0   0.0\n",
       "9497   2000-01-02   15.900   1.1  3.1   8.9  7.0   9.0\n",
       "9498   2000-01-03   20.400   0.0  0.0   0.0  0.0   0.0\n",
       "9499   2000-01-04   16.000   0.0  0.0   0.0  0.0   0.0\n",
       "9500   2000-01-05   13.700  10.4  9.1  12.0  5.8  12.0\n",
       "...           ...      ...   ...  ...   ...  ...   ...\n",
       "18257  2023-12-27   30.518   0.0  0.0   0.0  0.0   0.0\n",
       "18258  2023-12-28   25.873   0.0  0.0   0.0  0.0   0.0\n",
       "18259  2023-12-29   21.186   0.0  0.0   0.0  0.0   0.0\n",
       "18260  2023-12-30   20.887   0.7  2.3   9.9  6.8   8.5\n",
       "18261  2023-12-31   29.183  26.8  6.0   5.3  3.1   4.9\n",
       "\n",
       "[8766 rows x 7 columns]"
      ]
     },
     "execution_count": 108,
     "metadata": {},
     "output_type": "execute_result"
    }
   ],
   "source": [
    "data"
   ]
  },
  {
   "cell_type": "code",
   "execution_count": 109,
   "metadata": {
    "id": "p39VaDNvnlIh"
   },
   "outputs": [],
   "source": [
    "# save original 'Open' prices for later\n",
    "original_dam = data['dam_t-1'].values"
   ]
  },
  {
   "cell_type": "code",
   "execution_count": 110,
   "metadata": {
    "id": "bT8kYSbbnl3d"
   },
   "outputs": [],
   "source": [
    "# separate dates for future plotting\n",
    "dates = pd.to_datetime(data['date'])"
   ]
  },
  {
   "cell_type": "code",
   "execution_count": null,
   "metadata": {},
   "outputs": [],
   "source": []
  },
  {
   "cell_type": "code",
   "execution_count": 111,
   "metadata": {
    "colab": {
     "base_uri": "https://localhost:8080/"
    },
    "executionInfo": {
     "elapsed": 10,
     "status": "ok",
     "timestamp": 1713334198130,
     "user": {
      "displayName": "­이진서 / 직원 / 그린바이오과학기술연구원",
      "userId": "11108064377578484520"
     },
     "user_tz": -540
    },
    "id": "Y6ekq36NsaOh",
    "outputId": "69df5cc3-e9e2-4cfe-c2ef-ee095552cd29"
   },
   "outputs": [
    {
     "name": "stdout",
     "output_type": "stream",
     "text": [
      "             date  dam_t-1    90  100   101  211   212\n",
      "9496   2000-01-01   13.000   1.2  1.0   0.0  0.0   0.0\n",
      "9497   2000-01-02   15.900   1.1  3.1   8.9  7.0   9.0\n",
      "9498   2000-01-03   20.400   0.0  0.0   0.0  0.0   0.0\n",
      "9499   2000-01-04   16.000   0.0  0.0   0.0  0.0   0.0\n",
      "9500   2000-01-05   13.700  10.4  9.1  12.0  5.8  12.0\n",
      "...           ...      ...   ...  ...   ...  ...   ...\n",
      "18257  2023-12-27   30.518   0.0  0.0   0.0  0.0   0.0\n",
      "18258  2023-12-28   25.873   0.0  0.0   0.0  0.0   0.0\n",
      "18259  2023-12-29   21.186   0.0  0.0   0.0  0.0   0.0\n",
      "18260  2023-12-30   20.887   0.7  2.3   9.9  6.8   8.5\n",
      "18261  2023-12-31   29.183  26.8  6.0   5.3  3.1   4.9\n",
      "\n",
      "[8766 rows x 7 columns]\n"
     ]
    }
   ],
   "source": [
    "print(data)"
   ]
  },
  {
   "cell_type": "code",
   "execution_count": 112,
   "metadata": {
    "id": "ogA_xIwDnnZH"
   },
   "outputs": [],
   "source": [
    "# variables for training\n",
    "cols = list(data)[1:7]"
   ]
  },
  {
   "cell_type": "code",
   "execution_count": 113,
   "metadata": {
    "colab": {
     "base_uri": "https://localhost:8080/"
    },
    "executionInfo": {
     "elapsed": 10,
     "status": "ok",
     "timestamp": 1713334198131,
     "user": {
      "displayName": "­이진서 / 직원 / 그린바이오과학기술연구원",
      "userId": "11108064377578484520"
     },
     "user_tz": -540
    },
    "id": "UAxYrWfg_32w",
    "outputId": "0542afe5-626a-40fa-dc9e-218e42615a42"
   },
   "outputs": [
    {
     "name": "stdout",
     "output_type": "stream",
     "text": [
      "['dam_t-1', '90', '100', '101', '211', '212']\n"
     ]
    }
   ],
   "source": [
    "print(cols)"
   ]
  },
  {
   "cell_type": "code",
   "execution_count": 114,
   "metadata": {
    "id": "8Din6kzRnoen"
   },
   "outputs": [],
   "source": [
    "# new dataframe with only training data - 5 columns\n",
    "data = data[cols].astype(float)"
   ]
  },
  {
   "cell_type": "code",
   "execution_count": 115,
   "metadata": {
    "executionInfo": {
     "elapsed": 296,
     "status": "ok",
     "timestamp": 1713339682457,
     "user": {
      "displayName": "­이진서 / 직원 / 그린바이오과학기술연구원",
      "userId": "11108064377578484520"
     },
     "user_tz": -540
    },
    "id": "HRrDFZ_Gnpko"
   },
   "outputs": [],
   "source": [
    "# normalize the dataset\n",
    "scaler = MinMaxScaler(feature_range = (0,1))\n",
    "dam_data_scaled = scaler.fit_transform(data)\n"
   ]
  },
  {
   "cell_type": "code",
   "execution_count": 116,
   "metadata": {
    "executionInfo": {
     "elapsed": 2,
     "status": "ok",
     "timestamp": 1713339727108,
     "user": {
      "displayName": "­이진서 / 직원 / 그린바이오과학기술연구원",
      "userId": "11108064377578484520"
     },
     "user_tz": -540
    },
    "id": "1wutiCpgAN88"
   },
   "outputs": [],
   "source": [
    "scaler_dam = MinMaxScaler(feature_range=(0,1))\n",
    "dam_scaled = scaler_dam.fit_transform(dam)"
   ]
  },
  {
   "cell_type": "code",
   "execution_count": 117,
   "metadata": {
    "colab": {
     "base_uri": "https://localhost:8080/"
    },
    "executionInfo": {
     "elapsed": 8,
     "status": "ok",
     "timestamp": 1713334198131,
     "user": {
      "displayName": "­이진서 / 직원 / 그린바이오과학기술연구원",
      "userId": "11108064377578484520"
     },
     "user_tz": -540
    },
    "id": "oszHWO0UEAiO",
    "outputId": "f6bc66d5-2e7f-4345-e648-c02c24cd33dd"
   },
   "outputs": [
    {
     "name": "stdout",
     "output_type": "stream",
     "text": [
      "[[0.00308923 0.00325468 0.00140351 0.         0.         0.        ]\n",
      " [0.00377837 0.00298346 0.00435088 0.03390476 0.02777778 0.03522505]\n",
      " [0.00484772 0.         0.         0.         0.         0.        ]\n",
      " ...\n",
      " [0.0050345  0.         0.         0.         0.         0.        ]\n",
      " [0.00496344 0.00189856 0.00322807 0.03771429 0.02698413 0.0332681 ]\n",
      " [0.00693485 0.07268782 0.00842105 0.02019048 0.01230159 0.01917808]]\n"
     ]
    }
   ],
   "source": [
    "print(dam_data_scaled)"
   ]
  },
  {
   "cell_type": "code",
   "execution_count": 118,
   "metadata": {
    "colab": {
     "base_uri": "https://localhost:8080/"
    },
    "executionInfo": {
     "elapsed": 7,
     "status": "ok",
     "timestamp": 1713334198131,
     "user": {
      "displayName": "­이진서 / 직원 / 그린바이오과학기술연구원",
      "userId": "11108064377578484520"
     },
     "user_tz": -540
    },
    "id": "1xSw2podnqir",
    "outputId": "8d219222-332f-41af-95ed-6460220352ba"
   },
   "outputs": [
    {
     "name": "stdout",
     "output_type": "stream",
     "text": [
      "17385   2021-08-07\n",
      "17386   2021-08-08\n",
      "17387   2021-08-09\n",
      "17388   2021-08-10\n",
      "17389   2021-08-11\n",
      "Name: date, dtype: datetime64[ns]\n"
     ]
    }
   ],
   "source": [
    "# split to train data and test data\n",
    "n_train = int(0.9*dam_data_scaled.shape[0])\n",
    "train_data_scaled = dam_data_scaled[0: n_train]\n",
    "train_dates = dates[0: n_train]\n",
    "\n",
    "test_data_scaled = dam_data_scaled[n_train:]\n",
    "test_dates = dates[n_train:]\n",
    "print(test_dates.head(5))"
   ]
  },
  {
   "cell_type": "code",
   "execution_count": 119,
   "metadata": {
    "colab": {
     "base_uri": "https://localhost:8080/"
    },
    "executionInfo": {
     "elapsed": 323,
     "status": "ok",
     "timestamp": 1713334198448,
     "user": {
      "displayName": "­이진서 / 직원 / 그린바이오과학기술연구원",
      "userId": "11108064377578484520"
     },
     "user_tz": -540
    },
    "id": "ZUFo-ljhIzIm",
    "outputId": "a66da9fd-8e0e-4d80-ab6e-031c79e1bd85"
   },
   "outputs": [
    {
     "name": "stdout",
     "output_type": "stream",
     "text": [
      "[[0.00308923 0.00325468 0.00140351 0.         0.         0.        ]\n",
      " [0.00377837 0.00298346 0.00435088 0.03390476 0.02777778 0.03522505]\n",
      " [0.00484772 0.         0.         0.         0.         0.        ]\n",
      " ...\n",
      " [0.00855836 0.         0.         0.         0.         0.        ]\n",
      " [0.00594012 0.         0.         0.         0.         0.        ]\n",
      " [0.00463028 0.04393816 0.02049123 0.00190476 0.03888889 0.0183953 ]]\n"
     ]
    }
   ],
   "source": [
    "print(train_data_scaled)"
   ]
  },
  {
   "cell_type": "code",
   "execution_count": 120,
   "metadata": {
    "colab": {
     "base_uri": "https://localhost:8080/"
    },
    "executionInfo": {
     "elapsed": 298,
     "status": "ok",
     "timestamp": 1713339761331,
     "user": {
      "displayName": "­이진서 / 직원 / 그린바이오과학기술연구원",
      "userId": "11108064377578484520"
     },
     "user_tz": -540
    },
    "id": "iCOaHw2Cnsnz",
    "outputId": "d5a2c42b-4e77-47f6-a73e-1ad8774a9bf2"
   },
   "outputs": [
    {
     "name": "stdout",
     "output_type": "stream",
     "text": [
      "[[0.00308923 0.00325468 0.00140351 0.         0.         0.        ]\n",
      " [0.00377837 0.00298346 0.00435088 0.03390476 0.02777778 0.03522505]\n",
      " [0.00484772 0.         0.         0.         0.         0.        ]\n",
      " [0.00380213 0.         0.         0.         0.         0.        ]\n",
      " [0.00325557 0.02820721 0.01277193 0.04571429 0.02301587 0.04696673]\n",
      " [0.00520417 0.01627339 0.01136842 0.04609524 0.04325397 0.06457926]\n",
      " [0.00727157 0.         0.0002807  0.         0.         0.        ]\n",
      " [0.0025902  0.         0.00014035 0.0007619  0.         0.00039139]\n",
      " [0.00563191 0.         0.         0.         0.         0.        ]\n",
      " [0.00365955 0.         0.         0.00038095 0.00039683 0.        ]\n",
      " [0.00441998 0.00054245 0.         0.         0.         0.        ]\n",
      " [0.00437245 0.08543531 0.01080702 0.02057143 0.00396825 0.01174168]\n",
      " [0.00489524 0.0070518  0.00463158 0.0152381  0.01468254 0.01565558]\n",
      " [0.00320805 0.         0.         0.         0.         0.        ]\n",
      " [0.00306547 0.         0.         0.         0.         0.        ]\n",
      " [0.00444374 0.         0.         0.         0.         0.        ]\n",
      " [0.00256644 0.03525902 0.00968421 0.         0.         0.        ]\n",
      " [0.00289912 0.         0.         0.         0.         0.        ]\n",
      " [0.00522793 0.         0.00168421 0.0007619  0.00753968 0.00273973]\n",
      " [0.00163967 0.         0.         0.00038095 0.         0.        ]\n",
      " [0.0018773  0.         0.         0.         0.         0.        ]\n",
      " [0.00263773 0.         0.00210526 0.01028571 0.00555556 0.00665362]\n",
      " [0.00425363 0.         0.00154386 0.00266667 0.0031746  0.00430528]\n",
      " [0.00339815 0.03986981 0.         0.         0.         0.        ]\n",
      " [0.00249515 0.02468131 0.01585965 0.         0.         0.        ]\n",
      " [0.00394471 0.         0.         0.         0.         0.        ]\n",
      " [0.00171096 0.         0.00070175 0.         0.         0.        ]\n",
      " [0.00278031 0.         0.         0.         0.         0.        ]\n",
      " [0.00125946 0.         0.         0.         0.         0.        ]\n",
      " [0.004016   0.00108489 0.00168421 0.0007619  0.00079365 0.        ]\n",
      " [0.00140204 0.         0.         0.         0.         0.        ]\n",
      " [0.0033031  0.         0.         0.         0.         0.        ]\n",
      " [0.00147333 0.         0.         0.         0.         0.        ]\n",
      " [0.00163967 0.         0.00014035 0.00038095 0.00119048 0.00039139]\n",
      " [0.00384966 0.         0.         0.         0.         0.        ]\n",
      " [0.00244762 0.         0.00014035 0.00038095 0.         0.        ]\n",
      " [0.00102182 0.00027122 0.00210526 0.00304762 0.00198413 0.00195695]\n",
      " [0.00244762 0.         0.00168421 0.         0.00039683 0.00117417]\n",
      " [0.00042774 0.         0.00140351 0.         0.00119048 0.        ]\n",
      " [0.00218623 0.         0.         0.         0.         0.        ]\n",
      " [0.00301794 0.         0.         0.         0.         0.        ]\n",
      " [0.0028516  0.         0.         0.         0.00039683 0.        ]\n",
      " [0.00144956 0.         0.         0.         0.         0.        ]\n",
      " [0.00318428 0.         0.         0.         0.         0.        ]\n",
      " [0.00199612 0.         0.00126316 0.00038095 0.00595238 0.00234834]\n",
      " [0.00019011 0.         0.         0.         0.         0.        ]\n",
      " [0.00133075 0.         0.         0.         0.         0.        ]\n",
      " [0.00320805 0.         0.         0.         0.         0.        ]]\n",
      "[0.00130698]\n"
     ]
    }
   ],
   "source": [
    "# data reformatting for LSTM\n",
    "pred_days = 1  # prediction period\n",
    "seq_len = 48   # sequence length = past days for future prediction.\n",
    "input_dim = 6  # input_dimension = ['dam', '90', '100', '101', '211', '212']\n",
    "\n",
    "trainX = []\n",
    "trainY = []\n",
    "testX = []\n",
    "testY = []\n",
    "\n",
    "for i in range(seq_len, n_train-pred_days +1):\n",
    "    trainX.append(train_data_scaled[i - seq_len:i, 0:train_data_scaled.shape[1]])\n",
    "    trainY.append(train_data_scaled[i + pred_days - 1:i + pred_days, 0])\n",
    "\n",
    "for i in range(seq_len, len(test_data_scaled)-pred_days +1):\n",
    "    testX.append(test_data_scaled[i - seq_len:i, 0:test_data_scaled.shape[1]])\n",
    "    testY.append(test_data_scaled[i + pred_days - 1:i + pred_days, 0])\n",
    "\n",
    "print(trainX[0])\n",
    "print(trainY[0])\n",
    "\n",
    "trainX, trainY = np.array(trainX), np.array(trainY)\n",
    "testX, testY = np.array(testX), np.array(testY)"
   ]
  },
  {
   "cell_type": "code",
   "execution_count": 121,
   "metadata": {
    "colab": {
     "base_uri": "https://localhost:8080/"
    },
    "executionInfo": {
     "elapsed": 12,
     "status": "ok",
     "timestamp": 1713334216062,
     "user": {
      "displayName": "­이진서 / 직원 / 그린바이오과학기술연구원",
      "userId": "11108064377578484520"
     },
     "user_tz": -540
    },
    "id": "w6xCKBOanvvz",
    "outputId": "f04d3ccb-a6dc-40a8-edfc-ab34eb22b525"
   },
   "outputs": [
    {
     "name": "stdout",
     "output_type": "stream",
     "text": [
      "(7841, 48, 6) (7841, 1)\n",
      "(829, 48, 6) (829, 1)\n"
     ]
    }
   ],
   "source": [
    "print(trainX.shape, trainY.shape)\n",
    "print(testX.shape, testY.shape)"
   ]
  },
  {
   "cell_type": "code",
   "execution_count": 122,
   "metadata": {
    "colab": {
     "base_uri": "https://localhost:8080/"
    },
    "executionInfo": {
     "elapsed": 11,
     "status": "ok",
     "timestamp": 1713334216062,
     "user": {
      "displayName": "­이진서 / 직원 / 그린바이오과학기술연구원",
      "userId": "11108064377578484520"
     },
     "user_tz": -540
    },
    "id": "ABV11yxg_fPk",
    "outputId": "2e65db30-a048-4ed0-9cfe-8f1725b26d92"
   },
   "outputs": [
    {
     "name": "stdout",
     "output_type": "stream",
     "text": [
      "       dam_t-1    90  100   101  211   212\n",
      "9496    13.000   1.2  1.0   0.0  0.0   0.0\n",
      "9497    15.900   1.1  3.1   8.9  7.0   9.0\n",
      "9498    20.400   0.0  0.0   0.0  0.0   0.0\n",
      "9499    16.000   0.0  0.0   0.0  0.0   0.0\n",
      "9500    13.700  10.4  9.1  12.0  5.8  12.0\n",
      "...        ...   ...  ...   ...  ...   ...\n",
      "18257   30.518   0.0  0.0   0.0  0.0   0.0\n",
      "18258   25.873   0.0  0.0   0.0  0.0   0.0\n",
      "18259   21.186   0.0  0.0   0.0  0.0   0.0\n",
      "18260   20.887   0.7  2.3   9.9  6.8   8.5\n",
      "18261   29.183  26.8  6.0   5.3  3.1   4.9\n",
      "\n",
      "[8766 rows x 6 columns]\n"
     ]
    }
   ],
   "source": [
    "print(data)"
   ]
  },
  {
   "cell_type": "code",
   "execution_count": 123,
   "metadata": {
    "colab": {
     "base_uri": "https://localhost:8080/"
    },
    "executionInfo": {
     "elapsed": 10,
     "status": "ok",
     "timestamp": 1713334216062,
     "user": {
      "displayName": "­이진서 / 직원 / 그린바이오과학기술연구원",
      "userId": "11108064377578484520"
     },
     "user_tz": -540
    },
    "id": "r0DxPNxbnwJ3",
    "outputId": "7ffdc48b-9fbb-4873-e4ef-0fb8370be2eb"
   },
   "outputs": [
    {
     "name": "stdout",
     "output_type": "stream",
     "text": [
      "Model: \"sequential_5\"\n",
      "_________________________________________________________________\n",
      " Layer (type)                Output Shape              Param #   \n",
      "=================================================================\n",
      " simple_rnn_4 (SimpleRNN)    (None, 64)                4544      \n",
      "                                                                 \n",
      " dense_6 (Dense)             (None, 32)                2080      \n",
      "                                                                 \n",
      " dense_7 (Dense)             (None, 1)                 33        \n",
      "                                                                 \n",
      "=================================================================\n",
      "Total params: 6657 (26.00 KB)\n",
      "Trainable params: 6657 (26.00 KB)\n",
      "Non-trainable params: 0 (0.00 Byte)\n",
      "_________________________________________________________________\n"
     ]
    }
   ],
   "source": [
    "# RNN model\n",
    "model = Sequential()\n",
    "# model.add(Flatten(input_shape=(trainX.shape[1], trainX.shape[2])))\n",
    "model.add(SimpleRNN(64, activation ='relu', input_shape=(trainX.shape[1], trainX.shape[2])))\n",
    "model.add(Dense(32))\n",
    "model.add(Dense(trainY.shape[1]))\n",
    "\n",
    "model.summary()"
   ]
  },
  {
   "cell_type": "code",
   "execution_count": 124,
   "metadata": {
    "id": "XBbmyaHmnxML"
   },
   "outputs": [],
   "source": [
    "# specify your learning rate\n",
    "learning_rate = 0.01\n",
    "# create an Adam optimizer with the specified learning rate\n",
    "optimizer = Adam(learning_rate=learning_rate)\n",
    "# compile your model using the custom optimizer\n",
    "model.compile(optimizer=optimizer, loss='mse')"
   ]
  },
  {
   "cell_type": "code",
   "execution_count": 125,
   "metadata": {
    "colab": {
     "base_uri": "https://localhost:8080/",
     "height": 1000
    },
    "executionInfo": {
     "elapsed": 42162,
     "status": "ok",
     "timestamp": 1713339825706,
     "user": {
      "displayName": "­이진서 / 직원 / 그린바이오과학기술연구원",
      "userId": "11108064377578484520"
     },
     "user_tz": -540
    },
    "id": "ftq3t9DnnyIw",
    "outputId": "db756ed5-134d-4392-fb42-0ffde4a3bc7c"
   },
   "outputs": [
    {
     "name": "stdout",
     "output_type": "stream",
     "text": [
      "No weights found, training model from scratch\n",
      "Epoch 1/30\n",
      "221/221 [==============================] - 2s 5ms/step - loss: 0.0010 - val_loss: 0.0015\n",
      "Epoch 2/30\n",
      "221/221 [==============================] - 1s 5ms/step - loss: 0.0010 - val_loss: 8.7496e-04\n",
      "Epoch 3/30\n",
      "221/221 [==============================] - 1s 5ms/step - loss: 5.7849e-04 - val_loss: 6.1650e-04\n",
      "Epoch 4/30\n",
      "221/221 [==============================] - 1s 5ms/step - loss: 4.7783e-04 - val_loss: 7.4237e-04\n",
      "Epoch 5/30\n",
      "221/221 [==============================] - 1s 4ms/step - loss: 5.8567e-04 - val_loss: 0.0011\n",
      "Epoch 6/30\n",
      "221/221 [==============================] - 1s 4ms/step - loss: 4.7726e-04 - val_loss: 9.8239e-04\n",
      "Epoch 7/30\n",
      "221/221 [==============================] - 1s 5ms/step - loss: 3.8947e-04 - val_loss: 8.1005e-04\n",
      "Epoch 8/30\n",
      "221/221 [==============================] - 1s 5ms/step - loss: 3.2249e-04 - val_loss: 6.9558e-04\n",
      "Epoch 9/30\n",
      "221/221 [==============================] - 1s 4ms/step - loss: 4.0091e-04 - val_loss: 0.0010\n",
      "Epoch 10/30\n",
      "221/221 [==============================] - 1s 4ms/step - loss: 4.1326e-04 - val_loss: 8.8699e-04\n",
      "Epoch 11/30\n",
      "221/221 [==============================] - 1s 5ms/step - loss: 3.9462e-04 - val_loss: 7.7812e-04\n",
      "Epoch 12/30\n",
      "221/221 [==============================] - 1s 5ms/step - loss: 3.5232e-04 - val_loss: 8.9241e-04\n",
      "Epoch 13/30\n",
      "221/221 [==============================] - 1s 5ms/step - loss: 3.3580e-04 - val_loss: 6.9474e-04\n",
      "Epoch 14/30\n",
      "221/221 [==============================] - 1s 5ms/step - loss: 3.8058e-04 - val_loss: 6.0870e-04\n",
      "Epoch 15/30\n",
      "221/221 [==============================] - 1s 5ms/step - loss: 3.7431e-04 - val_loss: 7.5874e-04\n",
      "Epoch 16/30\n",
      "221/221 [==============================] - 1s 5ms/step - loss: 3.2426e-04 - val_loss: 7.5308e-04\n",
      "Epoch 17/30\n",
      "221/221 [==============================] - 1s 5ms/step - loss: 2.8524e-04 - val_loss: 6.6795e-04\n",
      "Epoch 18/30\n",
      "221/221 [==============================] - 1s 5ms/step - loss: 2.8009e-04 - val_loss: 8.2252e-04\n",
      "Epoch 19/30\n",
      "221/221 [==============================] - 1s 5ms/step - loss: 2.9349e-04 - val_loss: 6.6621e-04\n",
      "Epoch 20/30\n",
      "221/221 [==============================] - 1s 5ms/step - loss: 3.2438e-04 - val_loss: 7.8093e-04\n",
      "Epoch 21/30\n",
      "221/221 [==============================] - 1s 5ms/step - loss: 3.2740e-04 - val_loss: 9.0097e-04\n",
      "Epoch 22/30\n",
      "221/221 [==============================] - 1s 5ms/step - loss: 2.9196e-04 - val_loss: 5.7959e-04\n",
      "Epoch 23/30\n",
      "221/221 [==============================] - 1s 5ms/step - loss: 2.9992e-04 - val_loss: 7.8298e-04\n",
      "Epoch 24/30\n",
      "221/221 [==============================] - 1s 5ms/step - loss: 6.2134e-04 - val_loss: 7.5278e-04\n",
      "Epoch 25/30\n",
      "221/221 [==============================] - 1s 5ms/step - loss: 3.3541e-04 - val_loss: 7.9349e-04\n",
      "Epoch 26/30\n",
      "221/221 [==============================] - 1s 5ms/step - loss: 3.2795e-04 - val_loss: 6.1474e-04\n",
      "Epoch 27/30\n",
      "221/221 [==============================] - 1s 5ms/step - loss: 2.5372e-04 - val_loss: 6.2164e-04\n",
      "Epoch 28/30\n",
      "221/221 [==============================] - 1s 5ms/step - loss: 2.6862e-04 - val_loss: 5.7250e-04\n",
      "Epoch 29/30\n",
      "221/221 [==============================] - 1s 4ms/step - loss: 3.2932e-04 - val_loss: 6.4383e-04\n",
      "Epoch 30/30\n",
      "221/221 [==============================] - 1s 5ms/step - loss: 2.5902e-04 - val_loss: 6.0920e-04\n"
     ]
    },
    {
     "data": {
      "image/png": "[encoded data removed]",
      "text/plain": [
       "<Figure size 640x480 with 1 Axes>"
      ]
     },
     "metadata": {},
     "output_type": "display_data"
    }
   ],
   "source": [
    "# Try to load weights\n",
    "try:\n",
    "    model.load_weights('48dam_rnn2_weights.h5')\n",
    "    print(\"Loaded model weights from disk\")\n",
    "except:\n",
    "    print(\"No weights found, training model from scratch\")\n",
    "    # Fit the model\n",
    "    history = model.fit(trainX, trainY, epochs=30, batch_size=32,\n",
    "                    validation_split=0.1, verbose=1)\n",
    "    # Save model weights after training\n",
    "    model.save_weights('48dam_rnn2_weights.h5')\n",
    "\n",
    "    plt.plot(history.history['loss'], label='Training loss')\n",
    "    plt.plot(history.history['val_loss'], label='Validation loss')\n",
    "    plt.legend()\n",
    "    plt.show()"
   ]
  },
  {
   "cell_type": "code",
   "execution_count": 126,
   "metadata": {
    "colab": {
     "base_uri": "https://localhost:8080/",
     "height": 646
    },
    "executionInfo": {
     "elapsed": 1534,
     "status": "ok",
     "timestamp": 1713339971963,
     "user": {
      "displayName": "­이진서 / 직원 / 그린바이오과학기술연구원",
      "userId": "11108064377578484520"
     },
     "user_tz": -540
    },
    "id": "CBak2Gro47hq",
    "outputId": "f6c439aa-d4a9-45e4-dc70-0c63d9c26bf8"
   },
   "outputs": [
    {
     "name": "stdout",
     "output_type": "stream",
     "text": [
      "26/26 [==============================] - 0s 2ms/step\n",
      "(829,)\n"
     ]
    },
    {
     "data": {
      "image/png": "[encoded data removed]",
      "text/plain": [
       "<Figure size 1400x500 with 1 Axes>"
      ]
     },
     "metadata": {},
     "output_type": "display_data"
    }
   ],
   "source": [
    "prediction = model.predict(testX)\n",
    "\n",
    "y_pred = scaler_dam.inverse_transform(prediction)[:,0]\n",
    "\n",
    "testY_original = scaler_dam.inverse_transform(testY)[:,0]\n",
    "print(testY_original.shape)\n",
    "\n",
    "# plotting\n",
    "plt.figure(figsize=(14, 5))\n",
    "\n",
    "# plot original 'Open' prices\n",
    "plt.plot(dates, original_dam, color='green', label='Original Dam Flow')\n",
    "\n",
    "# plot actual vs predicted\n",
    "plt.plot(test_dates[seq_len:], testY_original, color='blue', label='Observed Dam Flow')\n",
    "plt.plot(test_dates[seq_len:], y_pred, color='red', linestyle='--', label='Predicted Dam Flow')\n",
    "plt.xlabel('Date')\n",
    "plt.ylabel('Dam Flow')\n",
    "# plt.title('Original, Actual and Predicted Dam Flow')\n",
    "plt.legend()\n",
    "plt.show()"
   ]
  },
  {
   "cell_type": "code",
   "execution_count": 127,
   "metadata": {
    "colab": {
     "base_uri": "https://localhost:8080/"
    },
    "executionInfo": {
     "elapsed": 407,
     "status": "ok",
     "timestamp": 1713339889834,
     "user": {
      "displayName": "­이진서 / 직원 / 그린바이오과학기술연구원",
      "userId": "11108064377578484520"
     },
     "user_tz": -540
    },
    "id": "JIG3qOrGJqi0",
    "outputId": "c2838abc-e4cc-4adb-e5d7-e07c24c20b76"
   },
   "outputs": [
    {
     "name": "stdout",
     "output_type": "stream",
     "text": [
      "              0          0          0\n",
      "0    2021-08-31  69.171331  94.579315\n",
      "1    2021-09-01  48.227760  35.177967\n",
      "2    2021-09-02  48.247118  37.379601\n",
      "3    2021-09-03  48.234799  25.925943\n",
      "4    2021-09-04  37.132120  17.830683\n",
      "..          ...        ...        ...\n",
      "848  2023-12-27        NaN        NaN\n",
      "849  2023-12-28        NaN        NaN\n",
      "850  2023-12-29        NaN        NaN\n",
      "851  2023-12-30        NaN        NaN\n",
      "852  2023-12-31        NaN        NaN\n",
      "\n",
      "[853 rows x 3 columns]\n"
     ]
    }
   ],
   "source": [
    "testDates = []\n",
    "for day in test_dates[24:]:\n",
    "  testDates.append(day.strftime(\"%Y-%m-%d\"))\n",
    "\n",
    "testDates = pd.DataFrame(testDates)\n",
    "pred_y = pd.DataFrame(y_pred)\n",
    "original_y = pd.DataFrame(testY_original)\n",
    "\n",
    "rnn_include_dam = pd.concat([testDates, original_y, pred_y], axis = 1)\n",
    "print(rnn_include_dam)\n",
    "\n",
    "rnn_include_dam = pd.DataFrame(rnn_include_dam)\n",
    "rnn_include_dam.to_csv(\"./data/rnn_include_dam.csv\")"
   ]
  },
  {
   "cell_type": "code",
   "execution_count": 128,
   "metadata": {
    "colab": {
     "base_uri": "https://localhost:8080/"
    },
    "executionInfo": {
     "elapsed": 585,
     "status": "ok",
     "timestamp": 1713339934083,
     "user": {
      "displayName": "­이진서 / 직원 / 그린바이오과학기술연구원",
      "userId": "11108064377578484520"
     },
     "user_tz": -540
    },
    "id": "fIpytxa6a4k5",
    "outputId": "51018bfc-f7ed-4011-dc2d-73e6a8dad381"
   },
   "outputs": [
    {
     "name": "stdout",
     "output_type": "stream",
     "text": [
      "[0.01074791 0.         0.         0.         0.         0.        ]\n",
      "              0       0     1    2    3    4    5          0          0\n",
      "0    2021-08-31  45.229   0.0  0.0  0.0  0.0  0.0  69.171331  94.579315\n",
      "1    2021-09-01  39.306  11.4  7.2  0.0  0.2  0.0  48.227760  35.177967\n",
      "2    2021-09-02  27.405   9.4  6.8  0.0  0.0  0.0  48.247118  37.379601\n",
      "3    2021-09-03  27.416   0.0  1.1  0.0  0.0  0.0  48.234799  25.925943\n",
      "4    2021-09-04  27.409   0.0  0.5  0.0  0.0  0.0  37.132120  17.830683\n",
      "..          ...     ...   ...  ...  ...  ...  ...        ...        ...\n",
      "848  2023-12-27     NaN   NaN  NaN  NaN  NaN  NaN        NaN        NaN\n",
      "849  2023-12-28     NaN   NaN  NaN  NaN  NaN  NaN        NaN        NaN\n",
      "850  2023-12-29     NaN   NaN  NaN  NaN  NaN  NaN        NaN        NaN\n",
      "851  2023-12-30     NaN   NaN  NaN  NaN  NaN  NaN        NaN        NaN\n",
      "852  2023-12-31     NaN   NaN  NaN  NaN  NaN  NaN        NaN        NaN\n",
      "\n",
      "[853 rows x 9 columns]\n"
     ]
    }
   ],
   "source": [
    "testX_last = []\n",
    "\n",
    "for x in testX:\n",
    "  testX_last.append(x[-1])\n",
    "\n",
    "print(testX_last[0])\n",
    "\n",
    "testX_last = scaler.inverse_transform(testX_last)\n",
    "testX_last = pd.DataFrame(testX_last)\n",
    "\n",
    "rnn_include_x = pd.concat([testDates, testX_last, original_y, pred_y], axis = 1)\n",
    "rnn_include_x.to_csv(\"./data/rnn_include_x.csv\")\n",
    "\n",
    "print(rnn_include_x)"
   ]
  },
  {
   "cell_type": "code",
   "execution_count": 129,
   "metadata": {
    "colab": {
     "base_uri": "https://localhost:8080/",
     "height": 481
    },
    "executionInfo": {
     "elapsed": 1013,
     "status": "ok",
     "timestamp": 1713339976375,
     "user": {
      "displayName": "­이진서 / 직원 / 그린바이오과학기술연구원",
      "userId": "11108064377578484520"
     },
     "user_tz": -540
    },
    "id": "fXGQtK4aoApN",
    "outputId": "4407d8cd-14b8-4858-c00f-2b834dcf90a0"
   },
   "outputs": [
    {
     "data": {
      "image/png": "[encoded data removed]",
      "text/plain": [
       "<Figure size 1400x500 with 1 Axes>"
      ]
     },
     "metadata": {},
     "output_type": "display_data"
    }
   ],
   "source": [
    "# Calculate the start and end indices for the zoomed plot\n",
    "zoom_start = len(test_dates) - 365*2\n",
    "zoom_end = len(test_dates)\n",
    "\n",
    "# Create the zoomed plot\n",
    "plt.figure(figsize=(14, 5))\n",
    "\n",
    "# Adjust the start index for the testY_original and y_pred arrays\n",
    "adjusted_start = zoom_start - seq_len\n",
    "\n",
    "plt.plot(test_dates[zoom_start:zoom_end],\n",
    "         testY_original[adjusted_start:zoom_end - zoom_start + adjusted_start],\n",
    "         color='blue',\n",
    "         label='Observed Dam Flow')\n",
    "\n",
    "plt.plot(test_dates[zoom_start:zoom_end],\n",
    "         y_pred[adjusted_start:zoom_end - zoom_start + adjusted_start ],\n",
    "         color='red',\n",
    "         linestyle='--',\n",
    "         label='Predicted Dam Flow')\n",
    "\n",
    "plt.xlabel('Date')\n",
    "plt.ylabel('Dam Flow')\n",
    "# plt.title('Zoomed In Actual vs Predicted Dam Flow')\n",
    "plt.legend()\n",
    "plt.show()"
   ]
  },
  {
   "cell_type": "code",
   "execution_count": 130,
   "metadata": {
    "colab": {
     "base_uri": "https://localhost:8080/",
     "height": 450
    },
    "executionInfo": {
     "elapsed": 1020,
     "status": "ok",
     "timestamp": 1713339991516,
     "user": {
      "displayName": "­이진서 / 직원 / 그린바이오과학기술연구원",
      "userId": "11108064377578484520"
     },
     "user_tz": -540
    },
    "id": "el4PPAciqI5b",
    "outputId": "b94fba16-cb5a-4534-cec3-83ea444850fc"
   },
   "outputs": [
    {
     "data": {
      "image/png": "[encoded data removed]",
      "text/plain": [
       "<Figure size 640x480 with 1 Axes>"
      ]
     },
     "metadata": {},
     "output_type": "display_data"
    }
   ],
   "source": [
    "# 일대일 그래프\n",
    "x = np.arange(0,max(max(testY_original), max(y_pred)))\n",
    "y = x\n",
    "plt.scatter(testY_original[:], y_pred[:], color = 'purple', alpha = 0.6)\n",
    "plt.plot(x,y, color = 'blue',linestyle = '--', alpha = 0.6, label = 'y = x')\n",
    "plt.xlabel('Observed')\n",
    "plt.ylabel('Predicted')\n",
    "plt.gca().set_aspect(\"equal\")\n",
    "\n",
    "# plt.legend()\n",
    "plt.show()"
   ]
  },
  {
   "cell_type": "code",
   "execution_count": 131,
   "metadata": {
    "colab": {
     "base_uri": "https://localhost:8080/"
    },
    "executionInfo": {
     "elapsed": 2,
     "status": "ok",
     "timestamp": 1713339992600,
     "user": {
      "displayName": "­이진서 / 직원 / 그린바이오과학기술연구원",
      "userId": "11108064377578484520"
     },
     "user_tz": -540
    },
    "id": "ntPIbgUHqIzJ",
    "outputId": "87031d79-3d32-49cf-9fd8-942d5c5d8cf3"
   },
   "outputs": [
    {
     "name": "stdout",
     "output_type": "stream",
     "text": [
      "RMSE : 168.22\n"
     ]
    }
   ],
   "source": [
    "#RMSE\n",
    "from sklearn.metrics import r2_score\n",
    "from sklearn.metrics import mean_squared_error\n",
    "\n",
    "rmse = np.sqrt(mean_squared_error(testY_original, y_pred))\n",
    "print('RMSE : %.2f' %(rmse))"
   ]
  },
  {
   "cell_type": "code",
   "execution_count": 132,
   "metadata": {
    "colab": {
     "base_uri": "https://localhost:8080/"
    },
    "executionInfo": {
     "elapsed": 472,
     "status": "ok",
     "timestamp": 1713339994383,
     "user": {
      "displayName": "­이진서 / 직원 / 그린바이오과학기술연구원",
      "userId": "11108064377578484520"
     },
     "user_tz": -540
    },
    "id": "XxZoV4xCqIvU",
    "outputId": "ca21017e-5e3e-4211-c4a2-8a583bcc1c6f"
   },
   "outputs": [
    {
     "name": "stdout",
     "output_type": "stream",
     "text": [
      "NSE : 0.756028\n"
     ]
    }
   ],
   "source": [
    "# NSE\n",
    "from numpy import mean\n",
    "num_sum1 = 0\n",
    "num_sum2 = 0\n",
    "num_avg = mean(testY_original[:])\n",
    "for i in range(len(testY_original)):\n",
    "  num1 = testY_original[i] - y_pred[i]\n",
    "  num_sum1 += num1**2\n",
    "  num2 = testY_original[i] - num_avg\n",
    "  num_sum2 += num2**2\n",
    "\n",
    "nse = 1 - (num_sum1 / num_sum2)\n",
    "print('NSE : %f' %nse)"
   ]
  },
  {
   "cell_type": "code",
   "execution_count": 133,
   "metadata": {
    "colab": {
     "base_uri": "https://localhost:8080/"
    },
    "executionInfo": {
     "elapsed": 2,
     "status": "ok",
     "timestamp": 1713339997660,
     "user": {
      "displayName": "­이진서 / 직원 / 그린바이오과학기술연구원",
      "userId": "11108064377578484520"
     },
     "user_tz": -540
    },
    "id": "NO2tKNhrqIoA",
    "outputId": "c102fd1f-8076-46ac-c613-f7219942e7bd"
   },
   "outputs": [
    {
     "name": "stdout",
     "output_type": "stream",
     "text": [
      "PBIAS : 3.924540\n"
     ]
    }
   ],
   "source": [
    "# PBIAS\n",
    "num_sum1 = 0\n",
    "for i in range(len(testY_original)):\n",
    "  num1 = testY_original[i] - y_pred[i]\n",
    "  num_sum1 += num1\n",
    "\n",
    "pbias = (num_sum1 / np.sum(testY_original[:])) * 100\n",
    "print('PBIAS : %f' %pbias)"
   ]
  },
  {
   "cell_type": "code",
   "execution_count": 134,
   "metadata": {
    "colab": {
     "base_uri": "https://localhost:8080/"
    },
    "executionInfo": {
     "elapsed": 306,
     "status": "ok",
     "timestamp": 1713340003734,
     "user": {
      "displayName": "­이진서 / 직원 / 그린바이오과학기술연구원",
      "userId": "11108064377578484520"
     },
     "user_tz": -540
    },
    "id": "k9y4Gv5I8SEY",
    "outputId": "683c118d-0a86-47da-a2ce-8a14dea0daba"
   },
   "outputs": [
    {
     "name": "stdout",
     "output_type": "stream",
     "text": [
      "R Square : 0.769311\n"
     ]
    }
   ],
   "source": [
    "#R^2\n",
    "import math\n",
    "\n",
    "num_sum1 = 0\n",
    "num_sum2 = 0\n",
    "num_sum3 = 0\n",
    "act_avg = mean(testY_original[:])\n",
    "pred_avg = mean(y_pred[:])\n",
    "for i in range(len(testY_original)):\n",
    "  num1 = (testY_original[i] - act_avg) * (y_pred[i] - pred_avg)\n",
    "  num_sum1 += num1\n",
    "  num2 = testY_original[i] - pred_avg\n",
    "  num_sum2 += num2**2\n",
    "  num3 = y_pred[i] - pred_avg\n",
    "  num_sum3 += num3**2\n",
    "\n",
    "r_square = (num_sum1 / (math.sqrt(num_sum2)* math.sqrt(num_sum3)))**2\n",
    "print('R Square : %f' %r_square)"
   ]
  },
  {
   "cell_type": "code",
   "execution_count": 135,
   "metadata": {
    "id": "xdETpJ6LBbEm"
   },
   "outputs": [
    {
     "name": "stdout",
     "output_type": "stream",
     "text": [
      "RMSE : 168.22\n",
      "NSE : 0.756028\n",
      "PBIAS : 3.924540\n",
      "R Square : 0.769311\n"
     ]
    }
   ],
   "source": [
    "#RMSE\n",
    "from sklearn.metrics import r2_score\n",
    "from sklearn.metrics import mean_squared_error\n",
    "\n",
    "rmse = np.sqrt(mean_squared_error(testY_original, y_pred))\n",
    "print('RMSE : %.2f' %(rmse))\n",
    "\n",
    "# NSE\n",
    "from numpy import mean\n",
    "num_sum1 = 0\n",
    "num_sum2 = 0\n",
    "num_avg = mean(testY_original[:])\n",
    "for i in range(len(testY_original)):\n",
    "  num1 = testY_original[i] - y_pred[i]\n",
    "  num_sum1 += num1**2\n",
    "  num2 = testY_original[i] - num_avg\n",
    "  num_sum2 += num2**2\n",
    "\n",
    "nse = 1 - (num_sum1 / num_sum2)\n",
    "print('NSE : %f' %nse)\n",
    "\n",
    "# PBIAS\n",
    "num_sum1 = 0\n",
    "for i in range(len(testY_original)):\n",
    "  num1 = testY_original[i] - y_pred[i]\n",
    "  num_sum1 += num1\n",
    "\n",
    "pbias = (num_sum1 / np.sum(testY_original[:])) * 100\n",
    "print('PBIAS : %f' %pbias)\n",
    "\n",
    "#R^2\n",
    "import math\n",
    "\n",
    "num_sum1 = 0\n",
    "num_sum2 = 0\n",
    "num_sum3 = 0\n",
    "act_avg = mean(testY_original[:])\n",
    "pred_avg = mean(y_pred[:])\n",
    "for i in range(len(testY_original)):\n",
    "  num1 = (testY_original[i] - act_avg) * (y_pred[i] - pred_avg)\n",
    "  num_sum1 += num1\n",
    "  num2 = testY_original[i] - pred_avg\n",
    "  num_sum2 += num2**2\n",
    "  num3 = y_pred[i] - pred_avg\n",
    "  num_sum3 += num3**2\n",
    "\n",
    "r_square = (num_sum1 / (math.sqrt(num_sum2)* math.sqrt(num_sum3)))**2\n",
    "print('R Square : %f' %r_square)"
   ]
  },
  {
   "cell_type": "code",
   "execution_count": null,
   "metadata": {},
   "outputs": [],
   "source": []
  }
 ],
 "metadata": {
  "colab": {
   "authorship_tag": "ABX9TyPWSQZfaFaZwr3vs1ZMzHUI",
   "provenance": []
  },
  "kernelspec": {
   "display_name": "Python 3 (ipykernel)",
   "language": "python",
   "name": "python3"
  },
  "language_info": {
   "codemirror_mode": {
    "name": "ipython",
    "version": 3
   },
   "file_extension": ".py",
   "mimetype": "text/x-python",
   "name": "python",
   "nbconvert_exporter": "python",
   "pygments_lexer": "ipython3",
   "version": "3.11.7"
  }
 },
 "nbformat": 4,
 "nbformat_minor": 4
}
