{
 "cells": [
  {
   "cell_type": "code",
   "execution_count": 188,
   "metadata": {
    "colab": {
     "base_uri": "https://localhost:8080/"
    },
    "executionInfo": {
     "elapsed": 29619,
     "status": "ok",
     "timestamp": 1713334374482,
     "user": {
      "displayName": "­이진서 / 직원 / 그린바이오과학기술연구원",
      "userId": "11108064377578484520"
     },
     "user_tz": -540
    },
    "id": "GQo1Ioqzm9dq",
    "outputId": "a2be94b5-d621-4ced-bf1d-4c1b886bc355"
   },
   "outputs": [],
   "source": [
    "\"\"\" LSTM prediction: stacked LSTM \"\"\"\n",
    "\n",
    "# import libraries\n",
    "import numpy as np\n",
    "import pandas as pd\n",
    "from tensorflow.keras.models import Sequential\n",
    "from tensorflow.keras.layers import LSTM, Dense\n",
    "from tensorflow.keras.optimizers import Adam\n",
    "from sklearn.preprocessing import StandardScaler, MinMaxScaler\n",
    "import matplotlib.pyplot as plt"
   ]
  },
  {
   "cell_type": "code",
   "execution_count": 189,
   "metadata": {
    "id": "NHfpFZhV1KrZ"
   },
   "outputs": [],
   "source": [
    "rain_data = pd.read_csv('rain_day.csv', encoding='utf-8')\n",
    "dam_data = pd.read_csv('dam_edit.csv', encoding='utf-8')"
   ]
  },
  {
   "cell_type": "code",
   "execution_count": 190,
   "metadata": {
    "id": "ZOSc9aW_NTX_"
   },
   "outputs": [],
   "source": [
    "data = []"
   ]
  },
  {
   "cell_type": "code",
   "execution_count": 191,
   "metadata": {
    "id": "cdLeO4e24q26"
   },
   "outputs": [],
   "source": [
    "data = pd.merge( dam_data,rain_data, on='date', how='inner')"
   ]
  },
  {
   "cell_type": "code",
   "execution_count": 192,
   "metadata": {
    "id": "_dHIpEd22O2E"
   },
   "outputs": [],
   "source": [
    "data = data.fillna(0)"
   ]
  },
  {
   "cell_type": "code",
   "execution_count": 193,
   "metadata": {
    "colab": {
     "base_uri": "https://localhost:8080/"
    },
    "executionInfo": {
     "elapsed": 7,
     "status": "ok",
     "timestamp": 1713334391357,
     "user": {
      "displayName": "­이진서 / 직원 / 그린바이오과학기술연구원",
      "userId": "11108064377578484520"
     },
     "user_tz": -540
    },
    "id": "8LCkdpxW4q0W",
    "outputId": "363dddcb-c6d8-4236-9d58-02bc0df32c7b"
   },
   "outputs": [
    {
     "name": "stdout",
     "output_type": "stream",
     "text": [
      "       Unnamed: 0        date  dam_t-1    90  100  101  211  212\n",
      "0               0  1974-01-01    0.000   0.0  0.0  0.0  0.0  0.0\n",
      "1               1  1974-01-02   10.000   0.0  0.0  0.0  0.0  0.0\n",
      "2               2  1974-01-03    9.000   0.0  0.0  0.0  0.0  0.0\n",
      "3               3  1974-01-04    4.800   0.0  0.0  0.0  0.0  0.0\n",
      "4               4  1974-01-05    6.100   0.0  0.0  0.0  0.0  0.0\n",
      "...           ...         ...      ...   ...  ...  ...  ...  ...\n",
      "18257       18257  2023-12-27   30.518   0.0  0.0  0.0  0.0  0.0\n",
      "18258       18258  2023-12-28   25.873   0.0  0.0  0.0  0.0  0.0\n",
      "18259       18259  2023-12-29   21.186   0.0  0.0  0.0  0.0  0.0\n",
      "18260       18260  2023-12-30   20.887   0.7  2.3  9.9  6.8  8.5\n",
      "18261       18261  2023-12-31   29.183  26.8  6.0  5.3  3.1  4.9\n",
      "\n",
      "[18262 rows x 8 columns]\n"
     ]
    }
   ],
   "source": [
    "print(data)"
   ]
  },
  {
   "cell_type": "code",
   "execution_count": 194,
   "metadata": {
    "id": "L3HZ4W2QucGW"
   },
   "outputs": [],
   "source": [
    "compare_data = data"
   ]
  },
  {
   "cell_type": "code",
   "execution_count": 195,
   "metadata": {
    "colab": {
     "base_uri": "https://localhost:8080/"
    },
    "executionInfo": {
     "elapsed": 6,
     "status": "ok",
     "timestamp": 1713334391357,
     "user": {
      "displayName": "­이진서 / 직원 / 그린바이오과학기술연구원",
      "userId": "11108064377578484520"
     },
     "user_tz": -540
    },
    "id": "KZQFqaNs1Ko9",
    "outputId": "bb593230-681f-455c-a1a7-c391c3ff6fa1"
   },
   "outputs": [
    {
     "name": "stdout",
     "output_type": "stream",
     "text": [
      "       Unnamed: 0        date  dam_t-1\n",
      "0               0  1974-01-01    0.000\n",
      "1               1  1974-01-02   10.000\n",
      "2               2  1974-01-03    9.000\n",
      "3               3  1974-01-04    4.800\n",
      "4               4  1974-01-05    6.100\n",
      "...           ...         ...      ...\n",
      "18257       18257  2023-12-27   30.518\n",
      "18258       18258  2023-12-28   25.873\n",
      "18259       18259  2023-12-29   21.186\n",
      "18260       18260  2023-12-30   20.887\n",
      "18261       18261  2023-12-31   29.183\n",
      "\n",
      "[18262 rows x 3 columns]\n"
     ]
    }
   ],
   "source": [
    "print(dam_data)"
   ]
  },
  {
   "cell_type": "code",
   "execution_count": 196,
   "metadata": {
    "id": "pqbh4uMo27f3"
   },
   "outputs": [],
   "source": [
    "dam_data = dam_data.drop('Unnamed: 0', axis = 1)"
   ]
  },
  {
   "cell_type": "code",
   "execution_count": 197,
   "metadata": {
    "id": "xknhG7G-xHMs"
   },
   "outputs": [],
   "source": [
    "dam = dam_data.drop('date', axis= 1)"
   ]
  },
  {
   "cell_type": "code",
   "execution_count": 198,
   "metadata": {
    "colab": {
     "base_uri": "https://localhost:8080/"
    },
    "executionInfo": {
     "elapsed": 5,
     "status": "ok",
     "timestamp": 1713334391357,
     "user": {
      "displayName": "­이진서 / 직원 / 그린바이오과학기술연구원",
      "userId": "11108064377578484520"
     },
     "user_tz": -540
    },
    "id": "wd50aIWU1Kml",
    "outputId": "c8a5dacf-2dcc-4b04-8d5e-ca86fd6bd25a"
   },
   "outputs": [
    {
     "name": "stdout",
     "output_type": "stream",
     "text": [
      "             date    90  100  101  211  212\n",
      "0      1974-01-01   0.0  0.0  0.0  0.0  0.0\n",
      "1      1974-01-02   0.0  0.0  0.0  0.0  0.0\n",
      "2      1974-01-03   0.0  0.0  0.0  0.0  0.0\n",
      "3      1974-01-04   0.0  0.0  0.0  0.0  0.0\n",
      "4      1974-01-05   0.0  0.0  0.0  0.0  0.0\n",
      "...           ...   ...  ...  ...  ...  ...\n",
      "18257  2023-12-27   0.0  0.0  0.0  0.0  0.0\n",
      "18258  2023-12-28   0.0  0.0  0.0  0.0  0.0\n",
      "18259  2023-12-29   0.0  0.0  0.0  0.0  0.0\n",
      "18260  2023-12-30   0.7  2.3  9.9  6.8  8.5\n",
      "18261  2023-12-31  26.8  6.0  5.3  3.1  4.9\n",
      "\n",
      "[18262 rows x 6 columns]\n"
     ]
    }
   ],
   "source": [
    "print(rain_data)"
   ]
  },
  {
   "cell_type": "code",
   "execution_count": 199,
   "metadata": {
    "id": "bXv8dcE91KhZ"
   },
   "outputs": [],
   "source": [
    "data = data[9496:]"
   ]
  },
  {
   "cell_type": "code",
   "execution_count": 200,
   "metadata": {},
   "outputs": [
    {
     "data": {
      "text/html": [
       "<div>\n",
       "<style scoped>\n",
       "    .dataframe tbody tr th:only-of-type {\n",
       "        vertical-align: middle;\n",
       "    }\n",
       "\n",
       "    .dataframe tbody tr th {\n",
       "        vertical-align: top;\n",
       "    }\n",
       "\n",
       "    .dataframe thead th {\n",
       "        text-align: right;\n",
       "    }\n",
       "</style>\n",
       "<table border=\"1\" class=\"dataframe\">\n",
       "  <thead>\n",
       "    <tr style=\"text-align: right;\">\n",
       "      <th></th>\n",
       "      <th>Unnamed: 0</th>\n",
       "      <th>date</th>\n",
       "      <th>dam_t-1</th>\n",
       "      <th>90</th>\n",
       "      <th>100</th>\n",
       "      <th>101</th>\n",
       "      <th>211</th>\n",
       "      <th>212</th>\n",
       "    </tr>\n",
       "  </thead>\n",
       "  <tbody>\n",
       "    <tr>\n",
       "      <th>9496</th>\n",
       "      <td>9496</td>\n",
       "      <td>2000-01-01</td>\n",
       "      <td>13.000</td>\n",
       "      <td>1.2</td>\n",
       "      <td>1.0</td>\n",
       "      <td>0.0</td>\n",
       "      <td>0.0</td>\n",
       "      <td>0.0</td>\n",
       "    </tr>\n",
       "    <tr>\n",
       "      <th>9497</th>\n",
       "      <td>9497</td>\n",
       "      <td>2000-01-02</td>\n",
       "      <td>15.900</td>\n",
       "      <td>1.1</td>\n",
       "      <td>3.1</td>\n",
       "      <td>8.9</td>\n",
       "      <td>7.0</td>\n",
       "      <td>9.0</td>\n",
       "    </tr>\n",
       "    <tr>\n",
       "      <th>9498</th>\n",
       "      <td>9498</td>\n",
       "      <td>2000-01-03</td>\n",
       "      <td>20.400</td>\n",
       "      <td>0.0</td>\n",
       "      <td>0.0</td>\n",
       "      <td>0.0</td>\n",
       "      <td>0.0</td>\n",
       "      <td>0.0</td>\n",
       "    </tr>\n",
       "    <tr>\n",
       "      <th>9499</th>\n",
       "      <td>9499</td>\n",
       "      <td>2000-01-04</td>\n",
       "      <td>16.000</td>\n",
       "      <td>0.0</td>\n",
       "      <td>0.0</td>\n",
       "      <td>0.0</td>\n",
       "      <td>0.0</td>\n",
       "      <td>0.0</td>\n",
       "    </tr>\n",
       "    <tr>\n",
       "      <th>9500</th>\n",
       "      <td>9500</td>\n",
       "      <td>2000-01-05</td>\n",
       "      <td>13.700</td>\n",
       "      <td>10.4</td>\n",
       "      <td>9.1</td>\n",
       "      <td>12.0</td>\n",
       "      <td>5.8</td>\n",
       "      <td>12.0</td>\n",
       "    </tr>\n",
       "    <tr>\n",
       "      <th>...</th>\n",
       "      <td>...</td>\n",
       "      <td>...</td>\n",
       "      <td>...</td>\n",
       "      <td>...</td>\n",
       "      <td>...</td>\n",
       "      <td>...</td>\n",
       "      <td>...</td>\n",
       "      <td>...</td>\n",
       "    </tr>\n",
       "    <tr>\n",
       "      <th>18257</th>\n",
       "      <td>18257</td>\n",
       "      <td>2023-12-27</td>\n",
       "      <td>30.518</td>\n",
       "      <td>0.0</td>\n",
       "      <td>0.0</td>\n",
       "      <td>0.0</td>\n",
       "      <td>0.0</td>\n",
       "      <td>0.0</td>\n",
       "    </tr>\n",
       "    <tr>\n",
       "      <th>18258</th>\n",
       "      <td>18258</td>\n",
       "      <td>2023-12-28</td>\n",
       "      <td>25.873</td>\n",
       "      <td>0.0</td>\n",
       "      <td>0.0</td>\n",
       "      <td>0.0</td>\n",
       "      <td>0.0</td>\n",
       "      <td>0.0</td>\n",
       "    </tr>\n",
       "    <tr>\n",
       "      <th>18259</th>\n",
       "      <td>18259</td>\n",
       "      <td>2023-12-29</td>\n",
       "      <td>21.186</td>\n",
       "      <td>0.0</td>\n",
       "      <td>0.0</td>\n",
       "      <td>0.0</td>\n",
       "      <td>0.0</td>\n",
       "      <td>0.0</td>\n",
       "    </tr>\n",
       "    <tr>\n",
       "      <th>18260</th>\n",
       "      <td>18260</td>\n",
       "      <td>2023-12-30</td>\n",
       "      <td>20.887</td>\n",
       "      <td>0.7</td>\n",
       "      <td>2.3</td>\n",
       "      <td>9.9</td>\n",
       "      <td>6.8</td>\n",
       "      <td>8.5</td>\n",
       "    </tr>\n",
       "    <tr>\n",
       "      <th>18261</th>\n",
       "      <td>18261</td>\n",
       "      <td>2023-12-31</td>\n",
       "      <td>29.183</td>\n",
       "      <td>26.8</td>\n",
       "      <td>6.0</td>\n",
       "      <td>5.3</td>\n",
       "      <td>3.1</td>\n",
       "      <td>4.9</td>\n",
       "    </tr>\n",
       "  </tbody>\n",
       "</table>\n",
       "<p>8766 rows × 8 columns</p>\n",
       "</div>"
      ],
      "text/plain": [
       "       Unnamed: 0        date  dam_t-1    90  100   101  211   212\n",
       "9496         9496  2000-01-01   13.000   1.2  1.0   0.0  0.0   0.0\n",
       "9497         9497  2000-01-02   15.900   1.1  3.1   8.9  7.0   9.0\n",
       "9498         9498  2000-01-03   20.400   0.0  0.0   0.0  0.0   0.0\n",
       "9499         9499  2000-01-04   16.000   0.0  0.0   0.0  0.0   0.0\n",
       "9500         9500  2000-01-05   13.700  10.4  9.1  12.0  5.8  12.0\n",
       "...           ...         ...      ...   ...  ...   ...  ...   ...\n",
       "18257       18257  2023-12-27   30.518   0.0  0.0   0.0  0.0   0.0\n",
       "18258       18258  2023-12-28   25.873   0.0  0.0   0.0  0.0   0.0\n",
       "18259       18259  2023-12-29   21.186   0.0  0.0   0.0  0.0   0.0\n",
       "18260       18260  2023-12-30   20.887   0.7  2.3   9.9  6.8   8.5\n",
       "18261       18261  2023-12-31   29.183  26.8  6.0   5.3  3.1   4.9\n",
       "\n",
       "[8766 rows x 8 columns]"
      ]
     },
     "execution_count": 200,
     "metadata": {},
     "output_type": "execute_result"
    }
   ],
   "source": [
    "data"
   ]
  },
  {
   "cell_type": "code",
   "execution_count": 201,
   "metadata": {
    "id": "36Yl3EaL1KfB"
   },
   "outputs": [],
   "source": [
    "original_dam = data['dam_t-1']"
   ]
  },
  {
   "cell_type": "code",
   "execution_count": 202,
   "metadata": {
    "colab": {
     "base_uri": "https://localhost:8080/"
    },
    "executionInfo": {
     "elapsed": 5,
     "status": "ok",
     "timestamp": 1713334391358,
     "user": {
      "displayName": "­이진서 / 직원 / 그린바이오과학기술연구원",
      "userId": "11108064377578484520"
     },
     "user_tz": -540
    },
    "id": "OomSV-1RnNNc",
    "outputId": "bfc1eebf-5962-424c-8eac-5e0be8b1db5c"
   },
   "outputs": [
    {
     "name": "stdout",
     "output_type": "stream",
     "text": [
      "9496     13.000\n",
      "9497     15.900\n",
      "9498     20.400\n",
      "9499     16.000\n",
      "9500     13.700\n",
      "          ...  \n",
      "18257    30.518\n",
      "18258    25.873\n",
      "18259    21.186\n",
      "18260    20.887\n",
      "18261    29.183\n",
      "Name: dam_t-1, Length: 8766, dtype: float64\n"
     ]
    }
   ],
   "source": [
    "print(original_dam)"
   ]
  },
  {
   "cell_type": "code",
   "execution_count": 203,
   "metadata": {
    "id": "bT8kYSbbnl3d"
   },
   "outputs": [],
   "source": [
    "# separate dates for future plotting\n",
    "dates = pd.to_datetime(data['date'])"
   ]
  },
  {
   "cell_type": "code",
   "execution_count": 204,
   "metadata": {
    "colab": {
     "base_uri": "https://localhost:8080/"
    },
    "executionInfo": {
     "elapsed": 13,
     "status": "ok",
     "timestamp": 1713334391891,
     "user": {
      "displayName": "­이진서 / 직원 / 그린바이오과학기술연구원",
      "userId": "11108064377578484520"
     },
     "user_tz": -540
    },
    "id": "Y6ekq36NsaOh",
    "outputId": "4de61ba8-b023-4c17-bb8c-adc8c3182c7f"
   },
   "outputs": [
    {
     "name": "stdout",
     "output_type": "stream",
     "text": [
      "       Unnamed: 0        date  dam_t-1    90  100   101  211   212\n",
      "9496         9496  2000-01-01   13.000   1.2  1.0   0.0  0.0   0.0\n",
      "9497         9497  2000-01-02   15.900   1.1  3.1   8.9  7.0   9.0\n",
      "9498         9498  2000-01-03   20.400   0.0  0.0   0.0  0.0   0.0\n",
      "9499         9499  2000-01-04   16.000   0.0  0.0   0.0  0.0   0.0\n",
      "9500         9500  2000-01-05   13.700  10.4  9.1  12.0  5.8  12.0\n",
      "...           ...         ...      ...   ...  ...   ...  ...   ...\n",
      "18257       18257  2023-12-27   30.518   0.0  0.0   0.0  0.0   0.0\n",
      "18258       18258  2023-12-28   25.873   0.0  0.0   0.0  0.0   0.0\n",
      "18259       18259  2023-12-29   21.186   0.0  0.0   0.0  0.0   0.0\n",
      "18260       18260  2023-12-30   20.887   0.7  2.3   9.9  6.8   8.5\n",
      "18261       18261  2023-12-31   29.183  26.8  6.0   5.3  3.1   4.9\n",
      "\n",
      "[8766 rows x 8 columns]\n"
     ]
    }
   ],
   "source": [
    "print(data)"
   ]
  },
  {
   "cell_type": "code",
   "execution_count": null,
   "metadata": {
    "id": "Y4QTgucjbDwY"
   },
   "outputs": [],
   "source": []
  },
  {
   "cell_type": "code",
   "execution_count": 205,
   "metadata": {
    "id": "ogA_xIwDnnZH"
   },
   "outputs": [],
   "source": [
    "# variables for training\n",
    "cols = list(data)[2:8]"
   ]
  },
  {
   "cell_type": "code",
   "execution_count": 206,
   "metadata": {
    "colab": {
     "base_uri": "https://localhost:8080/"
    },
    "executionInfo": {
     "elapsed": 12,
     "status": "ok",
     "timestamp": 1713334391891,
     "user": {
      "displayName": "­이진서 / 직원 / 그린바이오과학기술연구원",
      "userId": "11108064377578484520"
     },
     "user_tz": -540
    },
    "id": "UAxYrWfg_32w",
    "outputId": "f2042b4f-be52-44aa-f40e-3f1e720b899a"
   },
   "outputs": [
    {
     "name": "stdout",
     "output_type": "stream",
     "text": [
      "['dam_t-1', '90', '100', '101', '211', '212']\n"
     ]
    }
   ],
   "source": [
    "print(cols)"
   ]
  },
  {
   "cell_type": "code",
   "execution_count": 207,
   "metadata": {
    "colab": {
     "base_uri": "https://localhost:8080/"
    },
    "executionInfo": {
     "elapsed": 11,
     "status": "ok",
     "timestamp": 1713334391891,
     "user": {
      "displayName": "­이진서 / 직원 / 그린바이오과학기술연구원",
      "userId": "11108064377578484520"
     },
     "user_tz": -540
    },
    "id": "xaJBp2qSsaBu",
    "outputId": "180ff4c1-0d68-4179-bb7c-03f356e765cb"
   },
   "outputs": [
    {
     "name": "stdout",
     "output_type": "stream",
     "text": [
      "       Unnamed: 0        date  dam_t-1    90  100   101  211   212\n",
      "9496         9496  2000-01-01   13.000   1.2  1.0   0.0  0.0   0.0\n",
      "9497         9497  2000-01-02   15.900   1.1  3.1   8.9  7.0   9.0\n",
      "9498         9498  2000-01-03   20.400   0.0  0.0   0.0  0.0   0.0\n",
      "9499         9499  2000-01-04   16.000   0.0  0.0   0.0  0.0   0.0\n",
      "9500         9500  2000-01-05   13.700  10.4  9.1  12.0  5.8  12.0\n",
      "...           ...         ...      ...   ...  ...   ...  ...   ...\n",
      "18257       18257  2023-12-27   30.518   0.0  0.0   0.0  0.0   0.0\n",
      "18258       18258  2023-12-28   25.873   0.0  0.0   0.0  0.0   0.0\n",
      "18259       18259  2023-12-29   21.186   0.0  0.0   0.0  0.0   0.0\n",
      "18260       18260  2023-12-30   20.887   0.7  2.3   9.9  6.8   8.5\n",
      "18261       18261  2023-12-31   29.183  26.8  6.0   5.3  3.1   4.9\n",
      "\n",
      "[8766 rows x 8 columns]\n"
     ]
    }
   ],
   "source": [
    "print(data)"
   ]
  },
  {
   "cell_type": "code",
   "execution_count": 208,
   "metadata": {
    "id": "8Din6kzRnoen"
   },
   "outputs": [],
   "source": [
    "# new dataframe with only training data - 5 columns\n",
    "data = data[cols].astype(float)"
   ]
  },
  {
   "cell_type": "code",
   "execution_count": 209,
   "metadata": {
    "id": "HRrDFZ_Gnpko"
   },
   "outputs": [],
   "source": [
    "# normalize the dataset\n",
    "scaler = MinMaxScaler(feature_range = (0,1))\n",
    "dam_data_scaled = scaler.fit_transform(data)\n",
    "\n",
    "# dam_data_scaled = scaler.transform(data)"
   ]
  },
  {
   "cell_type": "code",
   "execution_count": 210,
   "metadata": {
    "id": "sC8fMiswut2i"
   },
   "outputs": [],
   "source": [
    "scaler_dam = MinMaxScaler(feature_range=(0,1))\n",
    "scaler_dam = scaler_dam.fit(dam)\n",
    "\n",
    "dam_scaled = scaler_dam.transform(dam)"
   ]
  },
  {
   "cell_type": "code",
   "execution_count": 211,
   "metadata": {
    "colab": {
     "base_uri": "https://localhost:8080/"
    },
    "executionInfo": {
     "elapsed": 6,
     "status": "ok",
     "timestamp": 1713334693090,
     "user": {
      "displayName": "­이진서 / 직원 / 그린바이오과학기술연구원",
      "userId": "11108064377578484520"
     },
     "user_tz": -540
    },
    "id": "oszHWO0UEAiO",
    "outputId": "6552909b-634d-47dc-ca8f-1c4a515d52ed"
   },
   "outputs": [
    {
     "name": "stdout",
     "output_type": "stream",
     "text": [
      "[[0.00308923 0.00325468 0.00140351 0.         0.         0.        ]\n",
      " [0.00377837 0.00298346 0.00435088 0.03390476 0.02777778 0.03522505]\n",
      " [0.00484772 0.         0.         0.         0.         0.        ]\n",
      " ...\n",
      " [0.0050345  0.         0.         0.         0.         0.        ]\n",
      " [0.00496344 0.00189856 0.00322807 0.03771429 0.02698413 0.0332681 ]\n",
      " [0.00693485 0.07268782 0.00842105 0.02019048 0.01230159 0.01917808]]\n"
     ]
    }
   ],
   "source": [
    "print(dam_data_scaled)"
   ]
  },
  {
   "cell_type": "code",
   "execution_count": 212,
   "metadata": {
    "colab": {
     "base_uri": "https://localhost:8080/"
    },
    "executionInfo": {
     "elapsed": 5,
     "status": "ok",
     "timestamp": 1713334694191,
     "user": {
      "displayName": "­이진서 / 직원 / 그린바이오과학기술연구원",
      "userId": "11108064377578484520"
     },
     "user_tz": -540
    },
    "id": "1xSw2podnqir",
    "outputId": "e564feab-f608-4332-ab30-79117e108bad"
   },
   "outputs": [
    {
     "name": "stdout",
     "output_type": "stream",
     "text": [
      "17385   2021-08-07\n",
      "17386   2021-08-08\n",
      "17387   2021-08-09\n",
      "17388   2021-08-10\n",
      "17389   2021-08-11\n",
      "Name: date, dtype: datetime64[ns]\n"
     ]
    }
   ],
   "source": [
    "# split to train data and test data\n",
    "n_train = int(0.9*dam_data_scaled.shape[0])\n",
    "train_data_scaled = dam_data_scaled[0: n_train]\n",
    "train_dates = dates[0: n_train]\n",
    "\n",
    "test_data_scaled = dam_data_scaled[n_train:]\n",
    "test_dates = dates[n_train:]\n",
    "print(test_dates.head(5))"
   ]
  },
  {
   "cell_type": "code",
   "execution_count": 213,
   "metadata": {
    "colab": {
     "base_uri": "https://localhost:8080/"
    },
    "executionInfo": {
     "elapsed": 1,
     "status": "ok",
     "timestamp": 1713334695220,
     "user": {
      "displayName": "­이진서 / 직원 / 그린바이오과학기술연구원",
      "userId": "11108064377578484520"
     },
     "user_tz": -540
    },
    "id": "ZUFo-ljhIzIm",
    "outputId": "2a149254-4532-4f4a-d060-83289212b84a"
   },
   "outputs": [
    {
     "name": "stdout",
     "output_type": "stream",
     "text": [
      "[[0.00308923 0.00325468 0.00140351 0.         0.         0.        ]\n",
      " [0.00377837 0.00298346 0.00435088 0.03390476 0.02777778 0.03522505]\n",
      " [0.00484772 0.         0.         0.         0.         0.        ]\n",
      " ...\n",
      " [0.00855836 0.         0.         0.         0.         0.        ]\n",
      " [0.00594012 0.         0.         0.         0.         0.        ]\n",
      " [0.00463028 0.04393816 0.02049123 0.00190476 0.03888889 0.0183953 ]]\n"
     ]
    }
   ],
   "source": [
    "print(train_data_scaled)"
   ]
  },
  {
   "cell_type": "code",
   "execution_count": 214,
   "metadata": {
    "colab": {
     "base_uri": "https://localhost:8080/"
    },
    "executionInfo": {
     "elapsed": 272,
     "status": "ok",
     "timestamp": 1713339756100,
     "user": {
      "displayName": "­이진서 / 직원 / 그린바이오과학기술연구원",
      "userId": "11108064377578484520"
     },
     "user_tz": -540
    },
    "id": "iCOaHw2Cnsnz",
    "outputId": "d1285ee8-647c-4674-c8fa-c1c31a4b579f"
   },
   "outputs": [
    {
     "name": "stdout",
     "output_type": "stream",
     "text": [
      "[[0.00308923 0.00325468 0.00140351 0.         0.         0.        ]\n",
      " [0.00377837 0.00298346 0.00435088 0.03390476 0.02777778 0.03522505]\n",
      " [0.00484772 0.         0.         0.         0.         0.        ]\n",
      " [0.00380213 0.         0.         0.         0.         0.        ]\n",
      " [0.00325557 0.02820721 0.01277193 0.04571429 0.02301587 0.04696673]\n",
      " [0.00520417 0.01627339 0.01136842 0.04609524 0.04325397 0.06457926]\n",
      " [0.00727157 0.         0.0002807  0.         0.         0.        ]\n",
      " [0.0025902  0.         0.00014035 0.0007619  0.         0.00039139]\n",
      " [0.00563191 0.         0.         0.         0.         0.        ]\n",
      " [0.00365955 0.         0.         0.00038095 0.00039683 0.        ]\n",
      " [0.00441998 0.00054245 0.         0.         0.         0.        ]\n",
      " [0.00437245 0.08543531 0.01080702 0.02057143 0.00396825 0.01174168]\n",
      " [0.00489524 0.0070518  0.00463158 0.0152381  0.01468254 0.01565558]\n",
      " [0.00320805 0.         0.         0.         0.         0.        ]\n",
      " [0.00306547 0.         0.         0.         0.         0.        ]\n",
      " [0.00444374 0.         0.         0.         0.         0.        ]\n",
      " [0.00256644 0.03525902 0.00968421 0.         0.         0.        ]\n",
      " [0.00289912 0.         0.         0.         0.         0.        ]\n",
      " [0.00522793 0.         0.00168421 0.0007619  0.00753968 0.00273973]\n",
      " [0.00163967 0.         0.         0.00038095 0.         0.        ]\n",
      " [0.0018773  0.         0.         0.         0.         0.        ]\n",
      " [0.00263773 0.         0.00210526 0.01028571 0.00555556 0.00665362]\n",
      " [0.00425363 0.         0.00154386 0.00266667 0.0031746  0.00430528]\n",
      " [0.00339815 0.03986981 0.         0.         0.         0.        ]\n",
      " [0.00249515 0.02468131 0.01585965 0.         0.         0.        ]\n",
      " [0.00394471 0.         0.         0.         0.         0.        ]\n",
      " [0.00171096 0.         0.00070175 0.         0.         0.        ]\n",
      " [0.00278031 0.         0.         0.         0.         0.        ]\n",
      " [0.00125946 0.         0.         0.         0.         0.        ]\n",
      " [0.004016   0.00108489 0.00168421 0.0007619  0.00079365 0.        ]\n",
      " [0.00140204 0.         0.         0.         0.         0.        ]\n",
      " [0.0033031  0.         0.         0.         0.         0.        ]\n",
      " [0.00147333 0.         0.         0.         0.         0.        ]\n",
      " [0.00163967 0.         0.00014035 0.00038095 0.00119048 0.00039139]\n",
      " [0.00384966 0.         0.         0.         0.         0.        ]\n",
      " [0.00244762 0.         0.00014035 0.00038095 0.         0.        ]\n",
      " [0.00102182 0.00027122 0.00210526 0.00304762 0.00198413 0.00195695]\n",
      " [0.00244762 0.         0.00168421 0.         0.00039683 0.00117417]\n",
      " [0.00042774 0.         0.00140351 0.         0.00119048 0.        ]\n",
      " [0.00218623 0.         0.         0.         0.         0.        ]\n",
      " [0.00301794 0.         0.         0.         0.         0.        ]\n",
      " [0.0028516  0.         0.         0.         0.00039683 0.        ]\n",
      " [0.00144956 0.         0.         0.         0.         0.        ]\n",
      " [0.00318428 0.         0.         0.         0.         0.        ]\n",
      " [0.00199612 0.         0.00126316 0.00038095 0.00595238 0.00234834]\n",
      " [0.00019011 0.         0.         0.         0.         0.        ]\n",
      " [0.00133075 0.         0.         0.         0.         0.        ]\n",
      " [0.00320805 0.         0.         0.         0.         0.        ]]\n",
      "[0.00130698]\n"
     ]
    }
   ],
   "source": [
    "# data reformatting for LSTM\n",
    "pred_days = 1  # prediction period\n",
    "seq_len = 48   # sequence length = past days for future prediction.\n",
    "input_dim = 6  # input_dimension = ['dam', '90', '100', '101', '211', '212']\n",
    "\n",
    "trainX = []\n",
    "trainY = []\n",
    "testX = []\n",
    "testY = []\n",
    "\n",
    "for i in range(seq_len, n_train-pred_days +1):\n",
    "    trainX.append(train_data_scaled[i - seq_len:i, 0:train_data_scaled.shape[1]])\n",
    "    trainY.append(train_data_scaled[i + pred_days - 1:i + pred_days , 0])\n",
    "\n",
    "for i in range(seq_len, len(test_data_scaled)-pred_days +1):\n",
    "    testX.append(test_data_scaled[i - seq_len:i, 0:test_data_scaled.shape[1]])\n",
    "    testY.append(test_data_scaled[i + pred_days - 1:i + pred_days, 0])\n",
    "\n",
    "print(trainX[0])\n",
    "print(trainY[0])\n",
    "\n",
    "trainX, trainY = np.array(trainX), np.array(trainY)\n",
    "testX, testY = np.array(testX), np.array(testY)"
   ]
  },
  {
   "cell_type": "code",
   "execution_count": 215,
   "metadata": {
    "id": "6Kb_f1MEFlyQ"
   },
   "outputs": [],
   "source": [
    "# print(trainX[:5])\n",
    "# print(trainY[:5])"
   ]
  },
  {
   "cell_type": "code",
   "execution_count": 216,
   "metadata": {
    "colab": {
     "base_uri": "https://localhost:8080/"
    },
    "executionInfo": {
     "elapsed": 2,
     "status": "ok",
     "timestamp": 1713334696140,
     "user": {
      "displayName": "­이진서 / 직원 / 그린바이오과학기술연구원",
      "userId": "11108064377578484520"
     },
     "user_tz": -540
    },
    "id": "w6xCKBOanvvz",
    "outputId": "d1513b0b-6463-448f-ef5d-1bd41950b0aa"
   },
   "outputs": [
    {
     "name": "stdout",
     "output_type": "stream",
     "text": [
      "(7841, 48, 6) (7841, 1)\n",
      "(829, 48, 6) (829, 1)\n"
     ]
    }
   ],
   "source": [
    "print(trainX.shape, trainY.shape)\n",
    "print(testX.shape, testY.shape)"
   ]
  },
  {
   "cell_type": "code",
   "execution_count": 217,
   "metadata": {
    "colab": {
     "base_uri": "https://localhost:8080/"
    },
    "executionInfo": {
     "elapsed": 4,
     "status": "ok",
     "timestamp": 1713334698159,
     "user": {
      "displayName": "­이진서 / 직원 / 그린바이오과학기술연구원",
      "userId": "11108064377578484520"
     },
     "user_tz": -540
    },
    "id": "ABV11yxg_fPk",
    "outputId": "f3c07404-1b2b-4f41-b062-55d1e29a2206"
   },
   "outputs": [
    {
     "name": "stdout",
     "output_type": "stream",
     "text": [
      "       dam_t-1    90  100   101  211   212\n",
      "9496    13.000   1.2  1.0   0.0  0.0   0.0\n",
      "9497    15.900   1.1  3.1   8.9  7.0   9.0\n",
      "9498    20.400   0.0  0.0   0.0  0.0   0.0\n",
      "9499    16.000   0.0  0.0   0.0  0.0   0.0\n",
      "9500    13.700  10.4  9.1  12.0  5.8  12.0\n",
      "...        ...   ...  ...   ...  ...   ...\n",
      "18257   30.518   0.0  0.0   0.0  0.0   0.0\n",
      "18258   25.873   0.0  0.0   0.0  0.0   0.0\n",
      "18259   21.186   0.0  0.0   0.0  0.0   0.0\n",
      "18260   20.887   0.7  2.3   9.9  6.8   8.5\n",
      "18261   29.183  26.8  6.0   5.3  3.1   4.9\n",
      "\n",
      "[8766 rows x 6 columns]\n"
     ]
    }
   ],
   "source": [
    "print(data)"
   ]
  },
  {
   "cell_type": "code",
   "execution_count": 218,
   "metadata": {
    "colab": {
     "base_uri": "https://localhost:8080/"
    },
    "executionInfo": {
     "elapsed": 1237,
     "status": "ok",
     "timestamp": 1713334737361,
     "user": {
      "displayName": "­이진서 / 직원 / 그린바이오과학기술연구원",
      "userId": "11108064377578484520"
     },
     "user_tz": -540
    },
    "id": "r0DxPNxbnwJ3",
    "outputId": "007b3da8-4c05-445a-8bdb-65bcccc5b322"
   },
   "outputs": [
    {
     "name": "stdout",
     "output_type": "stream",
     "text": [
      "Model: \"sequential_4\"\n",
      "_________________________________________________________________\n",
      " Layer (type)                Output Shape              Param #   \n",
      "=================================================================\n",
      " lstm_8 (LSTM)               (None, 48, 64)            18176     \n",
      "                                                                 \n",
      " lstm_9 (LSTM)               (None, 32)                12416     \n",
      "                                                                 \n",
      " dense_4 (Dense)             (None, 1)                 33        \n",
      "                                                                 \n",
      "=================================================================\n",
      "Total params: 30625 (119.63 KB)\n",
      "Trainable params: 30625 (119.63 KB)\n",
      "Non-trainable params: 0 (0.00 Byte)\n",
      "_________________________________________________________________\n"
     ]
    }
   ],
   "source": [
    "# LSTM model\n",
    "model = Sequential()\n",
    "model.add(LSTM(64, input_shape=(trainX.shape[1], trainX.shape[2]), # (seq length, input dimension)\n",
    "               return_sequences=True))\n",
    "model.add(LSTM(32, return_sequences=False))\n",
    "model.add(Dense(trainY.shape[1]))\n",
    "\n",
    "model.summary()"
   ]
  },
  {
   "cell_type": "code",
   "execution_count": 219,
   "metadata": {
    "id": "XBbmyaHmnxML"
   },
   "outputs": [],
   "source": [
    "# specify your learning rate\n",
    "learning_rate = 0.01\n",
    "# create an Adam optimizer with the specified learning rate\n",
    "optimizer = Adam(learning_rate=learning_rate)\n",
    "# compile your model using the custom optimizer\n",
    "model.compile(optimizer=optimizer, loss='mse')"
   ]
  },
  {
   "cell_type": "code",
   "execution_count": 220,
   "metadata": {
    "colab": {
     "base_uri": "https://localhost:8080/",
     "height": 1000
    },
    "executionInfo": {
     "elapsed": 266382,
     "status": "ok",
     "timestamp": 1713335003733,
     "user": {
      "displayName": "­이진서 / 직원 / 그린바이오과학기술연구원",
      "userId": "11108064377578484520"
     },
     "user_tz": -540
    },
    "id": "ftq3t9DnnyIw",
    "outputId": "2ac31703-8c1c-4b6b-f9fd-8f6300bef6fe"
   },
   "outputs": [
    {
     "name": "stdout",
     "output_type": "stream",
     "text": [
      "No weights found, training model from scratch\n",
      "Epoch 1/30\n",
      "221/221 [==============================] - 7s 21ms/step - loss: 0.0012 - val_loss: 5.9786e-04\n",
      "Epoch 2/30\n",
      "221/221 [==============================] - 4s 18ms/step - loss: 8.3563e-04 - val_loss: 8.3049e-04\n",
      "Epoch 3/30\n",
      "221/221 [==============================] - 4s 19ms/step - loss: 5.0233e-04 - val_loss: 0.0011\n",
      "Epoch 4/30\n",
      "221/221 [==============================] - 4s 18ms/step - loss: 5.5714e-04 - val_loss: 6.5322e-04\n",
      "Epoch 5/30\n",
      "221/221 [==============================] - 4s 18ms/step - loss: 4.3542e-04 - val_loss: 7.5093e-04\n",
      "Epoch 6/30\n",
      "221/221 [==============================] - 4s 18ms/step - loss: 3.6222e-04 - val_loss: 5.7631e-04\n",
      "Epoch 7/30\n",
      "221/221 [==============================] - 4s 18ms/step - loss: 3.2218e-04 - val_loss: 6.1441e-04\n",
      "Epoch 8/30\n",
      "221/221 [==============================] - 4s 19ms/step - loss: 2.7089e-04 - val_loss: 7.7330e-04\n",
      "Epoch 9/30\n",
      "221/221 [==============================] - 4s 18ms/step - loss: 2.8032e-04 - val_loss: 8.1440e-04\n",
      "Epoch 10/30\n",
      "221/221 [==============================] - 4s 18ms/step - loss: 2.8082e-04 - val_loss: 7.7215e-04\n",
      "Epoch 11/30\n",
      "221/221 [==============================] - 4s 18ms/step - loss: 5.0243e-04 - val_loss: 7.5043e-04\n",
      "Epoch 12/30\n",
      "221/221 [==============================] - 4s 18ms/step - loss: 2.7447e-04 - val_loss: 7.0958e-04\n",
      "Epoch 13/30\n",
      "221/221 [==============================] - 4s 18ms/step - loss: 2.5862e-04 - val_loss: 5.8038e-04\n",
      "Epoch 14/30\n",
      "221/221 [==============================] - 4s 18ms/step - loss: 2.3816e-04 - val_loss: 5.8213e-04\n",
      "Epoch 15/30\n",
      "221/221 [==============================] - 4s 18ms/step - loss: 2.0980e-04 - val_loss: 6.4792e-04\n",
      "Epoch 16/30\n",
      "221/221 [==============================] - 4s 18ms/step - loss: 2.5893e-04 - val_loss: 6.2740e-04\n",
      "Epoch 17/30\n",
      "221/221 [==============================] - 4s 18ms/step - loss: 2.4520e-04 - val_loss: 6.5924e-04\n",
      "Epoch 18/30\n",
      "221/221 [==============================] - 4s 18ms/step - loss: 2.6677e-04 - val_loss: 6.3249e-04\n",
      "Epoch 19/30\n",
      "221/221 [==============================] - 4s 18ms/step - loss: 2.4276e-04 - val_loss: 7.0499e-04\n",
      "Epoch 20/30\n",
      "221/221 [==============================] - 4s 18ms/step - loss: 2.1764e-04 - val_loss: 6.6133e-04\n",
      "Epoch 21/30\n",
      "221/221 [==============================] - 4s 18ms/step - loss: 2.1853e-04 - val_loss: 5.8634e-04\n",
      "Epoch 22/30\n",
      "221/221 [==============================] - 4s 18ms/step - loss: 2.2134e-04 - val_loss: 6.3443e-04\n",
      "Epoch 23/30\n",
      "221/221 [==============================] - 4s 18ms/step - loss: 1.9467e-04 - val_loss: 4.8856e-04\n",
      "Epoch 24/30\n",
      "221/221 [==============================] - 4s 18ms/step - loss: 1.9817e-04 - val_loss: 5.0552e-04\n",
      "Epoch 25/30\n",
      "221/221 [==============================] - 4s 18ms/step - loss: 1.9789e-04 - val_loss: 4.7941e-04\n",
      "Epoch 26/30\n",
      "221/221 [==============================] - 4s 18ms/step - loss: 1.8731e-04 - val_loss: 5.7232e-04\n",
      "Epoch 27/30\n",
      "221/221 [==============================] - 4s 18ms/step - loss: 1.8105e-04 - val_loss: 6.3815e-04\n",
      "Epoch 28/30\n",
      "221/221 [==============================] - 4s 18ms/step - loss: 1.8110e-04 - val_loss: 5.4811e-04\n",
      "Epoch 29/30\n",
      "221/221 [==============================] - 4s 18ms/step - loss: 1.9015e-04 - val_loss: 4.3579e-04\n",
      "Epoch 30/30\n",
      "221/221 [==============================] - 4s 18ms/step - loss: 1.6447e-04 - val_loss: 4.9713e-04\n"
     ]
    },
    {
     "data": {
      "image/png": "[encoded data removed]",
      "text/plain": [
       "<Figure size 640x480 with 1 Axes>"
      ]
     },
     "metadata": {},
     "output_type": "display_data"
    }
   ],
   "source": [
    "# Try to load weights\n",
    "try:\n",
    "    model.load_weights('48dam_lstm_weights.h5')\n",
    "    print(\"Loaded model weights from disk\")\n",
    "except:\n",
    "    print(\"No weights found, training model from scratch\")\n",
    "    # Fit the model\n",
    "    history = model.fit(trainX, trainY, epochs=30, batch_size=32,\n",
    "                    validation_split=0.1, verbose=1)\n",
    "    # Save model weights after training\n",
    "    model.save_weights('48dam_lstm_weights.h5')\n",
    "\n",
    "    plt.plot(history.history['loss'], label='Training loss')\n",
    "    plt.plot(history.history['val_loss'], label='Validation loss')\n",
    "    plt.legend()\n",
    "    plt.show()"
   ]
  },
  {
   "cell_type": "code",
   "execution_count": 221,
   "metadata": {
    "colab": {
     "base_uri": "https://localhost:8080/",
     "height": 542
    },
    "executionInfo": {
     "elapsed": 1661,
     "status": "ok",
     "timestamp": 1713335755298,
     "user": {
      "displayName": "­이진서 / 직원 / 그린바이오과학기술연구원",
      "userId": "11108064377578484520"
     },
     "user_tz": -540
    },
    "id": "WoP_IYSun8Vf",
    "outputId": "b7101132-c8d2-45eb-9396-3dc2ca4618ef"
   },
   "outputs": [
    {
     "name": "stdout",
     "output_type": "stream",
     "text": [
      "26/26 [==============================] - 1s 7ms/step\n",
      "(829, 1) (829, 1)\n",
      "(829,)\n"
     ]
    },
    {
     "data": {
      "image/png": "[encoded data removed]",
      "text/plain": [
       "<Figure size 1400x500 with 1 Axes>"
      ]
     },
     "metadata": {},
     "output_type": "display_data"
    }
   ],
   "source": [
    "# prediction\n",
    "prediction = model.predict(testX)\n",
    "print(prediction.shape, testY.shape)\n",
    "\n",
    "# generate array filled with means for prediction\n",
    "# mean_values_pred = np.repeat(scaler.mean_[np.newaxis, :], prediction.shape[0], axis=0)\n",
    "\n",
    "# # substitute predictions into the first column\n",
    "# mean_values_pred[:, 0] = np.squeeze(prediction)\n",
    "\n",
    "# inverse transform\n",
    "y_pred = scaler_dam.inverse_transform(prediction)[:,0]\n",
    "\n",
    "# # generate array filled with means for testY\n",
    "# mean_values_testY = np.repeat(scaler.mean_[np.newaxis, :], testY.shape[0], axis=0)\n",
    "\n",
    "# # substitute testY into the first column\n",
    "# mean_values_testY[:, 0] = np.squeeze(testY)\n",
    "\n",
    "# inverse transform\n",
    "testY_original = scaler_dam.inverse_transform(testY)[:,0]\n",
    "print(testY_original.shape)\n",
    "\n",
    "# plotting\n",
    "plt.figure(figsize=(14, 5))\n",
    "\n",
    "# plot original 'Open' prices\n",
    "plt.plot(dates, original_dam, color='green', label='Original Dam Flow')\n",
    "\n",
    "# plot actual vs predicted\n",
    "plt.plot(test_dates[seq_len:], testY_original, color='blue', label='Observed Dam Flow')\n",
    "plt.plot(test_dates[seq_len:], y_pred, color='red', linestyle='--', label='Predicted Dam Flow')\n",
    "plt.xlabel('Date')\n",
    "plt.ylabel('Dam Flow')\n",
    "plt.title('Observed and Predicted Dam Flow')\n",
    "plt.legend()\n",
    "plt.show()"
   ]
  },
  {
   "cell_type": "code",
   "execution_count": 222,
   "metadata": {
    "colab": {
     "base_uri": "https://localhost:8080/"
    },
    "executionInfo": {
     "elapsed": 410,
     "status": "ok",
     "timestamp": 1713335759860,
     "user": {
      "displayName": "­이진서 / 직원 / 그린바이오과학기술연구원",
      "userId": "11108064377578484520"
     },
     "user_tz": -540
    },
    "id": "T2wGEh7xEX_g",
    "outputId": "896f9db0-c091-4e18-b19a-0fff1d355bc6"
   },
   "outputs": [
    {
     "data": {
      "text/plain": [
       "17385   2021-08-07\n",
       "17386   2021-08-08\n",
       "17387   2021-08-09\n",
       "17388   2021-08-10\n",
       "17389   2021-08-11\n",
       "           ...    \n",
       "18257   2023-12-27\n",
       "18258   2023-12-28\n",
       "18259   2023-12-29\n",
       "18260   2023-12-30\n",
       "18261   2023-12-31\n",
       "Name: date, Length: 877, dtype: datetime64[ns]"
      ]
     },
     "execution_count": 222,
     "metadata": {},
     "output_type": "execute_result"
    }
   ],
   "source": [
    "test_dates"
   ]
  },
  {
   "cell_type": "code",
   "execution_count": 223,
   "metadata": {
    "colab": {
     "base_uri": "https://localhost:8080/"
    },
    "executionInfo": {
     "elapsed": 370,
     "status": "ok",
     "timestamp": 1713335760807,
     "user": {
      "displayName": "­이진서 / 직원 / 그린바이오과학기술연구원",
      "userId": "11108064377578484520"
     },
     "user_tz": -540
    },
    "id": "3zvLqBTuDrSI",
    "outputId": "6ed19c6f-6c2a-4c43-9a2c-857c1fc80940"
   },
   "outputs": [
    {
     "name": "stdout",
     "output_type": "stream",
     "text": [
      "              0          0           0\n",
      "0    2021-08-31  69.171331  101.085915\n",
      "1    2021-09-01  48.227760   73.866425\n",
      "2    2021-09-02  48.247118   79.395729\n",
      "3    2021-09-03  48.234799   83.479576\n",
      "4    2021-09-04  37.132120   78.909958\n",
      "..          ...        ...         ...\n",
      "848  2023-12-27        NaN         NaN\n",
      "849  2023-12-28        NaN         NaN\n",
      "850  2023-12-29        NaN         NaN\n",
      "851  2023-12-30        NaN         NaN\n",
      "852  2023-12-31        NaN         NaN\n",
      "\n",
      "[853 rows x 3 columns]\n"
     ]
    }
   ],
   "source": [
    "testDates = []\n",
    "for day in test_dates[24:]:\n",
    "  testDates.append(day.strftime(\"%Y-%m-%d\"))\n",
    "\n",
    "testDates = pd.DataFrame(testDates)\n",
    "pred_y = pd.DataFrame(y_pred)\n",
    "origin_y = pd.DataFrame(testY_original)\n",
    "\n",
    "lstm_include_dam = pd.concat([testDates, origin_y, pred_y], axis = 1)\n",
    "print(lstm_include_dam)\n",
    "\n",
    "lstm_include_dam = pd.DataFrame(lstm_include_dam)\n",
    "lstm_include_dam.to_csv(\"data/lstm_include_dam.csv\")"
   ]
  },
  {
   "cell_type": "code",
   "execution_count": 224,
   "metadata": {
    "colab": {
     "base_uri": "https://localhost:8080/"
    },
    "executionInfo": {
     "elapsed": 6,
     "status": "ok",
     "timestamp": 1713335760808,
     "user": {
      "displayName": "­이진서 / 직원 / 그린바이오과학기술연구원",
      "userId": "11108064377578484520"
     },
     "user_tz": -540
    },
    "id": "-5qlN7mbHZ6O",
    "outputId": "5ad628f0-2ec0-4c22-f728-7efa3f0740cf"
   },
   "outputs": [
    {
     "name": "stdout",
     "output_type": "stream",
     "text": [
      "[0.01074791 0.         0.         0.         0.         0.        ]\n",
      "          0     1    2    3    4    5\n",
      "0    45.229   0.0  0.0  0.0  0.0  0.0\n",
      "1    39.306  11.4  7.2  0.0  0.2  0.0\n",
      "2    27.405   9.4  6.8  0.0  0.0  0.0\n",
      "3    27.416   0.0  1.1  0.0  0.0  0.0\n",
      "4    27.409   0.0  0.5  0.0  0.0  0.0\n",
      "..      ...   ...  ...  ...  ...  ...\n",
      "824  25.785   0.0  0.0  0.0  0.0  0.0\n",
      "825  30.518   0.0  0.0  0.0  0.0  0.0\n",
      "826  25.873   0.0  0.0  0.0  0.0  0.0\n",
      "827  21.186   0.0  0.0  0.0  0.0  0.0\n",
      "828  20.887   0.7  2.3  9.9  6.8  8.5\n",
      "\n",
      "[829 rows x 6 columns]\n"
     ]
    }
   ],
   "source": [
    "testX_last = []\n",
    "\n",
    "for x in testX:\n",
    "  testX_last.append(x[-1])\n",
    "\n",
    "print(testX_last[0])\n",
    "\n",
    "testX_last = scaler.inverse_transform(testX_last)\n",
    "testX_last = pd.DataFrame(testX_last)\n",
    "\n",
    "print(testX_last)\n",
    "\n",
    "lstm_include_x = pd.concat([testDates, testX_last,origin_y,pred_y], axis = 1)\n",
    "lstm_include_x.to_csv(\"data/lstm_include_x.csv\")"
   ]
  },
  {
   "cell_type": "code",
   "execution_count": 225,
   "metadata": {
    "colab": {
     "base_uri": "https://localhost:8080/"
    },
    "executionInfo": {
     "elapsed": 4,
     "status": "ok",
     "timestamp": 1713335760808,
     "user": {
      "displayName": "­이진서 / 직원 / 그린바이오과학기술연구원",
      "userId": "11108064377578484520"
     },
     "user_tz": -540
    },
    "id": "5BGZubPbNSLM",
    "outputId": "82be9a31-c1c7-4538-fecb-5e087a2e7d86"
   },
   "outputs": [
    {
     "name": "stdout",
     "output_type": "stream",
     "text": [
      "              0       0     1    2    3    4    5          0           0\n",
      "0    2021-08-31  45.229   0.0  0.0  0.0  0.0  0.0  69.171331  101.085915\n",
      "1    2021-09-01  39.306  11.4  7.2  0.0  0.2  0.0  48.227760   73.866425\n",
      "2    2021-09-02  27.405   9.4  6.8  0.0  0.0  0.0  48.247118   79.395729\n",
      "3    2021-09-03  27.416   0.0  1.1  0.0  0.0  0.0  48.234799   83.479576\n",
      "4    2021-09-04  27.409   0.0  0.5  0.0  0.0  0.0  37.132120   78.909958\n",
      "..          ...     ...   ...  ...  ...  ...  ...        ...         ...\n",
      "848  2023-12-27     NaN   NaN  NaN  NaN  NaN  NaN        NaN         NaN\n",
      "849  2023-12-28     NaN   NaN  NaN  NaN  NaN  NaN        NaN         NaN\n",
      "850  2023-12-29     NaN   NaN  NaN  NaN  NaN  NaN        NaN         NaN\n",
      "851  2023-12-30     NaN   NaN  NaN  NaN  NaN  NaN        NaN         NaN\n",
      "852  2023-12-31     NaN   NaN  NaN  NaN  NaN  NaN        NaN         NaN\n",
      "\n",
      "[853 rows x 9 columns]\n"
     ]
    }
   ],
   "source": [
    "print(lstm_include_x)"
   ]
  },
  {
   "cell_type": "code",
   "execution_count": 226,
   "metadata": {
    "id": "sUD6rcP8X3eN"
   },
   "outputs": [],
   "source": [
    "# original_data = pd.DataFrame(testY_original)\n",
    "# prediction_data = pd.DataFrame(y_pred)\n",
    "\n",
    "# print(original_data)\n",
    "# print(prediction_data)\n",
    "\n",
    "# result = pd.concat([original_data,prediction_data],axis=1)\n",
    "# result.to_csv(\"/content/drive/MyDrive/240410/result.csv\")"
   ]
  },
  {
   "cell_type": "code",
   "execution_count": null,
   "metadata": {
    "id": "ZRKa_2xAYhQ-"
   },
   "outputs": [],
   "source": []
  },
  {
   "cell_type": "code",
   "execution_count": null,
   "metadata": {
    "id": "DafNHljDGVgS"
   },
   "outputs": [],
   "source": []
  },
  {
   "cell_type": "code",
   "execution_count": 227,
   "metadata": {
    "colab": {
     "base_uri": "https://localhost:8080/",
     "height": 487
    },
    "executionInfo": {
     "elapsed": 657,
     "status": "ok",
     "timestamp": 1713335761860,
     "user": {
      "displayName": "­이진서 / 직원 / 그린바이오과학기술연구원",
      "userId": "11108064377578484520"
     },
     "user_tz": -540
    },
    "id": "fXGQtK4aoApN",
    "outputId": "184544fa-ffbb-4d62-de41-3900e318ef68"
   },
   "outputs": [
    {
     "data": {
      "image/png": "[encoded data removed]",
      "text/plain": [
       "<Figure size 1400x500 with 1 Axes>"
      ]
     },
     "metadata": {},
     "output_type": "display_data"
    }
   ],
   "source": [
    "# Calculate the start and end indices for the zoomed plot\n",
    "zoom_start = len(test_dates) - 365*2\n",
    "zoom_end = len(test_dates)\n",
    "\n",
    "# Create the zoomed plot\n",
    "plt.figure(figsize=(14, 5))\n",
    "\n",
    "# Adjust the start index for the testY_original and y_pred arrays\n",
    "adjusted_start = zoom_start - seq_len\n",
    "\n",
    "plt.plot(test_dates[zoom_start:zoom_end],\n",
    "         testY_original[adjusted_start:zoom_end - zoom_start + adjusted_start],\n",
    "         color='blue',\n",
    "         label='Observed Dam Flow')\n",
    "\n",
    "plt.plot(test_dates[zoom_start:zoom_end],\n",
    "         y_pred[adjusted_start:zoom_end - zoom_start + adjusted_start ],\n",
    "         color='red',\n",
    "         linestyle='--',\n",
    "         label='Predicted Dam Flow')\n",
    "\n",
    "plt.xlabel('Date')\n",
    "plt.ylabel('Dam Flow)')\n",
    "plt.title('Zoomed In Observed vs Predicted Dam Flow')\n",
    "plt.legend()\n",
    "plt.show()"
   ]
  },
  {
   "cell_type": "code",
   "execution_count": 228,
   "metadata": {
    "colab": {
     "base_uri": "https://localhost:8080/",
     "height": 451
    },
    "executionInfo": {
     "elapsed": 461,
     "status": "ok",
     "timestamp": 1713335762318,
     "user": {
      "displayName": "­이진서 / 직원 / 그린바이오과학기술연구원",
      "userId": "11108064377578484520"
     },
     "user_tz": -540
    },
    "id": "el4PPAciqI5b",
    "outputId": "b6889d83-4707-4719-8e8b-847117f55e45"
   },
   "outputs": [
    {
     "data": {
      "image/png": "[encoded data removed]",
      "text/plain": [
       "<Figure size 640x480 with 1 Axes>"
      ]
     },
     "metadata": {},
     "output_type": "display_data"
    }
   ],
   "source": [
    "# 일대일 그래프\n",
    "\n",
    "import matplotlib.pyplot as plt\n",
    "\n",
    "x = np.arange(0,max(max(testY_original), max(y_pred)))\n",
    "y = x\n",
    "plt.scatter(testY_original[:], y_pred[:], color = 'purple', alpha = 0.6)\n",
    "plt.xlabel('Observed')\n",
    "plt.ylabel('Predicted')\n",
    "plt.plot(x,y, color = 'blue',linestyle ='--', alpha = 0.6)\n",
    "plt.gca().set_aspect(\"equal\")\n",
    "\n",
    "plt.show()"
   ]
  },
  {
   "cell_type": "code",
   "execution_count": null,
   "metadata": {
    "id": "EA04WPeiWiGY"
   },
   "outputs": [],
   "source": []
  },
  {
   "cell_type": "code",
   "execution_count": 229,
   "metadata": {
    "colab": {
     "base_uri": "https://localhost:8080/"
    },
    "executionInfo": {
     "elapsed": 8,
     "status": "ok",
     "timestamp": 1713335762318,
     "user": {
      "displayName": "­이진서 / 직원 / 그린바이오과학기술연구원",
      "userId": "11108064377578484520"
     },
     "user_tz": -540
    },
    "id": "ntPIbgUHqIzJ",
    "outputId": "0a8a9f09-e468-4ed1-f17f-6d4baa8f691e"
   },
   "outputs": [
    {
     "name": "stdout",
     "output_type": "stream",
     "text": [
      "RMSE : 130.19\n",
      "NSE : 0.853857\n",
      "PBIAS : -17.172891\n",
      "R Square : 0.856578\n"
     ]
    }
   ],
   "source": [
    "#RMSE\n",
    "from sklearn.metrics import r2_score\n",
    "from sklearn.metrics import mean_squared_error\n",
    "\n",
    "rmse = np.sqrt(mean_squared_error(testY_original, y_pred))\n",
    "print('RMSE : %.2f' %(rmse))\n",
    "\n",
    "# NSE\n",
    "from numpy import mean\n",
    "num_sum1 = 0\n",
    "num_sum2 = 0\n",
    "num_avg = mean(testY_original[:])\n",
    "for i in range(len(testY_original)):\n",
    "  num1 = testY_original[i] - y_pred[i]\n",
    "  num_sum1 += num1**2\n",
    "  num2 = testY_original[i] - num_avg\n",
    "  num_sum2 += num2**2\n",
    "\n",
    "nse = 1 - (num_sum1 / num_sum2)\n",
    "print('NSE : %f' %nse)\n",
    "\n",
    "# PBIAS\n",
    "num_sum1 = 0\n",
    "for i in range(len(testY_original)):\n",
    "  num1 = testY_original[i] - y_pred[i]\n",
    "  num_sum1 += num1\n",
    "\n",
    "pbias = (num_sum1 / np.sum(testY_original[:])) * 100\n",
    "print('PBIAS : %f' %pbias)\n",
    "\n",
    "#R^2\n",
    "import math\n",
    "\n",
    "num_sum1 = 0\n",
    "num_sum2 = 0\n",
    "num_sum3 = 0\n",
    "act_avg = mean(testY_original[:])\n",
    "pred_avg = mean(y_pred[:])\n",
    "for i in range(len(testY_original)):\n",
    "  num1 = (testY_original[i] - act_avg) * (y_pred[i] - pred_avg)\n",
    "  num_sum1 += num1\n",
    "  num2 = testY_original[i] - pred_avg\n",
    "  num_sum2 += num2**2\n",
    "  num3 = y_pred[i] - pred_avg\n",
    "  num_sum3 += num3**2\n",
    "\n",
    "r_square = (num_sum1 / (math.sqrt(num_sum2)* math.sqrt(num_sum3)))**2\n",
    "print('R Square : %f' %r_square)"
   ]
  },
  {
   "cell_type": "code",
   "execution_count": null,
   "metadata": {
    "colab": {
     "base_uri": "https://localhost:8080/"
    },
    "executionInfo": {
     "elapsed": 6,
     "status": "ok",
     "timestamp": 1713335762318,
     "user": {
      "displayName": "­이진서 / 직원 / 그린바이오과학기술연구원",
      "userId": "11108064377578484520"
     },
     "user_tz": -540
    },
    "id": "NO2tKNhrqIoA",
    "outputId": "a76193ad-5321-4085-a4ae-cce415aae72b"
   },
   "outputs": [],
   "source": []
  },
  {
   "cell_type": "code",
   "execution_count": null,
   "metadata": {
    "colab": {
     "base_uri": "https://localhost:8080/"
    },
    "executionInfo": {
     "elapsed": 5,
     "status": "ok",
     "timestamp": 1713335762594,
     "user": {
      "displayName": "­이진서 / 직원 / 그린바이오과학기술연구원",
      "userId": "11108064377578484520"
     },
     "user_tz": -540
    },
    "id": "k9y4Gv5I8SEY",
    "outputId": "3a3fd07e-ef48-4b79-f156-1ebcf218085d"
   },
   "outputs": [],
   "source": []
  },
  {
   "cell_type": "code",
   "execution_count": null,
   "metadata": {
    "id": "3EEMNpCZxPta"
   },
   "outputs": [],
   "source": []
  }
 ],
 "metadata": {
  "colab": {
   "authorship_tag": "ABX9TyM4J4OZD2W63z7YR17DPwVM",
   "provenance": []
  },
  "kernelspec": {
   "display_name": "Python 3 (ipykernel)",
   "language": "python",
   "name": "python3"
  },
  "language_info": {
   "codemirror_mode": {
    "name": "ipython",
    "version": 3
   },
   "file_extension": ".py",
   "mimetype": "text/x-python",
   "name": "python",
   "nbconvert_exporter": "python",
   "pygments_lexer": "ipython3",
   "version": "3.11.7"
  }
 },
 "nbformat": 4,
 "nbformat_minor": 4
}
