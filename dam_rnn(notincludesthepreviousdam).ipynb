{
 "cells": [
  {
   "cell_type": "code",
   "execution_count": 1,
   "metadata": {
    "colab": {
     "base_uri": "https://localhost:8080/"
    },
    "executionInfo": {
     "elapsed": 34915,
     "status": "ok",
     "timestamp": 1713330967551,
     "user": {
      "displayName": "­이진서 / 직원 / 그린바이오과학기술연구원",
      "userId": "11108064377578484520"
     },
     "user_tz": -540
    },
    "id": "GQo1Ioqzm9dq",
    "outputId": "86f5785d-39db-4735-bd35-f1b749fa2be0"
   },
   "outputs": [
    {
     "name": "stdout",
     "output_type": "stream",
     "text": [
      "WARNING:tensorflow:From C:\\Users\\wlstj\\AppData\\Local\\Programs\\Python\\Python311\\Lib\\site-packages\\keras\\src\\losses.py:2976: The name tf.losses.sparse_softmax_cross_entropy is deprecated. Please use tf.compat.v1.losses.sparse_softmax_cross_entropy instead.\n",
      "\n"
     ]
    }
   ],
   "source": [
    "\"\"\" RNN dam flow prediction: stacked RNN \"\"\"\n",
    "\n",
    "# import libraries\n",
    "import numpy as np\n",
    "import pandas as pd\n",
    "from tensorflow.keras.models import Sequential\n",
    "from tensorflow.keras.layers import LSTM, Dense, Flatten\n",
    "from tensorflow.keras.optimizers import Adam\n",
    "from sklearn.preprocessing import StandardScaler, MinMaxScaler\n",
    "import matplotlib.pyplot as plt\n"
   ]
  },
  {
   "cell_type": "code",
   "execution_count": 2,
   "metadata": {
    "executionInfo": {
     "elapsed": 393,
     "status": "ok",
     "timestamp": 1713330967943,
     "user": {
      "displayName": "­이진서 / 직원 / 그린바이오과학기술연구원",
      "userId": "11108064377578484520"
     },
     "user_tz": -540
    },
    "id": "NHfpFZhV1KrZ"
   },
   "outputs": [],
   "source": [
    "rain_data = pd.read_csv('rain_day.csv', encoding='utf-8')\n",
    "dam_data = pd.read_csv('total_dam.csv', encoding='utf-8')"
   ]
  },
  {
   "cell_type": "code",
   "execution_count": null,
   "metadata": {
    "executionInfo": {
     "elapsed": 2,
     "status": "ok",
     "timestamp": 1713330967944,
     "user": {
      "displayName": "­이진서 / 직원 / 그린바이오과학기술연구원",
      "userId": "11108064377578484520"
     },
     "user_tz": -540
    },
    "id": "VZX-M7NJnQ0r"
   },
   "outputs": [],
   "source": []
  },
  {
   "cell_type": "code",
   "execution_count": 3,
   "metadata": {
    "executionInfo": {
     "elapsed": 2,
     "status": "ok",
     "timestamp": 1713330967944,
     "user": {
      "displayName": "­이진서 / 직원 / 그린바이오과학기술연구원",
      "userId": "11108064377578484520"
     },
     "user_tz": -540
    },
    "id": "ZOSc9aW_NTX_"
   },
   "outputs": [],
   "source": [
    "data = []"
   ]
  },
  {
   "cell_type": "code",
   "execution_count": 4,
   "metadata": {
    "executionInfo": {
     "elapsed": 569,
     "status": "ok",
     "timestamp": 1713330968511,
     "user": {
      "displayName": "­이진서 / 직원 / 그린바이오과학기술연구원",
      "userId": "11108064377578484520"
     },
     "user_tz": -540
    },
    "id": "pqbh4uMo27f3"
   },
   "outputs": [],
   "source": [
    "dam_data = dam_data.drop('Unnamed: 0', axis = 1)"
   ]
  },
  {
   "cell_type": "code",
   "execution_count": 5,
   "metadata": {
    "executionInfo": {
     "elapsed": 20,
     "status": "ok",
     "timestamp": 1713330968511,
     "user": {
      "displayName": "­이진서 / 직원 / 그린바이오과학기술연구원",
      "userId": "11108064377578484520"
     },
     "user_tz": -540
    },
    "id": "cdLeO4e24q26"
   },
   "outputs": [],
   "source": [
    "data = pd.merge( dam_data,rain_data, on='date', how='inner')"
   ]
  },
  {
   "cell_type": "code",
   "execution_count": 6,
   "metadata": {
    "executionInfo": {
     "elapsed": 20,
     "status": "ok",
     "timestamp": 1713330968511,
     "user": {
      "displayName": "­이진서 / 직원 / 그린바이오과학기술연구원",
      "userId": "11108064377578484520"
     },
     "user_tz": -540
    },
    "id": "_dHIpEd22O2E"
   },
   "outputs": [],
   "source": [
    "data = data.fillna(0)"
   ]
  },
  {
   "cell_type": "code",
   "execution_count": 7,
   "metadata": {
    "colab": {
     "base_uri": "https://localhost:8080/"
    },
    "executionInfo": {
     "elapsed": 19,
     "status": "ok",
     "timestamp": 1713330968511,
     "user": {
      "displayName": "­이진서 / 직원 / 그린바이오과학기술연구원",
      "userId": "11108064377578484520"
     },
     "user_tz": -540
    },
    "id": "8LCkdpxW4q0W",
    "outputId": "48929a48-78a4-4339-b905-c2769dfaa9ff"
   },
   "outputs": [
    {
     "name": "stdout",
     "output_type": "stream",
     "text": [
      "             date     dam    90  100  101  211  212\n",
      "0      1974-01-01  10.000   0.0  0.0  0.0  0.0  0.0\n",
      "1      1974-01-02   9.000   0.0  0.0  0.0  0.0  0.0\n",
      "2      1974-01-03   4.800   0.0  0.0  0.0  0.0  0.0\n",
      "3      1974-01-04   6.100   0.0  0.0  0.0  0.0  0.0\n",
      "4      1974-01-05   5.800   0.0  0.0  0.0  0.0  0.0\n",
      "...           ...     ...   ...  ...  ...  ...  ...\n",
      "18257  2023-12-27  25.873   0.0  0.0  0.0  0.0  0.0\n",
      "18258  2023-12-28  21.186   0.0  0.0  0.0  0.0  0.0\n",
      "18259  2023-12-29  20.887   0.0  0.0  0.0  0.0  0.0\n",
      "18260  2023-12-30  29.183   0.7  2.3  9.9  6.8  8.5\n",
      "18261  2023-12-31  25.803  26.8  6.0  5.3  3.1  4.9\n",
      "\n",
      "[18262 rows x 7 columns]\n"
     ]
    }
   ],
   "source": [
    "print(data)"
   ]
  },
  {
   "cell_type": "code",
   "execution_count": null,
   "metadata": {
    "executionInfo": {
     "elapsed": 18,
     "status": "ok",
     "timestamp": 1713330968511,
     "user": {
      "displayName": "­이진서 / 직원 / 그린바이오과학기술연구원",
      "userId": "11108064377578484520"
     },
     "user_tz": -540
    },
    "id": "PgHrzxos-42s"
   },
   "outputs": [],
   "source": []
  },
  {
   "cell_type": "code",
   "execution_count": 8,
   "metadata": {
    "colab": {
     "base_uri": "https://localhost:8080/"
    },
    "executionInfo": {
     "elapsed": 18,
     "status": "ok",
     "timestamp": 1713330968511,
     "user": {
      "displayName": "­이진서 / 직원 / 그린바이오과학기술연구원",
      "userId": "11108064377578484520"
     },
     "user_tz": -540
    },
    "id": "KZQFqaNs1Ko9",
    "outputId": "52aabcb0-859f-4ced-92c1-ec3f02cd8c4b"
   },
   "outputs": [
    {
     "name": "stdout",
     "output_type": "stream",
     "text": [
      "             date     dam\n",
      "0      1974-01-01  10.000\n",
      "1      1974-01-02   9.000\n",
      "2      1974-01-03   4.800\n",
      "3      1974-01-04   6.100\n",
      "4      1974-01-05   5.800\n",
      "...           ...     ...\n",
      "18257  2023-12-27  25.873\n",
      "18258  2023-12-28  21.186\n",
      "18259  2023-12-29  20.887\n",
      "18260  2023-12-30  29.183\n",
      "18261  2023-12-31  25.803\n",
      "\n",
      "[18262 rows x 2 columns]\n"
     ]
    }
   ],
   "source": [
    "print(dam_data)"
   ]
  },
  {
   "cell_type": "code",
   "execution_count": 9,
   "metadata": {
    "executionInfo": {
     "elapsed": 15,
     "status": "ok",
     "timestamp": 1713330968511,
     "user": {
      "displayName": "­이진서 / 직원 / 그린바이오과학기술연구원",
      "userId": "11108064377578484520"
     },
     "user_tz": -540
    },
    "id": "gAMWMiiZ_I3c"
   },
   "outputs": [],
   "source": [
    "dam = dam_data.drop('date', axis= 1)"
   ]
  },
  {
   "cell_type": "code",
   "execution_count": 10,
   "metadata": {
    "colab": {
     "base_uri": "https://localhost:8080/"
    },
    "executionInfo": {
     "elapsed": 15,
     "status": "ok",
     "timestamp": 1713330968511,
     "user": {
      "displayName": "­이진서 / 직원 / 그린바이오과학기술연구원",
      "userId": "11108064377578484520"
     },
     "user_tz": -540
    },
    "id": "AY46nAw0nVM5",
    "outputId": "4f0d867c-10b2-40b1-a8e1-f5a7f1ca9ea6"
   },
   "outputs": [
    {
     "name": "stdout",
     "output_type": "stream",
     "text": [
      "          dam\n",
      "0      10.000\n",
      "1       9.000\n",
      "2       4.800\n",
      "3       6.100\n",
      "4       5.800\n",
      "...       ...\n",
      "18257  25.873\n",
      "18258  21.186\n",
      "18259  20.887\n",
      "18260  29.183\n",
      "18261  25.803\n",
      "\n",
      "[18262 rows x 1 columns]\n"
     ]
    }
   ],
   "source": [
    "print(dam)"
   ]
  },
  {
   "cell_type": "code",
   "execution_count": 11,
   "metadata": {
    "colab": {
     "base_uri": "https://localhost:8080/"
    },
    "executionInfo": {
     "elapsed": 13,
     "status": "ok",
     "timestamp": 1713330968511,
     "user": {
      "displayName": "­이진서 / 직원 / 그린바이오과학기술연구원",
      "userId": "11108064377578484520"
     },
     "user_tz": -540
    },
    "id": "wd50aIWU1Kml",
    "outputId": "1d92efc4-ef2e-49ba-f1f1-aad7985aed8e"
   },
   "outputs": [
    {
     "name": "stdout",
     "output_type": "stream",
     "text": [
      "             date    90  100  101  211  212\n",
      "0      1974-01-01   0.0  0.0  0.0  0.0  0.0\n",
      "1      1974-01-02   0.0  0.0  0.0  0.0  0.0\n",
      "2      1974-01-03   0.0  0.0  0.0  0.0  0.0\n",
      "3      1974-01-04   0.0  0.0  0.0  0.0  0.0\n",
      "4      1974-01-05   0.0  0.0  0.0  0.0  0.0\n",
      "...           ...   ...  ...  ...  ...  ...\n",
      "18257  2023-12-27   0.0  0.0  0.0  0.0  0.0\n",
      "18258  2023-12-28   0.0  0.0  0.0  0.0  0.0\n",
      "18259  2023-12-29   0.0  0.0  0.0  0.0  0.0\n",
      "18260  2023-12-30   0.7  2.3  9.9  6.8  8.5\n",
      "18261  2023-12-31  26.8  6.0  5.3  3.1  4.9\n",
      "\n",
      "[18262 rows x 6 columns]\n"
     ]
    }
   ],
   "source": [
    "print(rain_data)"
   ]
  },
  {
   "cell_type": "code",
   "execution_count": null,
   "metadata": {
    "executionInfo": {
     "elapsed": 12,
     "status": "ok",
     "timestamp": 1713330968511,
     "user": {
      "displayName": "­이진서 / 직원 / 그린바이오과학기술연구원",
      "userId": "11108064377578484520"
     },
     "user_tz": -540
    },
    "id": "bXv8dcE91KhZ"
   },
   "outputs": [],
   "source": []
  },
  {
   "cell_type": "code",
   "execution_count": null,
   "metadata": {
    "executionInfo": {
     "elapsed": 11,
     "status": "ok",
     "timestamp": 1713330968511,
     "user": {
      "displayName": "­이진서 / 직원 / 그린바이오과학기술연구원",
      "userId": "11108064377578484520"
     },
     "user_tz": -540
    },
    "id": "36Yl3EaL1KfB"
   },
   "outputs": [],
   "source": []
  },
  {
   "cell_type": "code",
   "execution_count": 12,
   "metadata": {
    "executionInfo": {
     "elapsed": 12,
     "status": "ok",
     "timestamp": 1713330968512,
     "user": {
      "displayName": "­이진서 / 직원 / 그린바이오과학기술연구원",
      "userId": "11108064377578484520"
     },
     "user_tz": -540
    },
    "id": "p39VaDNvnlIh"
   },
   "outputs": [],
   "source": [
    "# save original 'Open' prices for later\n",
    "original_dam = data['dam'].values"
   ]
  },
  {
   "cell_type": "code",
   "execution_count": 13,
   "metadata": {
    "executionInfo": {
     "elapsed": 12,
     "status": "ok",
     "timestamp": 1713330968512,
     "user": {
      "displayName": "­이진서 / 직원 / 그린바이오과학기술연구원",
      "userId": "11108064377578484520"
     },
     "user_tz": -540
    },
    "id": "bT8kYSbbnl3d"
   },
   "outputs": [],
   "source": [
    "# separate dates for future plotting\n",
    "dates = pd.to_datetime(data['date'])"
   ]
  },
  {
   "cell_type": "code",
   "execution_count": 14,
   "metadata": {
    "colab": {
     "base_uri": "https://localhost:8080/"
    },
    "executionInfo": {
     "elapsed": 12,
     "status": "ok",
     "timestamp": 1713330968512,
     "user": {
      "displayName": "­이진서 / 직원 / 그린바이오과학기술연구원",
      "userId": "11108064377578484520"
     },
     "user_tz": -540
    },
    "id": "Y6ekq36NsaOh",
    "outputId": "654ffccb-d509-4273-b14f-c53326250b5f"
   },
   "outputs": [
    {
     "name": "stdout",
     "output_type": "stream",
     "text": [
      "             date     dam    90  100  101  211  212\n",
      "0      1974-01-01  10.000   0.0  0.0  0.0  0.0  0.0\n",
      "1      1974-01-02   9.000   0.0  0.0  0.0  0.0  0.0\n",
      "2      1974-01-03   4.800   0.0  0.0  0.0  0.0  0.0\n",
      "3      1974-01-04   6.100   0.0  0.0  0.0  0.0  0.0\n",
      "4      1974-01-05   5.800   0.0  0.0  0.0  0.0  0.0\n",
      "...           ...     ...   ...  ...  ...  ...  ...\n",
      "18257  2023-12-27  25.873   0.0  0.0  0.0  0.0  0.0\n",
      "18258  2023-12-28  21.186   0.0  0.0  0.0  0.0  0.0\n",
      "18259  2023-12-29  20.887   0.0  0.0  0.0  0.0  0.0\n",
      "18260  2023-12-30  29.183   0.7  2.3  9.9  6.8  8.5\n",
      "18261  2023-12-31  25.803  26.8  6.0  5.3  3.1  4.9\n",
      "\n",
      "[18262 rows x 7 columns]\n"
     ]
    }
   ],
   "source": [
    "print(data)"
   ]
  },
  {
   "cell_type": "code",
   "execution_count": 15,
   "metadata": {
    "executionInfo": {
     "elapsed": 9,
     "status": "ok",
     "timestamp": 1713330968512,
     "user": {
      "displayName": "­이진서 / 직원 / 그린바이오과학기술연구원",
      "userId": "11108064377578484520"
     },
     "user_tz": -540
    },
    "id": "ogA_xIwDnnZH"
   },
   "outputs": [],
   "source": [
    "# variables for training\n",
    "cols = list(data)[1:7]"
   ]
  },
  {
   "cell_type": "code",
   "execution_count": 16,
   "metadata": {
    "colab": {
     "base_uri": "https://localhost:8080/"
    },
    "executionInfo": {
     "elapsed": 9,
     "status": "ok",
     "timestamp": 1713330968512,
     "user": {
      "displayName": "­이진서 / 직원 / 그린바이오과학기술연구원",
      "userId": "11108064377578484520"
     },
     "user_tz": -540
    },
    "id": "UAxYrWfg_32w",
    "outputId": "ee9e1609-11af-4e6b-abef-7e61bac62a16"
   },
   "outputs": [
    {
     "name": "stdout",
     "output_type": "stream",
     "text": [
      "['dam', '90', '100', '101', '211', '212']\n"
     ]
    }
   ],
   "source": [
    "print(cols)"
   ]
  },
  {
   "cell_type": "code",
   "execution_count": 17,
   "metadata": {
    "executionInfo": {
     "elapsed": 7,
     "status": "ok",
     "timestamp": 1713330968512,
     "user": {
      "displayName": "­이진서 / 직원 / 그린바이오과학기술연구원",
      "userId": "11108064377578484520"
     },
     "user_tz": -540
    },
    "id": "8Din6kzRnoen"
   },
   "outputs": [],
   "source": [
    "# new dataframe with only training data - 5 columns\n",
    "data = data[cols].astype(float)"
   ]
  },
  {
   "cell_type": "code",
   "execution_count": 18,
   "metadata": {
    "executionInfo": {
     "elapsed": 7,
     "status": "ok",
     "timestamp": 1713330968512,
     "user": {
      "displayName": "­이진서 / 직원 / 그린바이오과학기술연구원",
      "userId": "11108064377578484520"
     },
     "user_tz": -540
    },
    "id": "JfqqAusVp5OO"
   },
   "outputs": [],
   "source": [
    "dam = dam.astype(float)"
   ]
  },
  {
   "cell_type": "code",
   "execution_count": 19,
   "metadata": {
    "executionInfo": {
     "elapsed": 7,
     "status": "ok",
     "timestamp": 1713330968512,
     "user": {
      "displayName": "­이진서 / 직원 / 그린바이오과학기술연구원",
      "userId": "11108064377578484520"
     },
     "user_tz": -540
    },
    "id": "HRrDFZ_Gnpko"
   },
   "outputs": [],
   "source": [
    "# normalize the dataset\n",
    "scaler = MinMaxScaler()\n",
    "dam_data_scaled = scaler.fit_transform(data)\n",
    "\n",
    "scaler_dam = MinMaxScaler()\n",
    "dam_scaled = scaler_dam.fit_transform(dam)\n",
    "# dam_data_scaled = scaler.transform(data)"
   ]
  },
  {
   "cell_type": "code",
   "execution_count": 20,
   "metadata": {
    "executionInfo": {
     "elapsed": 7,
     "status": "ok",
     "timestamp": 1713330968512,
     "user": {
      "displayName": "­이진서 / 직원 / 그린바이오과학기술연구원",
      "userId": "11108064377578484520"
     },
     "user_tz": -540
    },
    "id": "1xSw2podnqir"
   },
   "outputs": [],
   "source": [
    "# split to train data and test data\n",
    "n_train = int(0.9*dam_data_scaled.shape[0])\n",
    "train_data_scaled = dam_data_scaled[0: n_train]\n",
    "train_dates = dates[0: n_train]\n",
    "\n",
    "test_data_scaled = dam_data_scaled[n_train:]\n",
    "test_dates = dates[n_train:]\n"
   ]
  },
  {
   "cell_type": "code",
   "execution_count": 21,
   "metadata": {
    "executionInfo": {
     "elapsed": 6,
     "status": "ok",
     "timestamp": 1713330968512,
     "user": {
      "displayName": "­이진서 / 직원 / 그린바이오과학기술연구원",
      "userId": "11108064377578484520"
     },
     "user_tz": -540
    },
    "id": "-NLgESsK7-ct"
   },
   "outputs": [],
   "source": [
    "# data.to_csv(\"/content/drive/MyDrive/240410/data.csv\")"
   ]
  },
  {
   "cell_type": "code",
   "execution_count": 22,
   "metadata": {
    "colab": {
     "base_uri": "https://localhost:8080/"
    },
    "executionInfo": {
     "elapsed": 7,
     "status": "ok",
     "timestamp": 1713330968513,
     "user": {
      "displayName": "­이진서 / 직원 / 그린바이오과학기술연구원",
      "userId": "11108064377578484520"
     },
     "user_tz": -540
    },
    "id": "34gffoFC7NZ3",
    "outputId": "2b903db5-ae31-4faa-9b44-6965d6229270"
   },
   "outputs": [
    {
     "data": {
      "text/plain": [
       "array([0.00158542, 0.        , 0.        , 0.        , 0.        ,\n",
       "       0.        ])"
      ]
     },
     "execution_count": 22,
     "metadata": {},
     "output_type": "execute_result"
    }
   ],
   "source": [
    "train_data_scaled[-1]"
   ]
  },
  {
   "cell_type": "code",
   "execution_count": 23,
   "metadata": {
    "executionInfo": {
     "elapsed": 263,
     "status": "ok",
     "timestamp": 1713330968770,
     "user": {
      "displayName": "­이진서 / 직원 / 그린바이오과학기술연구원",
      "userId": "11108064377578484520"
     },
     "user_tz": -540
    },
    "id": "iCOaHw2Cnsnz"
   },
   "outputs": [],
   "source": [
    "# data reformatting for LSTM\n",
    "pred_days = 1  # prediction period\n",
    "seq_len = 14   # sequence length = past days for future prediction.\n",
    "input_dim = 5  # input_dimension = [ '90', '100', '101', '211', '212']\n",
    "\n",
    "trainX = []\n",
    "trainY = []\n",
    "testX = []\n",
    "testY = []\n",
    "\n",
    "for i in range(seq_len, n_train-pred_days +1):\n",
    "    trainX.append(train_data_scaled[i - seq_len:i, 1:train_data_scaled.shape[1]])\n",
    "    trainY.append(train_data_scaled[i + pred_days - 2:i + pred_days-1, 0])\n",
    "\n",
    "for i in range(seq_len, len(test_data_scaled)-pred_days +1):\n",
    "    testX.append(test_data_scaled[i - seq_len:i, 1:test_data_scaled.shape[1]])\n",
    "    testY.append(test_data_scaled[i + pred_days - 2:i + pred_days-1, 0])\n",
    "\n",
    "# print(trainX[:5])\n",
    "# print(trainY[:5])\n",
    "\n",
    "trainX, trainY = np.array(trainX), np.array(trainY)\n",
    "testX, testY = np.array(testX), np.array(testY)"
   ]
  },
  {
   "cell_type": "code",
   "execution_count": 24,
   "metadata": {
    "colab": {
     "base_uri": "https://localhost:8080/"
    },
    "executionInfo": {
     "elapsed": 9,
     "status": "ok",
     "timestamp": 1713330968770,
     "user": {
      "displayName": "­이진서 / 직원 / 그린바이오과학기술연구원",
      "userId": "11108064377578484520"
     },
     "user_tz": -540
    },
    "id": "6Kb_f1MEFlyQ",
    "outputId": "a7191d1c-5175-4bef-e08a-e929d33ed2b7"
   },
   "outputs": [
    {
     "name": "stdout",
     "output_type": "stream",
     "text": [
      "[[0.00086421]\n",
      " [0.00120179]\n",
      " [0.00075618]\n",
      " ...\n",
      " [0.00074538]\n",
      " [0.00076483]\n",
      " [0.00077576]]\n"
     ]
    }
   ],
   "source": [
    "print(trainY)"
   ]
  },
  {
   "cell_type": "code",
   "execution_count": 25,
   "metadata": {
    "colab": {
     "base_uri": "https://localhost:8080/"
    },
    "executionInfo": {
     "elapsed": 9,
     "status": "ok",
     "timestamp": 1713330968770,
     "user": {
      "displayName": "­이진서 / 직원 / 그린바이오과학기술연구원",
      "userId": "11108064377578484520"
     },
     "user_tz": -540
    },
    "id": "w6xCKBOanvvz",
    "outputId": "020cb4e3-b9e5-463a-a611-ecdbebbd9374"
   },
   "outputs": [
    {
     "name": "stdout",
     "output_type": "stream",
     "text": [
      "(16421, 14, 5) (16421, 1)\n",
      "(1813, 14, 5) (1813, 1)\n"
     ]
    }
   ],
   "source": [
    "print(trainX.shape, trainY.shape)\n",
    "print(testX.shape, testY.shape)"
   ]
  },
  {
   "cell_type": "code",
   "execution_count": 26,
   "metadata": {
    "colab": {
     "base_uri": "https://localhost:8080/"
    },
    "executionInfo": {
     "elapsed": 8,
     "status": "ok",
     "timestamp": 1713330968770,
     "user": {
      "displayName": "­이진서 / 직원 / 그린바이오과학기술연구원",
      "userId": "11108064377578484520"
     },
     "user_tz": -540
    },
    "id": "ABV11yxg_fPk",
    "outputId": "90f4d8b3-496d-4b46-96d7-ed009d8ff1e0"
   },
   "outputs": [
    {
     "name": "stdout",
     "output_type": "stream",
     "text": [
      "          dam    90  100  101  211  212\n",
      "0      10.000   0.0  0.0  0.0  0.0  0.0\n",
      "1       9.000   0.0  0.0  0.0  0.0  0.0\n",
      "2       4.800   0.0  0.0  0.0  0.0  0.0\n",
      "3       6.100   0.0  0.0  0.0  0.0  0.0\n",
      "4       5.800   0.0  0.0  0.0  0.0  0.0\n",
      "...       ...   ...  ...  ...  ...  ...\n",
      "18257  25.873   0.0  0.0  0.0  0.0  0.0\n",
      "18258  21.186   0.0  0.0  0.0  0.0  0.0\n",
      "18259  20.887   0.0  0.0  0.0  0.0  0.0\n",
      "18260  29.183   0.7  2.3  9.9  6.8  8.5\n",
      "18261  25.803  26.8  6.0  5.3  3.1  4.9\n",
      "\n",
      "[18262 rows x 6 columns]\n"
     ]
    }
   ],
   "source": [
    "print(data)"
   ]
  },
  {
   "cell_type": "code",
   "execution_count": 28,
   "metadata": {
    "colab": {
     "base_uri": "https://localhost:8080/"
    },
    "executionInfo": {
     "elapsed": 6,
     "status": "ok",
     "timestamp": 1713330968770,
     "user": {
      "displayName": "­이진서 / 직원 / 그린바이오과학기술연구원",
      "userId": "11108064377578484520"
     },
     "user_tz": -540
    },
    "id": "r0DxPNxbnwJ3",
    "outputId": "29388c41-36e7-44d1-c9c3-858afdc02958"
   },
   "outputs": [
    {
     "name": "stdout",
     "output_type": "stream",
     "text": [
      "Model: \"sequential_1\"\n",
      "_________________________________________________________________\n",
      " Layer (type)                Output Shape              Param #   \n",
      "=================================================================\n",
      " flatten_1 (Flatten)         (None, 70)                0         \n",
      "                                                                 \n",
      " dense_3 (Dense)             (None, 64)                4544      \n",
      "                                                                 \n",
      " dense_4 (Dense)             (None, 32)                2080      \n",
      "                                                                 \n",
      " dense_5 (Dense)             (None, 1)                 33        \n",
      "                                                                 \n",
      "=================================================================\n",
      "Total params: 6657 (26.00 KB)\n",
      "Trainable params: 6657 (26.00 KB)\n",
      "Non-trainable params: 0 (0.00 Byte)\n",
      "_________________________________________________________________\n"
     ]
    }
   ],
   "source": [
    "# RNN model\n",
    "model = Sequential()\n",
    "model.add(Flatten(input_shape=(trainX.shape[1], trainX.shape[2])))\n",
    "model.add(Dense(64, activation= 'relu'))\n",
    "model.add(Dense(32))\n",
    "model.add(Dense(trainY.shape[1]))\n",
    "\n",
    "model.summary()"
   ]
  },
  {
   "cell_type": "code",
   "execution_count": 29,
   "metadata": {
    "executionInfo": {
     "elapsed": 3,
     "status": "ok",
     "timestamp": 1713330968771,
     "user": {
      "displayName": "­이진서 / 직원 / 그린바이오과학기술연구원",
      "userId": "11108064377578484520"
     },
     "user_tz": -540
    },
    "id": "XBbmyaHmnxML"
   },
   "outputs": [],
   "source": [
    "# specify your learning rate\n",
    "learning_rate = 0.01\n",
    "# create an Adam optimizer with the specified learning rate\n",
    "optimizer = Adam(learning_rate=learning_rate)\n",
    "# compile your model using the custom optimizer\n",
    "model.compile(optimizer=optimizer, loss='mse')"
   ]
  },
  {
   "cell_type": "code",
   "execution_count": 30,
   "metadata": {
    "colab": {
     "base_uri": "https://localhost:8080/"
    },
    "executionInfo": {
     "elapsed": 433,
     "status": "ok",
     "timestamp": 1713330969201,
     "user": {
      "displayName": "­이진서 / 직원 / 그린바이오과학기술연구원",
      "userId": "11108064377578484520"
     },
     "user_tz": -540
    },
    "id": "ftq3t9DnnyIw",
    "outputId": "ed3499b7-c56a-46dd-9a12-a9d9aa3a2f2e"
   },
   "outputs": [
    {
     "name": "stdout",
     "output_type": "stream",
     "text": [
      "No weights found, training model from scratch\n",
      "Epoch 1/30\n",
      "WARNING:tensorflow:From C:\\Users\\wlstj\\AppData\\Local\\Programs\\Python\\Python311\\Lib\\site-packages\\keras\\src\\utils\\tf_utils.py:492: The name tf.ragged.RaggedTensorValue is deprecated. Please use tf.compat.v1.ragged.RaggedTensorValue instead.\n",
      "\n",
      "462/462 [==============================] - 1s 1ms/step - loss: 5.0320e-04 - val_loss: 1.7545e-04\n",
      "Epoch 2/30\n",
      "462/462 [==============================] - 0s 1ms/step - loss: 3.3587e-04 - val_loss: 1.2789e-04\n",
      "Epoch 3/30\n",
      "462/462 [==============================] - 0s 1ms/step - loss: 1.9906e-04 - val_loss: 2.5793e-04\n",
      "Epoch 4/30\n",
      "462/462 [==============================] - 1s 1ms/step - loss: 1.7148e-04 - val_loss: 9.1199e-05\n",
      "Epoch 5/30\n",
      "462/462 [==============================] - 1s 1ms/step - loss: 1.6749e-04 - val_loss: 1.0795e-04\n",
      "Epoch 6/30\n",
      "462/462 [==============================] - 0s 1ms/step - loss: 1.7320e-04 - val_loss: 3.5065e-04\n",
      "Epoch 7/30\n",
      "462/462 [==============================] - 1s 1ms/step - loss: 2.1043e-04 - val_loss: 1.3235e-04\n",
      "Epoch 8/30\n",
      "462/462 [==============================] - 0s 1ms/step - loss: 1.4245e-04 - val_loss: 1.3130e-04\n",
      "Epoch 9/30\n",
      "462/462 [==============================] - 0s 1ms/step - loss: 1.2460e-04 - val_loss: 1.0615e-04\n",
      "Epoch 10/30\n",
      "462/462 [==============================] - 0s 1ms/step - loss: 1.9239e-04 - val_loss: 6.1711e-04\n",
      "Epoch 11/30\n",
      "462/462 [==============================] - 0s 1ms/step - loss: 6.6571e-04 - val_loss: 2.4658e-04\n",
      "Epoch 12/30\n",
      "462/462 [==============================] - 0s 1ms/step - loss: 4.2079e-04 - val_loss: 2.2273e-04\n",
      "Epoch 13/30\n",
      "462/462 [==============================] - 1s 1ms/step - loss: 4.1578e-04 - val_loss: 2.4264e-04\n",
      "Epoch 14/30\n",
      "462/462 [==============================] - 0s 1ms/step - loss: 2.6412e-04 - val_loss: 1.0804e-04\n",
      "Epoch 15/30\n",
      "462/462 [==============================] - 0s 1ms/step - loss: 1.8791e-04 - val_loss: 1.0126e-04\n",
      "Epoch 16/30\n",
      "462/462 [==============================] - 0s 1ms/step - loss: 1.9460e-04 - val_loss: 1.2675e-04\n",
      "Epoch 17/30\n",
      "462/462 [==============================] - 1s 1ms/step - loss: 1.6362e-04 - val_loss: 1.3882e-04\n",
      "Epoch 18/30\n",
      "462/462 [==============================] - 1s 1ms/step - loss: 1.5495e-04 - val_loss: 1.1744e-04\n",
      "Epoch 19/30\n",
      "462/462 [==============================] - 0s 1ms/step - loss: 1.6506e-04 - val_loss: 1.1156e-04\n",
      "Epoch 20/30\n",
      "462/462 [==============================] - 0s 1ms/step - loss: 1.5836e-04 - val_loss: 1.2876e-04\n",
      "Epoch 21/30\n",
      "462/462 [==============================] - 0s 1ms/step - loss: 1.5510e-04 - val_loss: 1.3088e-04\n",
      "Epoch 22/30\n",
      "462/462 [==============================] - 0s 1ms/step - loss: 2.1837e-04 - val_loss: 1.7328e-04\n",
      "Epoch 23/30\n",
      "462/462 [==============================] - 1s 1ms/step - loss: 1.7540e-04 - val_loss: 1.6554e-04\n",
      "Epoch 24/30\n",
      "462/462 [==============================] - 0s 1ms/step - loss: 1.4986e-04 - val_loss: 1.2238e-04\n",
      "Epoch 25/30\n",
      "462/462 [==============================] - 0s 1ms/step - loss: 1.5753e-04 - val_loss: 1.4232e-04\n",
      "Epoch 26/30\n",
      "462/462 [==============================] - 1s 1ms/step - loss: 1.3560e-04 - val_loss: 1.3878e-04\n",
      "Epoch 27/30\n",
      "462/462 [==============================] - 0s 1ms/step - loss: 1.4082e-04 - val_loss: 1.6524e-04\n",
      "Epoch 28/30\n",
      "462/462 [==============================] - 0s 1ms/step - loss: 1.2627e-04 - val_loss: 1.2234e-04\n",
      "Epoch 29/30\n",
      "462/462 [==============================] - 0s 1ms/step - loss: 3.3446e-04 - val_loss: 1.1665e-04\n",
      "Epoch 30/30\n",
      "462/462 [==============================] - 1s 1ms/step - loss: 2.6219e-04 - val_loss: 1.8216e-04\n"
     ]
    },
    {
     "data": {
      "image/png": "[encoded data removed]",
      "text/plain": [
       "<Figure size 640x480 with 1 Axes>"
      ]
     },
     "metadata": {},
     "output_type": "display_data"
    }
   ],
   "source": [
    "# Try to load weights\n",
    "try:\n",
    "    model.load_weights('dam_rnn_nodam_weights.h5')\n",
    "    print(\"Loaded model weights from disk\")\n",
    "except:\n",
    "    print(\"No weights found, training model from scratch\")\n",
    "    # Fit the model\n",
    "    history = model.fit(trainX, trainY, epochs=30, batch_size=32,\n",
    "                    validation_split=0.1, verbose=1)\n",
    "    # Save model weights after training\n",
    "    model.save_weights('dam_rnn_nodam_weights.h5')\n",
    "\n",
    "    plt.plot(history.history['loss'], label='Training loss')\n",
    "    plt.plot(history.history['val_loss'], label='Validation loss')\n",
    "    plt.legend()\n",
    "    plt.show()"
   ]
  },
  {
   "cell_type": "code",
   "execution_count": 31,
   "metadata": {
    "colab": {
     "base_uri": "https://localhost:8080/",
     "height": 505
    },
    "executionInfo": {
     "elapsed": 1284,
     "status": "ok",
     "timestamp": 1713330970483,
     "user": {
      "displayName": "­이진서 / 직원 / 그린바이오과학기술연구원",
      "userId": "11108064377578484520"
     },
     "user_tz": -540
    },
    "id": "CBak2Gro47hq",
    "outputId": "b70e0e6b-6ed6-400a-cd43-9c66512acb09"
   },
   "outputs": [
    {
     "name": "stdout",
     "output_type": "stream",
     "text": [
      "57/57 [==============================] - 0s 891us/step\n"
     ]
    },
    {
     "data": {
      "image/png": "[encoded data removed]",
      "text/plain": [
       "<Figure size 1400x500 with 1 Axes>"
      ]
     },
     "metadata": {},
     "output_type": "display_data"
    }
   ],
   "source": [
    "prediction = model.predict(testX)\n",
    "\n",
    "y_pred = (scaler_dam.inverse_transform(prediction)[:,0])\n",
    "testY_original = scaler_dam.inverse_transform(testY)[:,0]\n",
    "\n",
    "# plotting\n",
    "plt.figure(figsize=(14, 5))\n",
    "\n",
    "# plot original 'Open' prices\n",
    "plt.plot(dates, original_dam, color='green', label='Original Dam Flow')\n",
    "\n",
    "# plot actual vs predicted\n",
    "plt.plot(test_dates[seq_len:], testY_original, color='blue', label='Actual Dam Flow')\n",
    "plt.plot(test_dates[seq_len:], y_pred, color='red', linestyle='--', label='Predicted Dam Flow')\n",
    "plt.xlabel('Date')\n",
    "plt.ylabel('Dam Flow')\n",
    "plt.title('Original, Actual and Predicted Dam Flow')\n",
    "plt.legend()\n",
    "plt.show()"
   ]
  },
  {
   "cell_type": "code",
   "execution_count": 32,
   "metadata": {
    "colab": {
     "base_uri": "https://localhost:8080/"
    },
    "executionInfo": {
     "elapsed": 481,
     "status": "ok",
     "timestamp": 1713330970958,
     "user": {
      "displayName": "­이진서 / 직원 / 그린바이오과학기술연구원",
      "userId": "11108064377578484520"
     },
     "user_tz": -540
    },
    "id": "Q4AI0IrEqS7Z",
    "outputId": "bd6c519a-5f96-4c1b-81dc-ca326eea86e5"
   },
   "outputs": [
    {
     "name": "stdout",
     "output_type": "stream",
     "text": [
      "               0       0          0\n",
      "0     2019-01-14   9.100 -33.162552\n",
      "1     2019-01-15   3.300 -33.162552\n",
      "2     2019-01-16   9.100 -33.027592\n",
      "3     2019-01-17   3.200 -32.697750\n",
      "4     2019-01-18   9.100 -32.701942\n",
      "...          ...     ...        ...\n",
      "1808  2023-12-27  30.518  -2.997603\n",
      "1809  2023-12-28  25.873   1.038744\n",
      "1810  2023-12-29  21.186  -9.306540\n",
      "1811  2023-12-30  20.887 -33.088619\n",
      "1812  2023-12-31  29.183   1.582117\n",
      "\n",
      "[1813 rows x 3 columns]\n"
     ]
    }
   ],
   "source": [
    "testDates = []\n",
    "for day in test_dates[14:]:\n",
    "  testDates.append(day.strftime(\"%Y-%m-%d\"))\n",
    "\n",
    "testDates = pd.DataFrame(testDates)\n",
    "predY = pd.DataFrame(y_pred)\n",
    "originY = pd.DataFrame(testY_original)\n",
    "\n",
    "rnn_include_dam = pd.concat([testDates, originY, predY], axis = 1)\n",
    "print(rnn_include_dam)\n",
    "\n",
    "rnn_include_dam = pd.DataFrame(rnn_include_dam)\n",
    "rnn_include_dam.to_csv(\"data/rnn_notinclude_dam.csv\")"
   ]
  },
  {
   "cell_type": "code",
   "execution_count": 33,
   "metadata": {
    "colab": {
     "base_uri": "https://localhost:8080/"
    },
    "executionInfo": {
     "elapsed": 513,
     "status": "ok",
     "timestamp": 1713331123163,
     "user": {
      "displayName": "­이진서 / 직원 / 그린바이오과학기술연구원",
      "userId": "11108064377578484520"
     },
     "user_tz": -540
    },
    "id": "SZGUhRbRYzIx",
    "outputId": "4db72d4e-42e6-472d-cbc1-f76aad4583e4"
   },
   "outputs": [
    {
     "name": "stdout",
     "output_type": "stream",
     "text": [
      "[0. 0. 0. 0. 0.]\n",
      "               0          0          1           2           3           4  \\\n",
      "0     2019-01-14   0.000000   0.000000    0.000000    0.000000    0.000000   \n",
      "1     2019-01-15   0.000000   0.000000    0.000000    0.000000    0.000000   \n",
      "2     2019-01-16   0.000000   0.000000    4.801037    0.000000    0.000000   \n",
      "3     2019-01-17   0.000000   0.000000    2.400519    0.000000    0.000000   \n",
      "4     2019-01-18   0.000000   0.000000    0.000000    0.000000    0.000000   \n",
      "...          ...        ...        ...         ...         ...         ...   \n",
      "1808  2023-12-27   0.000000   0.000000    0.000000    0.000000    0.000000   \n",
      "1809  2023-12-28   0.000000   0.000000    0.000000    0.000000    0.000000   \n",
      "1810  2023-12-29   0.000000   0.000000    0.000000    0.000000    0.000000   \n",
      "1811  2023-12-30   0.000000   0.000000    0.000000    0.000000    0.000000   \n",
      "1812  2023-12-31  14.059995  23.905796  237.651345  182.589123  228.071014   \n",
      "\n",
      "           0          0  \n",
      "0      9.100 -33.162552  \n",
      "1      3.300 -33.162552  \n",
      "2      9.100 -33.027592  \n",
      "3      3.200 -32.697750  \n",
      "4      9.100 -32.701942  \n",
      "...      ...        ...  \n",
      "1808  30.518  -2.997603  \n",
      "1809  25.873   1.038744  \n",
      "1810  21.186  -9.306540  \n",
      "1811  20.887 -33.088619  \n",
      "1812  29.183   1.582117  \n",
      "\n",
      "[1813 rows x 8 columns]\n"
     ]
    }
   ],
   "source": [
    "testX_last = []\n",
    "\n",
    "for x in testX:\n",
    "  testX_last.append(x[-1])\n",
    "\n",
    "print(testX_last[0])\n",
    "\n",
    "testX_last = scaler_dam.inverse_transform(testX_last)\n",
    "testX_last = pd.DataFrame(testX_last)\n",
    "\n",
    "rnn_notinclude_x = pd.concat([testDates, testX_last, originY, predY], axis = 1)\n",
    "rnn_notinclude_x.to_csv(\"data/rnn_notinclude_x.csv\")\n",
    "\n",
    "print(rnn_notinclude_x)"
   ]
  },
  {
   "cell_type": "code",
   "execution_count": 34,
   "metadata": {
    "executionInfo": {
     "elapsed": 2,
     "status": "aborted",
     "timestamp": 1713330970958,
     "user": {
      "displayName": "­이진서 / 직원 / 그린바이오과학기술연구원",
      "userId": "11108064377578484520"
     },
     "user_tz": -540
    },
    "id": "fXGQtK4aoApN"
   },
   "outputs": [
    {
     "data": {
      "image/png": "[encoded data removed]",
      "text/plain": [
       "<Figure size 1400x500 with 1 Axes>"
      ]
     },
     "metadata": {},
     "output_type": "display_data"
    }
   ],
   "source": [
    "# Calculate the start and end indices for the zoomed plot\n",
    "zoom_start = len(test_dates) - 1813\n",
    "zoom_end = len(test_dates)\n",
    "\n",
    "# Create the zoomed plot\n",
    "plt.figure(figsize=(14, 5))\n",
    "\n",
    "# Adjust the start index for the testY_original and y_pred arrays\n",
    "adjusted_start = zoom_start - seq_len\n",
    "\n",
    "plt.plot(test_dates[zoom_start:zoom_end],\n",
    "         testY_original[adjusted_start:zoom_end - zoom_start + adjusted_start],\n",
    "         color='blue',\n",
    "         label='Actual Dam Flow')\n",
    "\n",
    "plt.plot(test_dates[zoom_start:zoom_end],\n",
    "         y_pred[adjusted_start:zoom_end - zoom_start + adjusted_start ],\n",
    "         color='red',\n",
    "         linestyle='--',\n",
    "         label='Predicted Dam Flow')\n",
    "\n",
    "plt.xlabel('Date')\n",
    "plt.ylabel('Dam Flow')\n",
    "plt.title('Zoomed In Actual vs Predicted Dam Flow')\n",
    "plt.legend()\n",
    "plt.show()"
   ]
  },
  {
   "cell_type": "code",
   "execution_count": 35,
   "metadata": {
    "executionInfo": {
     "elapsed": 2,
     "status": "aborted",
     "timestamp": 1713330970958,
     "user": {
      "displayName": "­이진서 / 직원 / 그린바이오과학기술연구원",
      "userId": "11108064377578484520"
     },
     "user_tz": -540
    },
    "id": "el4PPAciqI5b"
   },
   "outputs": [
    {
     "data": {
      "image/png": "[encoded data removed]",
      "text/plain": [
       "<Figure size 640x480 with 1 Axes>"
      ]
     },
     "metadata": {},
     "output_type": "display_data"
    }
   ],
   "source": [
    "# 일대일 그래프\n",
    "x = np.arange(0,max(max(testY_original), max(y_pred)))\n",
    "y = x\n",
    "plt.scatter(testY_original[:], y_pred[:], color = 'purple', alpha = 0.6)\n",
    "plt.plot(x,y, color = 'blue', alpha = 0.6, label = 'y = x')\n",
    "plt.xlabel('Actuals')\n",
    "plt.ylabel('Simulate')\n",
    "\n",
    "plt.legend()\n",
    "plt.show()"
   ]
  },
  {
   "cell_type": "code",
   "execution_count": 36,
   "metadata": {
    "executionInfo": {
     "elapsed": 39080,
     "status": "aborted",
     "timestamp": 1713330970958,
     "user": {
      "displayName": "­이진서 / 직원 / 그린바이오과학기술연구원",
      "userId": "11108064377578484520"
     },
     "user_tz": -540
    },
    "id": "ntPIbgUHqIzJ"
   },
   "outputs": [
    {
     "name": "stdout",
     "output_type": "stream",
     "text": [
      "RMSE : 109.62\n"
     ]
    }
   ],
   "source": [
    "#RMSE\n",
    "from sklearn.metrics import r2_score\n",
    "from sklearn.metrics import mean_squared_error\n",
    "\n",
    "rmse = np.sqrt(mean_squared_error(testY_original, y_pred))\n",
    "print('RMSE : %.2f' %(rmse))"
   ]
  },
  {
   "cell_type": "code",
   "execution_count": 37,
   "metadata": {
    "executionInfo": {
     "elapsed": 17,
     "status": "aborted",
     "timestamp": 1713330971396,
     "user": {
      "displayName": "­이진서 / 직원 / 그린바이오과학기술연구원",
      "userId": "11108064377578484520"
     },
     "user_tz": -540
    },
    "id": "XxZoV4xCqIvU"
   },
   "outputs": [
    {
     "name": "stdout",
     "output_type": "stream",
     "text": [
      "NSE : 0.695305\n"
     ]
    }
   ],
   "source": [
    "# NSE\n",
    "from numpy import mean\n",
    "num_sum1 = 0\n",
    "num_sum2 = 0\n",
    "num_avg = mean(testY_original[:])\n",
    "for i in range(len(testY_original)):\n",
    "  num1 = testY_original[i] - y_pred[i]\n",
    "  num_sum1 += num1**2\n",
    "  num2 = testY_original[i] - num_avg\n",
    "  num_sum2 += num2**2\n",
    "\n",
    "nse = 1 - (num_sum1 / num_sum2)\n",
    "print('NSE : %f' %nse)"
   ]
  },
  {
   "cell_type": "code",
   "execution_count": 38,
   "metadata": {
    "executionInfo": {
     "elapsed": 17,
     "status": "aborted",
     "timestamp": 1713330971397,
     "user": {
      "displayName": "­이진서 / 직원 / 그린바이오과학기술연구원",
      "userId": "11108064377578484520"
     },
     "user_tz": -540
    },
    "id": "NO2tKNhrqIoA"
   },
   "outputs": [
    {
     "name": "stdout",
     "output_type": "stream",
     "text": [
      "PBIAS : 78.104588\n"
     ]
    }
   ],
   "source": [
    "# PBIAS\n",
    "num_sum1 = 0\n",
    "for i in range(len(testY_original)):\n",
    "  num1 = abs(testY_original[i] - y_pred[i])\n",
    "  num_sum1 += num1\n",
    "\n",
    "pbias = (num_sum1 / np.sum(testY_original[:])) * 100\n",
    "print('PBIAS : %f' %pbias)"
   ]
  },
  {
   "cell_type": "code",
   "execution_count": 39,
   "metadata": {
    "executionInfo": {
     "elapsed": 17,
     "status": "aborted",
     "timestamp": 1713330971397,
     "user": {
      "displayName": "­이진서 / 직원 / 그린바이오과학기술연구원",
      "userId": "11108064377578484520"
     },
     "user_tz": -540
    },
    "id": "k9y4Gv5I8SEY"
   },
   "outputs": [
    {
     "name": "stdout",
     "output_type": "stream",
     "text": [
      "R Square : 0.704745\n"
     ]
    }
   ],
   "source": [
    "#R^2\n",
    "import math\n",
    "\n",
    "num_sum1 = 0\n",
    "num_sum2 = 0\n",
    "num_sum3 = 0\n",
    "act_avg = mean(testY_original[:])\n",
    "pred_avg = mean(y_pred[:])\n",
    "for i in range(len(testY_original)):\n",
    "  num1 = (testY_original[i] - act_avg) * (y_pred[i] - pred_avg)\n",
    "  num_sum1 += num1\n",
    "  num2 = testY_original[i] - pred_avg\n",
    "  num_sum2 += num2**2\n",
    "  num3 = y_pred[i] - pred_avg\n",
    "  num_sum3 += num3**2\n",
    "\n",
    "r_square = (num_sum1 / (math.sqrt(num_sum2)* math.sqrt(num_sum3)))**2\n",
    "print('R Square : %f' %r_square)"
   ]
  },
  {
   "cell_type": "code",
   "execution_count": null,
   "metadata": {
    "executionInfo": {
     "elapsed": 16,
     "status": "aborted",
     "timestamp": 1713330971397,
     "user": {
      "displayName": "­이진서 / 직원 / 그린바이오과학기술연구원",
      "userId": "11108064377578484520"
     },
     "user_tz": -540
    },
    "id": "OtmJmlSGnHOs"
   },
   "outputs": [],
   "source": [
    "print(min(testY_original), min(y_pred))"
   ]
  },
  {
   "cell_type": "code",
   "execution_count": null,
   "metadata": {
    "executionInfo": {
     "elapsed": 17,
     "status": "aborted",
     "timestamp": 1713330971399,
     "user": {
      "displayName": "­이진서 / 직원 / 그린바이오과학기술연구원",
      "userId": "11108064377578484520"
     },
     "user_tz": -540
    },
    "id": "U3JIbAt-aaBI"
   },
   "outputs": [],
   "source": []
  }
 ],
 "metadata": {
  "colab": {
   "authorship_tag": "ABX9TyMSAYNcKex6T0Kd7P+EmGTP",
   "provenance": []
  },
  "kernelspec": {
   "display_name": "Python 3 (ipykernel)",
   "language": "python",
   "name": "python3"
  },
  "language_info": {
   "codemirror_mode": {
    "name": "ipython",
    "version": 3
   },
   "file_extension": ".py",
   "mimetype": "text/x-python",
   "name": "python",
   "nbconvert_exporter": "python",
   "pygments_lexer": "ipython3",
   "version": "3.11.7"
  }
 },
 "nbformat": 4,
 "nbformat_minor": 4
}
