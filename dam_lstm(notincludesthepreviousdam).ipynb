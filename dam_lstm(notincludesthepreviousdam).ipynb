{
 "cells": [
  {
   "cell_type": "code",
   "execution_count": 2,
   "metadata": {
    "colab": {
     "base_uri": "https://localhost:8080/"
    },
    "executionInfo": {
     "elapsed": 31291,
     "status": "ok",
     "timestamp": 1713330084782,
     "user": {
      "displayName": "­이진서 / 직원 / 그린바이오과학기술연구원",
      "userId": "11108064377578484520"
     },
     "user_tz": -540
    },
    "id": "GQo1Ioqzm9dq",
    "outputId": "9952be53-1aab-4e09-9ce2-bc75c89c1ad2"
   },
   "outputs": [
    {
     "name": "stdout",
     "output_type": "stream",
     "text": [
      "WARNING:tensorflow:From C:\\Users\\wlstj\\AppData\\Local\\Programs\\Python\\Python311\\Lib\\site-packages\\keras\\src\\losses.py:2976: The name tf.losses.sparse_softmax_cross_entropy is deprecated. Please use tf.compat.v1.losses.sparse_softmax_cross_entropy instead.\n",
      "\n"
     ]
    }
   ],
   "source": [
    "\"\"\" stacked LSTM \"\"\"\n",
    "\n",
    "# import libraries\n",
    "import numpy as np\n",
    "import pandas as pd\n",
    "from tensorflow.keras.models import Sequential\n",
    "from tensorflow.keras.layers import LSTM, Dense\n",
    "from tensorflow.keras.optimizers import Adam\n",
    "from sklearn.preprocessing import StandardScaler\n",
    "import matplotlib.pyplot as plt"
   ]
  },
  {
   "cell_type": "code",
   "execution_count": 3,
   "metadata": {
    "id": "NHfpFZhV1KrZ"
   },
   "outputs": [],
   "source": [
    "rain_data = pd.read_csv('rain_day.csv', encoding='utf-8')\n",
    "dam_data = pd.read_csv('total_dam.csv', encoding='utf-8')"
   ]
  },
  {
   "cell_type": "code",
   "execution_count": 4,
   "metadata": {
    "id": "pqbh4uMo27f3"
   },
   "outputs": [],
   "source": [
    "dam_data = dam_data.drop('Unnamed: 0', axis = 1)"
   ]
  },
  {
   "cell_type": "code",
   "execution_count": 5,
   "metadata": {
    "id": "ZOSc9aW_NTX_"
   },
   "outputs": [],
   "source": [
    "data = []"
   ]
  },
  {
   "cell_type": "code",
   "execution_count": 6,
   "metadata": {
    "id": "cdLeO4e24q26"
   },
   "outputs": [],
   "source": [
    "data = pd.merge( dam_data,rain_data, on='date', how='inner')"
   ]
  },
  {
   "cell_type": "code",
   "execution_count": 7,
   "metadata": {
    "id": "_dHIpEd22O2E"
   },
   "outputs": [],
   "source": [
    "data = data.fillna(0)"
   ]
  },
  {
   "cell_type": "code",
   "execution_count": 8,
   "metadata": {
    "colab": {
     "base_uri": "https://localhost:8080/"
    },
    "executionInfo": {
     "elapsed": 443,
     "status": "ok",
     "timestamp": 1713330086626,
     "user": {
      "displayName": "­이진서 / 직원 / 그린바이오과학기술연구원",
      "userId": "11108064377578484520"
     },
     "user_tz": -540
    },
    "id": "8LCkdpxW4q0W",
    "outputId": "789b03cb-f946-47d9-829c-a52fbdbd48d3"
   },
   "outputs": [
    {
     "name": "stdout",
     "output_type": "stream",
     "text": [
      "             date     dam    90  100  101  211  212\n",
      "0      1974-01-01  10.000   0.0  0.0  0.0  0.0  0.0\n",
      "1      1974-01-02   9.000   0.0  0.0  0.0  0.0  0.0\n",
      "2      1974-01-03   4.800   0.0  0.0  0.0  0.0  0.0\n",
      "3      1974-01-04   6.100   0.0  0.0  0.0  0.0  0.0\n",
      "4      1974-01-05   5.800   0.0  0.0  0.0  0.0  0.0\n",
      "...           ...     ...   ...  ...  ...  ...  ...\n",
      "18257  2023-12-27  25.873   0.0  0.0  0.0  0.0  0.0\n",
      "18258  2023-12-28  21.186   0.0  0.0  0.0  0.0  0.0\n",
      "18259  2023-12-29  20.887   0.0  0.0  0.0  0.0  0.0\n",
      "18260  2023-12-30  29.183   0.7  2.3  9.9  6.8  8.5\n",
      "18261  2023-12-31  25.803  26.8  6.0  5.3  3.1  4.9\n",
      "\n",
      "[18262 rows x 7 columns]\n"
     ]
    }
   ],
   "source": [
    "print(data)"
   ]
  },
  {
   "cell_type": "code",
   "execution_count": null,
   "metadata": {
    "id": "bXv8dcE91KhZ"
   },
   "outputs": [],
   "source": []
  },
  {
   "cell_type": "code",
   "execution_count": null,
   "metadata": {
    "id": "36Yl3EaL1KfB"
   },
   "outputs": [],
   "source": []
  },
  {
   "cell_type": "code",
   "execution_count": 9,
   "metadata": {
    "id": "p39VaDNvnlIh"
   },
   "outputs": [],
   "source": [
    "# save original 'Open' prices for later\n",
    "original_dam = data['dam'].values"
   ]
  },
  {
   "cell_type": "code",
   "execution_count": 10,
   "metadata": {
    "id": "bT8kYSbbnl3d"
   },
   "outputs": [],
   "source": [
    "# separate dates for future plotting\n",
    "dates = pd.to_datetime(data['date'])"
   ]
  },
  {
   "cell_type": "code",
   "execution_count": 11,
   "metadata": {
    "colab": {
     "base_uri": "https://localhost:8080/"
    },
    "executionInfo": {
     "elapsed": 6,
     "status": "ok",
     "timestamp": 1713330086627,
     "user": {
      "displayName": "­이진서 / 직원 / 그린바이오과학기술연구원",
      "userId": "11108064377578484520"
     },
     "user_tz": -540
    },
    "id": "Y6ekq36NsaOh",
    "outputId": "ac693190-4ba9-46b1-fda6-2ef875811af9"
   },
   "outputs": [
    {
     "name": "stdout",
     "output_type": "stream",
     "text": [
      "             date     dam    90  100  101  211  212\n",
      "0      1974-01-01  10.000   0.0  0.0  0.0  0.0  0.0\n",
      "1      1974-01-02   9.000   0.0  0.0  0.0  0.0  0.0\n",
      "2      1974-01-03   4.800   0.0  0.0  0.0  0.0  0.0\n",
      "3      1974-01-04   6.100   0.0  0.0  0.0  0.0  0.0\n",
      "4      1974-01-05   5.800   0.0  0.0  0.0  0.0  0.0\n",
      "...           ...     ...   ...  ...  ...  ...  ...\n",
      "18257  2023-12-27  25.873   0.0  0.0  0.0  0.0  0.0\n",
      "18258  2023-12-28  21.186   0.0  0.0  0.0  0.0  0.0\n",
      "18259  2023-12-29  20.887   0.0  0.0  0.0  0.0  0.0\n",
      "18260  2023-12-30  29.183   0.7  2.3  9.9  6.8  8.5\n",
      "18261  2023-12-31  25.803  26.8  6.0  5.3  3.1  4.9\n",
      "\n",
      "[18262 rows x 7 columns]\n"
     ]
    }
   ],
   "source": [
    "print(data)"
   ]
  },
  {
   "cell_type": "code",
   "execution_count": 12,
   "metadata": {
    "id": "ogA_xIwDnnZH"
   },
   "outputs": [],
   "source": [
    "# variables for training\n",
    "cols = list(data)[1:7]"
   ]
  },
  {
   "cell_type": "code",
   "execution_count": 13,
   "metadata": {
    "colab": {
     "base_uri": "https://localhost:8080/"
    },
    "executionInfo": {
     "elapsed": 5,
     "status": "ok",
     "timestamp": 1713330086627,
     "user": {
      "displayName": "­이진서 / 직원 / 그린바이오과학기술연구원",
      "userId": "11108064377578484520"
     },
     "user_tz": -540
    },
    "id": "UAxYrWfg_32w",
    "outputId": "c8ce2144-2d31-4696-b150-1d60ad0d3863"
   },
   "outputs": [
    {
     "name": "stdout",
     "output_type": "stream",
     "text": [
      "['dam', '90', '100', '101', '211', '212']\n"
     ]
    }
   ],
   "source": [
    "print(cols)"
   ]
  },
  {
   "cell_type": "code",
   "execution_count": 14,
   "metadata": {
    "id": "8Din6kzRnoen"
   },
   "outputs": [],
   "source": [
    "# new dataframe with only training data - 5 columns\n",
    "data = data[cols].astype(float)"
   ]
  },
  {
   "cell_type": "code",
   "execution_count": 15,
   "metadata": {
    "id": "HRrDFZ_Gnpko"
   },
   "outputs": [],
   "source": [
    "# normalize the dataset\n",
    "scaler = StandardScaler()\n",
    "scaler = scaler.fit(data)\n",
    "dam_data_scaled = scaler.transform(data)"
   ]
  },
  {
   "cell_type": "code",
   "execution_count": 16,
   "metadata": {
    "id": "UVKsF461frDt"
   },
   "outputs": [],
   "source": [
    "dam = dam_data.drop('date', axis= 1)\n",
    "\n",
    "scaler_dam = StandardScaler()\n",
    "dam_scaled = scaler_dam.fit_transform(dam)"
   ]
  },
  {
   "cell_type": "code",
   "execution_count": 17,
   "metadata": {
    "colab": {
     "base_uri": "https://localhost:8080/"
    },
    "executionInfo": {
     "elapsed": 2,
     "status": "ok",
     "timestamp": 1713333873043,
     "user": {
      "displayName": "­이진서 / 직원 / 그린바이오과학기술연구원",
      "userId": "11108064377578484520"
     },
     "user_tz": -540
    },
    "id": "oszHWO0UEAiO",
    "outputId": "64d9f18f-4f83-459a-e6bf-71d9e054c79d"
   },
   "outputs": [
    {
     "name": "stdout",
     "output_type": "stream",
     "text": [
      "[[-0.26438616 -0.26757136 -0.27835591 -0.26170736 -0.26126318 -0.26448106]\n",
      " [-0.26891176 -0.26757136 -0.27835591 -0.26170736 -0.26126318 -0.26448106]\n",
      " [-0.28791927 -0.26757136 -0.27835591 -0.26170736 -0.26126318 -0.26448106]\n",
      " [-0.28203599 -0.26757136 -0.27835591 -0.26170736 -0.26126318 -0.26448106]\n",
      " [-0.28339367 -0.26757136 -0.27835591 -0.26170736 -0.26126318 -0.26448106]\n",
      " [-0.27026944 -0.26757136 -0.27835591 -0.26170736 -0.26126318 -0.26448106]\n",
      " [-0.26710152 -0.26757136 -0.27835591 -0.26170736 -0.26126318 -0.26448106]\n",
      " [-0.27886808 -0.26757136 -0.25971438 -0.26170736 -0.26126318 -0.26448106]\n",
      " [-0.28158343 -0.25354633 -0.24107284 -0.26170736 -0.26126318 -0.26448106]\n",
      " [-0.29380255 -0.26757136 -0.25350053 -0.26170736 -0.26126318 -0.26448106]\n",
      " [-0.28656159 -0.26055885 -0.24107284 -0.26170736 -0.26126318 -0.26448106]\n",
      " [-0.28927695 -0.26757136 -0.27835591 -0.26170736 -0.26126318 -0.26448106]\n",
      " [-0.28022575 -0.26757136 -0.27835591 -0.26170736 -0.26126318 -0.26448106]\n",
      " [-0.28067831 -0.26757136 -0.27835591 -0.26170736 -0.26126318 -0.26448106]\n",
      " [-0.26936432 -0.26757136 -0.27835591 -0.26170736 -0.26126318 -0.26448106]]\n"
     ]
    }
   ],
   "source": [
    "print(dam_data_scaled[:15])"
   ]
  },
  {
   "cell_type": "code",
   "execution_count": 18,
   "metadata": {
    "colab": {
     "base_uri": "https://localhost:8080/"
    },
    "executionInfo": {
     "elapsed": 4,
     "status": "ok",
     "timestamp": 1713330087149,
     "user": {
      "displayName": "­이진서 / 직원 / 그린바이오과학기술연구원",
      "userId": "11108064377578484520"
     },
     "user_tz": -540
    },
    "id": "1xSw2podnqir",
    "outputId": "0fc5e4b9-76b7-4738-f6d4-d5b185288505"
   },
   "outputs": [
    {
     "name": "stdout",
     "output_type": "stream",
     "text": [
      "16435   2018-12-31\n",
      "16436   2019-01-01\n",
      "16437   2019-01-02\n",
      "16438   2019-01-03\n",
      "16439   2019-01-04\n",
      "Name: date, dtype: datetime64[ns]\n"
     ]
    }
   ],
   "source": [
    "# split to train data and test data\n",
    "n_train = int(0.9*dam_data_scaled.shape[0])\n",
    "train_data_scaled = dam_data_scaled[0: n_train]\n",
    "train_dates = dates[0: n_train]\n",
    "\n",
    "test_data_scaled = dam_data_scaled[n_train:]\n",
    "test_dates = dates[n_train:]\n",
    "print(test_dates.head(5))"
   ]
  },
  {
   "cell_type": "code",
   "execution_count": 19,
   "metadata": {
    "colab": {
     "base_uri": "https://localhost:8080/"
    },
    "executionInfo": {
     "elapsed": 3,
     "status": "ok",
     "timestamp": 1713330087149,
     "user": {
      "displayName": "­이진서 / 직원 / 그린바이오과학기술연구원",
      "userId": "11108064377578484520"
     },
     "user_tz": -540
    },
    "id": "ZUFo-ljhIzIm",
    "outputId": "4ebe033a-0414-47b2-8baa-db63745a7c8b"
   },
   "outputs": [
    {
     "name": "stdout",
     "output_type": "stream",
     "text": [
      "[-0.28067831 -0.26757136 -0.27835591 -0.26170736 -0.26126318 -0.26448106]\n"
     ]
    }
   ],
   "source": [
    "print(train_data_scaled[13])"
   ]
  },
  {
   "cell_type": "code",
   "execution_count": 20,
   "metadata": {
    "colab": {
     "base_uri": "https://localhost:8080/"
    },
    "executionInfo": {
     "elapsed": 307,
     "status": "ok",
     "timestamp": 1713333921478,
     "user": {
      "displayName": "­이진서 / 직원 / 그린바이오과학기술연구원",
      "userId": "11108064377578484520"
     },
     "user_tz": -540
    },
    "id": "iCOaHw2Cnsnz",
    "outputId": "ac8b28b4-1734-472d-a283-700e3b5aaa02"
   },
   "outputs": [
    {
     "name": "stdout",
     "output_type": "stream",
     "text": [
      "[[-0.26757136 -0.27835591 -0.26170736 -0.26126318 -0.26448106]\n",
      " [-0.26757136 -0.27835591 -0.26170736 -0.26126318 -0.26448106]\n",
      " [-0.26757136 -0.27835591 -0.26170736 -0.26126318 -0.26448106]\n",
      " [-0.26757136 -0.27835591 -0.26170736 -0.26126318 -0.26448106]\n",
      " [-0.26757136 -0.27835591 -0.26170736 -0.26126318 -0.26448106]\n",
      " [-0.26757136 -0.27835591 -0.26170736 -0.26126318 -0.26448106]\n",
      " [-0.26757136 -0.27835591 -0.26170736 -0.26126318 -0.26448106]\n",
      " [-0.26757136 -0.25971438 -0.26170736 -0.26126318 -0.26448106]\n",
      " [-0.25354633 -0.24107284 -0.26170736 -0.26126318 -0.26448106]\n",
      " [-0.26757136 -0.25350053 -0.26170736 -0.26126318 -0.26448106]\n",
      " [-0.26055885 -0.24107284 -0.26170736 -0.26126318 -0.26448106]\n",
      " [-0.26757136 -0.27835591 -0.26170736 -0.26126318 -0.26448106]\n",
      " [-0.26757136 -0.27835591 -0.26170736 -0.26126318 -0.26448106]\n",
      " [-0.26757136 -0.27835591 -0.26170736 -0.26126318 -0.26448106]]\n",
      "[-0.28067831]\n"
     ]
    }
   ],
   "source": [
    "# data reformatting for LSTM\n",
    "pred_days = 1  # prediction period\n",
    "seq_len = 14   # sequence length = past days for future prediction.\n",
    "input_dim = 5  # input_dimension = ['90', '100', '101', '211', '212']\n",
    "\n",
    "trainX = []\n",
    "trainY = []\n",
    "testX = []\n",
    "testY = []\n",
    "\n",
    "for i in range(seq_len, n_train-pred_days +1):\n",
    "    trainX.append(train_data_scaled[i - seq_len:i, 1:train_data_scaled.shape[1]])\n",
    "    trainY.append(train_data_scaled[i + pred_days - 2:i + pred_days-1, 0])\n",
    "\n",
    "for i in range(seq_len, len(test_data_scaled)-pred_days +1):\n",
    "    testX.append(test_data_scaled[i - seq_len:i, 1:test_data_scaled.shape[1]])\n",
    "    testY.append(test_data_scaled[i + pred_days - 2:i + pred_days-1, 0])\n",
    "\n",
    "print(trainX[0])\n",
    "print(trainY[0])\n",
    "\n",
    "trainX, trainY = np.array(trainX), np.array(trainY)\n",
    "testX, testY = np.array(testX), np.array(testY)"
   ]
  },
  {
   "cell_type": "code",
   "execution_count": 21,
   "metadata": {
    "colab": {
     "base_uri": "https://localhost:8080/"
    },
    "executionInfo": {
     "elapsed": 4,
     "status": "ok",
     "timestamp": 1713330087459,
     "user": {
      "displayName": "­이진서 / 직원 / 그린바이오과학기술연구원",
      "userId": "11108064377578484520"
     },
     "user_tz": -540
    },
    "id": "6Kb_f1MEFlyQ",
    "outputId": "d661d158-dd08-4fd0-d9af-c7cabe1c544c"
   },
   "outputs": [
    {
     "name": "stdout",
     "output_type": "stream",
     "text": [
      "[[-0.28067831]\n",
      " [-0.26936432]\n",
      " [-0.28429879]\n",
      " ...\n",
      " [-0.28466084]\n",
      " [-0.28400915]\n",
      " [-0.28364258]]\n"
     ]
    }
   ],
   "source": [
    "print(trainY)"
   ]
  },
  {
   "cell_type": "code",
   "execution_count": 22,
   "metadata": {
    "colab": {
     "base_uri": "https://localhost:8080/"
    },
    "executionInfo": {
     "elapsed": 4,
     "status": "ok",
     "timestamp": 1713330087459,
     "user": {
      "displayName": "­이진서 / 직원 / 그린바이오과학기술연구원",
      "userId": "11108064377578484520"
     },
     "user_tz": -540
    },
    "id": "w6xCKBOanvvz",
    "outputId": "13389e8e-5c7c-486b-ee45-a935853ca4c2"
   },
   "outputs": [
    {
     "name": "stdout",
     "output_type": "stream",
     "text": [
      "(16421, 14, 5) (16421, 1)\n",
      "(1813, 14, 5) (1813, 1)\n"
     ]
    }
   ],
   "source": [
    "print(trainX.shape, trainY.shape)\n",
    "print(testX.shape, testY.shape)"
   ]
  },
  {
   "cell_type": "code",
   "execution_count": 23,
   "metadata": {
    "colab": {
     "base_uri": "https://localhost:8080/"
    },
    "executionInfo": {
     "elapsed": 2795,
     "status": "ok",
     "timestamp": 1713330090251,
     "user": {
      "displayName": "­이진서 / 직원 / 그린바이오과학기술연구원",
      "userId": "11108064377578484520"
     },
     "user_tz": -540
    },
    "id": "r0DxPNxbnwJ3",
    "outputId": "d0742cf1-1940-4d81-ad5b-abbdd3c45a92"
   },
   "outputs": [
    {
     "name": "stdout",
     "output_type": "stream",
     "text": [
      "WARNING:tensorflow:From C:\\Users\\wlstj\\AppData\\Local\\Programs\\Python\\Python311\\Lib\\site-packages\\keras\\src\\backend.py:873: The name tf.get_default_graph is deprecated. Please use tf.compat.v1.get_default_graph instead.\n",
      "\n",
      "Model: \"sequential\"\n",
      "_________________________________________________________________\n",
      " Layer (type)                Output Shape              Param #   \n",
      "=================================================================\n",
      " lstm (LSTM)                 (None, 14, 64)            17920     \n",
      "                                                                 \n",
      " lstm_1 (LSTM)               (None, 32)                12416     \n",
      "                                                                 \n",
      " dense (Dense)               (None, 1)                 33        \n",
      "                                                                 \n",
      "=================================================================\n",
      "Total params: 30369 (118.63 KB)\n",
      "Trainable params: 30369 (118.63 KB)\n",
      "Non-trainable params: 0 (0.00 Byte)\n",
      "_________________________________________________________________\n"
     ]
    }
   ],
   "source": [
    "# LSTM model\n",
    "model = Sequential()\n",
    "model.add(LSTM(64, input_shape=(trainX.shape[1], trainX.shape[2]), # (seq length, input dimension)\n",
    "               return_sequences=True))\n",
    "model.add(LSTM(32, return_sequences=False))\n",
    "model.add(Dense(trainY.shape[1]))\n",
    "\n",
    "model.summary()"
   ]
  },
  {
   "cell_type": "code",
   "execution_count": 24,
   "metadata": {
    "id": "XBbmyaHmnxML"
   },
   "outputs": [],
   "source": [
    "# specify your learning rate\n",
    "learning_rate = 0.01\n",
    "# create an Adam optimizer with the specified learning rate\n",
    "optimizer = Adam(learning_rate=learning_rate)\n",
    "# compile your model using the custom optimizer\n",
    "model.compile(optimizer=optimizer, loss='mse')"
   ]
  },
  {
   "cell_type": "code",
   "execution_count": 25,
   "metadata": {
    "colab": {
     "base_uri": "https://localhost:8080/"
    },
    "executionInfo": {
     "elapsed": 6,
     "status": "ok",
     "timestamp": 1713330090710,
     "user": {
      "displayName": "­이진서 / 직원 / 그린바이오과학기술연구원",
      "userId": "11108064377578484520"
     },
     "user_tz": -540
    },
    "id": "ftq3t9DnnyIw",
    "outputId": "80c772f6-b6c7-45aa-dc60-703b0f2a388b"
   },
   "outputs": [
    {
     "name": "stdout",
     "output_type": "stream",
     "text": [
      "Loaded model weights from disk\n"
     ]
    }
   ],
   "source": [
    "# Try to load weights\n",
    "try:\n",
    "    model.load_weights('dam_lstm_nodam_weights.h5')\n",
    "    print(\"Loaded model weights from disk\")\n",
    "except:\n",
    "    print(\"No weights found, training model from scratch\")\n",
    "    # Fit the model\n",
    "    history = model.fit(trainX, trainY, epochs=30, batch_size=32,\n",
    "                    validation_split=0.1, verbose=1)\n",
    "    # Save model weights after training\n",
    "    model.save_weights('dam_lstm_nodam_weights.h5')\n",
    "\n",
    "    plt.plot(history.history['loss'], label='Training loss')\n",
    "    plt.plot(history.history['val_loss'], label='Validation loss')\n",
    "    plt.legend()\n",
    "    plt.show()"
   ]
  },
  {
   "cell_type": "code",
   "execution_count": null,
   "metadata": {
    "id": "GXFv3n-R8bkS"
   },
   "outputs": [],
   "source": []
  },
  {
   "cell_type": "code",
   "execution_count": 26,
   "metadata": {
    "colab": {
     "base_uri": "https://localhost:8080/",
     "height": 542
    },
    "executionInfo": {
     "elapsed": 2125,
     "status": "ok",
     "timestamp": 1713330234950,
     "user": {
      "displayName": "­이진서 / 직원 / 그린바이오과학기술연구원",
      "userId": "11108064377578484520"
     },
     "user_tz": -540
    },
    "id": "WoP_IYSun8Vf",
    "outputId": "76c78e02-0f42-48e3-95e7-b9c7da8ef8ec"
   },
   "outputs": [
    {
     "name": "stdout",
     "output_type": "stream",
     "text": [
      "57/57 [==============================] - 1s 2ms/step\n",
      "(1813, 1) (1813, 1)\n",
      "(1813,)\n"
     ]
    },
    {
     "data": {
      "image/png": "[encoded data removed]",
      "text/plain": [
       "<Figure size 1400x500 with 1 Axes>"
      ]
     },
     "metadata": {},
     "output_type": "display_data"
    }
   ],
   "source": [
    "# prediction\n",
    "prediction = model.predict(testX)\n",
    "print(prediction.shape, testY.shape)\n",
    "\n",
    "# generate array filled with means for prediction\n",
    "mean_values_pred = np.repeat(scaler.mean_[np.newaxis, :], prediction.shape[0], axis=0)\n",
    "\n",
    "# substitute predictions into the first column\n",
    "mean_values_pred[:, 0] = np.squeeze(prediction)\n",
    "\n",
    "# inverse transform\n",
    "y_pred = scaler.inverse_transform(mean_values_pred)[:,0]\n",
    "\n",
    "# generate array filled with means for testY\n",
    "mean_values_testY = np.repeat(scaler.mean_[np.newaxis, :], testY.shape[0], axis=0)\n",
    "\n",
    "# substitute testY into the first column\n",
    "mean_values_testY[:, 0] = np.squeeze(testY)\n",
    "\n",
    "# inverse transform\n",
    "testY_original = scaler.inverse_transform(mean_values_testY)[:,0]\n",
    "print(testY_original.shape)\n",
    "\n",
    "# plotting\n",
    "plt.figure(figsize=(14, 5))\n",
    "\n",
    "# plot original 'Open' prices\n",
    "plt.plot(dates, original_dam, color='green', label='Original Dam Flow')\n",
    "\n",
    "# plot actual vs predicted\n",
    "plt.plot(test_dates[seq_len:], testY_original, color='blue', label='Actual Dam Flow')\n",
    "plt.plot(test_dates[seq_len:], y_pred, color='red', linestyle='--', label='Predicted Dam Flow')\n",
    "plt.xlabel('Date')\n",
    "plt.ylabel('Dam Flow')\n",
    "plt.title('Original, Actual and Predicted Dam Flow')\n",
    "plt.legend()\n",
    "plt.show()"
   ]
  },
  {
   "cell_type": "code",
   "execution_count": 27,
   "metadata": {
    "colab": {
     "base_uri": "https://localhost:8080/"
    },
    "executionInfo": {
     "elapsed": 7,
     "status": "ok",
     "timestamp": 1713330097698,
     "user": {
      "displayName": "­이진서 / 직원 / 그린바이오과학기술연구원",
      "userId": "11108064377578484520"
     },
     "user_tz": -540
    },
    "id": "qvU70a9fMMqQ",
    "outputId": "47d3445f-8917-4b97-9197-bc61ffcf0843"
   },
   "outputs": [
    {
     "name": "stdout",
     "output_type": "stream",
     "text": [
      "16435   2018-12-31\n",
      "16436   2019-01-01\n",
      "16437   2019-01-02\n",
      "16438   2019-01-03\n",
      "16439   2019-01-04\n",
      "           ...    \n",
      "18257   2023-12-27\n",
      "18258   2023-12-28\n",
      "18259   2023-12-29\n",
      "18260   2023-12-30\n",
      "18261   2023-12-31\n",
      "Name: date, Length: 1827, dtype: datetime64[ns]\n"
     ]
    }
   ],
   "source": [
    "print(test_dates)"
   ]
  },
  {
   "cell_type": "code",
   "execution_count": 28,
   "metadata": {
    "colab": {
     "base_uri": "https://localhost:8080/"
    },
    "executionInfo": {
     "elapsed": 2,
     "status": "ok",
     "timestamp": 1713330237647,
     "user": {
      "displayName": "­이진서 / 직원 / 그린바이오과학기술연구원",
      "userId": "11108064377578484520"
     },
     "user_tz": -540
    },
    "id": "AENy12cEJLEA",
    "outputId": "2d7c5fa2-0b46-45e7-8815-3ffd807ac608"
   },
   "outputs": [
    {
     "name": "stdout",
     "output_type": "stream",
     "text": [
      "               0       0          0\n",
      "0     2019-01-14   9.100  16.055030\n",
      "1     2019-01-15   3.300  16.055030\n",
      "2     2019-01-16   9.100  16.071414\n",
      "3     2019-01-17   3.200  16.064618\n",
      "4     2019-01-18   9.100  16.059324\n",
      "...          ...     ...        ...\n",
      "1808  2023-12-27  30.518  25.292755\n",
      "1809  2023-12-28  25.873  27.502933\n",
      "1810  2023-12-29  21.186  24.849961\n",
      "1811  2023-12-30  20.887  17.375405\n",
      "1812  2023-12-31  29.183  18.539735\n",
      "\n",
      "[1813 rows x 3 columns]\n"
     ]
    }
   ],
   "source": [
    "testDates = []\n",
    "for day in test_dates[14:]:\n",
    "  testDates.append(day.strftime(\"%Y-%m-%d\"))\n",
    "\n",
    "testDates = pd.DataFrame(testDates)\n",
    "pred_y = pd.DataFrame(y_pred)\n",
    "origin_y = pd.DataFrame(testY_original)\n",
    "\n",
    "lstm_include_dam = pd.concat([testDates, origin_y, pred_y], axis = 1)\n",
    "print(lstm_include_dam)\n",
    "\n",
    "lstm_include_dam = pd.DataFrame(lstm_include_dam)\n",
    "lstm_include_dam.to_csv(\"data/lstm_notinclude_dam.csv\")"
   ]
  },
  {
   "cell_type": "code",
   "execution_count": 29,
   "metadata": {
    "colab": {
     "base_uri": "https://localhost:8080/"
    },
    "executionInfo": {
     "elapsed": 2,
     "status": "ok",
     "timestamp": 1713331304564,
     "user": {
      "displayName": "­이진서 / 직원 / 그린바이오과학기술연구원",
      "userId": "11108064377578484520"
     },
     "user_tz": -540
    },
    "id": "spNcmk1sbTZg",
    "outputId": "79591468-e787-482c-efc2-f61f8dc4bd66"
   },
   "outputs": [
    {
     "name": "stdout",
     "output_type": "stream",
     "text": [
      "[-0.26757136 -0.27835591 -0.26170736 -0.26126318 -0.26448106]\n",
      "               0          0          1           2           3           4  \\\n",
      "0     2019-01-14   9.296183   6.913170   10.591923   10.690071    9.979031   \n",
      "1     2019-01-15   9.296183   6.913170   10.591923   10.690071    9.979031   \n",
      "2     2019-01-16   9.296183   6.913170   13.805890   10.690071    9.979031   \n",
      "3     2019-01-17   9.296183   6.913170   12.198907   10.690071    9.979031   \n",
      "4     2019-01-18   9.296183   6.913170   10.591923   10.690071    9.979031   \n",
      "...          ...        ...        ...         ...         ...         ...   \n",
      "1808  2023-12-27   9.296183   6.913170   10.591923   10.690071    9.979031   \n",
      "1809  2023-12-28   9.296183   6.913170   10.591923   10.690071    9.979031   \n",
      "1810  2023-12-29   9.296183   6.913170   10.591923   10.690071    9.979031   \n",
      "1811  2023-12-30   9.296183   6.913170   10.591923   10.690071    9.979031   \n",
      "1812  2023-12-31  20.142836  38.493189  169.683250  132.780095  147.329733   \n",
      "\n",
      "           0          0  \n",
      "0      9.100  16.055030  \n",
      "1      3.300  16.055030  \n",
      "2      9.100  16.071414  \n",
      "3      3.200  16.064618  \n",
      "4      9.100  16.059324  \n",
      "...      ...        ...  \n",
      "1808  30.518  25.292755  \n",
      "1809  25.873  27.502933  \n",
      "1810  21.186  24.849961  \n",
      "1811  20.887  17.375405  \n",
      "1812  29.183  18.539735  \n",
      "\n",
      "[1813 rows x 8 columns]\n"
     ]
    }
   ],
   "source": [
    "testX_last = []\n",
    "\n",
    "for x in testX:\n",
    "  testX_last.append(x[-1])\n",
    "\n",
    "print(testX_last[0])\n",
    "\n",
    "testX_last = scaler_dam.inverse_transform(testX_last)\n",
    "testX_last = pd.DataFrame(testX_last)\n",
    "\n",
    "lstm_notinclude_x = pd.concat([testDates, testX_last, origin_y, pred_y], axis = 1)\n",
    "lstm_notinclude_x.to_csv(\"data/lstm_notinclude_x.csv\")\n",
    "\n",
    "print(lstm_notinclude_x)"
   ]
  },
  {
   "cell_type": "code",
   "execution_count": 36,
   "metadata": {
    "colab": {
     "base_uri": "https://localhost:8080/",
     "height": 487
    },
    "executionInfo": {
     "elapsed": 1226,
     "status": "ok",
     "timestamp": 1713331312702,
     "user": {
      "displayName": "­이진서 / 직원 / 그린바이오과학기술연구원",
      "userId": "11108064377578484520"
     },
     "user_tz": -540
    },
    "id": "fXGQtK4aoApN",
    "outputId": "852f3edf-325c-4883-d8e6-dc911c94372e"
   },
   "outputs": [
    {
     "data": {
      "image/png": "[encoded data removed]",
      "text/plain": [
       "<Figure size 1400x500 with 1 Axes>"
      ]
     },
     "metadata": {},
     "output_type": "display_data"
    }
   ],
   "source": [
    "# Calculate the start and end indices for the zoomed plot\n",
    "zoom_start = len(test_dates) - 365*4\n",
    "zoom_end = len(test_dates)\n",
    "\n",
    "# Create the zoomed plot\n",
    "plt.figure(figsize=(14, 5))\n",
    "\n",
    "# Adjust the start index for the testY_original and y_pred arrays\n",
    "adjusted_start = zoom_start - seq_len\n",
    "\n",
    "plt.plot(test_dates[zoom_start:zoom_end],\n",
    "         testY_original[adjusted_start:zoom_end - zoom_start + adjusted_start],\n",
    "         color='blue',\n",
    "         label='Actual Dam Flow')\n",
    "\n",
    "plt.plot(test_dates[zoom_start:zoom_end],\n",
    "         y_pred[adjusted_start:zoom_end - zoom_start + adjusted_start ],\n",
    "         color='red',\n",
    "         linestyle='--',\n",
    "         label='Predicted Dam Flow')\n",
    "\n",
    "plt.xlabel('Date')\n",
    "plt.ylabel('Dam Flow')\n",
    "plt.title('Zoomed In Actual vs Predicted Dam Flow')\n",
    "plt.legend()\n",
    "plt.show()"
   ]
  },
  {
   "cell_type": "code",
   "execution_count": 31,
   "metadata": {
    "colab": {
     "base_uri": "https://localhost:8080/",
     "height": 451
    },
    "executionInfo": {
     "elapsed": 722,
     "status": "ok",
     "timestamp": 1713331315603,
     "user": {
      "displayName": "­이진서 / 직원 / 그린바이오과학기술연구원",
      "userId": "11108064377578484520"
     },
     "user_tz": -540
    },
    "id": "el4PPAciqI5b",
    "outputId": "224f6e43-edb2-4af0-e344-a153dc67f4dd"
   },
   "outputs": [
    {
     "data": {
      "image/png": "[encoded data removed]",
      "text/plain": [
       "<Figure size 640x480 with 1 Axes>"
      ]
     },
     "metadata": {},
     "output_type": "display_data"
    }
   ],
   "source": [
    "# 일대일 그래프\n",
    "x = np.arange(0,max(max(testY_original), max(y_pred)))\n",
    "y = x\n",
    "plt.scatter(testY_original[:], y_pred[:], color = 'purple', alpha = 0.6)\n",
    "plt.plot(x,y, color = 'blue', alpha = 0.6, label = 'y = x')\n",
    "plt.xlabel('Actuals')\n",
    "plt.ylabel('Simulate')\n",
    "\n",
    "plt.legend()\n",
    "plt.show()"
   ]
  },
  {
   "cell_type": "code",
   "execution_count": 32,
   "metadata": {
    "colab": {
     "base_uri": "https://localhost:8080/"
    },
    "executionInfo": {
     "elapsed": 1,
     "status": "ok",
     "timestamp": 1713331316968,
     "user": {
      "displayName": "­이진서 / 직원 / 그린바이오과학기술연구원",
      "userId": "11108064377578484520"
     },
     "user_tz": -540
    },
    "id": "ntPIbgUHqIzJ",
    "outputId": "3151bf36-fa40-4bed-b038-7e3b082e80d1"
   },
   "outputs": [
    {
     "name": "stdout",
     "output_type": "stream",
     "text": [
      "RMSE : 98.32\n"
     ]
    }
   ],
   "source": [
    "#RMSE\n",
    "from sklearn.metrics import r2_score\n",
    "from sklearn.metrics import mean_squared_error\n",
    "\n",
    "rmse = np.sqrt(mean_squared_error(testY_original, y_pred))\n",
    "print('RMSE : %.2f' %(rmse))"
   ]
  },
  {
   "cell_type": "code",
   "execution_count": 33,
   "metadata": {
    "colab": {
     "base_uri": "https://localhost:8080/"
    },
    "executionInfo": {
     "elapsed": 2,
     "status": "ok",
     "timestamp": 1713331317750,
     "user": {
      "displayName": "­이진서 / 직원 / 그린바이오과학기술연구원",
      "userId": "11108064377578484520"
     },
     "user_tz": -540
    },
    "id": "XxZoV4xCqIvU",
    "outputId": "f113b46a-a97b-452c-c65a-705baac6d46d"
   },
   "outputs": [
    {
     "name": "stdout",
     "output_type": "stream",
     "text": [
      "NSE : 0.754890\n"
     ]
    }
   ],
   "source": [
    "# NSE\n",
    "from numpy import mean\n",
    "num_sum1 = 0\n",
    "num_sum2 = 0\n",
    "num_avg = mean(testY_original[:])\n",
    "for i in range(len(testY_original)):\n",
    "  num1 = testY_original[i] - y_pred[i]\n",
    "  num_sum1 += num1**2\n",
    "  num2 = testY_original[i] - num_avg\n",
    "  num_sum2 += num2**2\n",
    "\n",
    "nse = 1 - (num_sum1 / num_sum2)\n",
    "print('NSE : %f' %nse)"
   ]
  },
  {
   "cell_type": "code",
   "execution_count": 34,
   "metadata": {
    "colab": {
     "base_uri": "https://localhost:8080/"
    },
    "executionInfo": {
     "elapsed": 5,
     "status": "ok",
     "timestamp": 1713331318042,
     "user": {
      "displayName": "­이진서 / 직원 / 그린바이오과학기술연구원",
      "userId": "11108064377578484520"
     },
     "user_tz": -540
    },
    "id": "NO2tKNhrqIoA",
    "outputId": "ec2f8abf-f7f9-4f35-b719-4442951ee9cb"
   },
   "outputs": [
    {
     "name": "stdout",
     "output_type": "stream",
     "text": [
      "PBIAS : -0.914524\n"
     ]
    }
   ],
   "source": [
    "# PBIAS\n",
    "num_sum1 = 0\n",
    "for i in range(len(testY_original)):\n",
    "  num1 = testY_original[i] - y_pred[i]\n",
    "  num_sum1 += num1\n",
    "\n",
    "pbias = (num_sum1 / np.sum(testY_original[:])) * 100\n",
    "print('PBIAS : %f' %pbias)"
   ]
  },
  {
   "cell_type": "code",
   "execution_count": 35,
   "metadata": {
    "colab": {
     "base_uri": "https://localhost:8080/"
    },
    "executionInfo": {
     "elapsed": 4,
     "status": "ok",
     "timestamp": 1713331318042,
     "user": {
      "displayName": "­이진서 / 직원 / 그린바이오과학기술연구원",
      "userId": "11108064377578484520"
     },
     "user_tz": -540
    },
    "id": "k9y4Gv5I8SEY",
    "outputId": "0071539d-5ba7-4b04-a37c-d14217cc3864"
   },
   "outputs": [
    {
     "name": "stdout",
     "output_type": "stream",
     "text": [
      "R Square : 0.758454\n"
     ]
    }
   ],
   "source": [
    "#R^2\n",
    "import math\n",
    "\n",
    "num_sum1 = 0\n",
    "num_sum2 = 0\n",
    "num_sum3 = 0\n",
    "act_avg = mean(testY_original[:])\n",
    "pred_avg = mean(y_pred[:])\n",
    "for i in range(len(testY_original)):\n",
    "  num1 = (testY_original[i] - act_avg) * (y_pred[i] - pred_avg)\n",
    "  num_sum1 += num1\n",
    "  num2 = testY_original[i] - pred_avg\n",
    "  num_sum2 += num2**2\n",
    "  num3 = y_pred[i] - pred_avg\n",
    "  num_sum3 += num3**2\n",
    "\n",
    "r_square = (num_sum1 / (math.sqrt(num_sum2)* math.sqrt(num_sum3)))**2\n",
    "print('R Square : %f' %r_square)"
   ]
  },
  {
   "cell_type": "code",
   "execution_count": null,
   "metadata": {
    "id": "ugVawgGqgSpB"
   },
   "outputs": [],
   "source": []
  }
 ],
 "metadata": {
  "colab": {
   "authorship_tag": "ABX9TyOFOTko5G8ctXnQHsLWqEhG",
   "provenance": []
  },
  "kernelspec": {
   "display_name": "Python 3 (ipykernel)",
   "language": "python",
   "name": "python3"
  },
  "language_info": {
   "codemirror_mode": {
    "name": "ipython",
    "version": 3
   },
   "file_extension": ".py",
   "mimetype": "text/x-python",
   "name": "python",
   "nbconvert_exporter": "python",
   "pygments_lexer": "ipython3",
   "version": "3.11.7"
  }
 },
 "nbformat": 4,
 "nbformat_minor": 4
}
