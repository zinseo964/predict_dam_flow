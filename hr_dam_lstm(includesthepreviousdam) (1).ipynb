{
 "cells": [
  {
   "cell_type": "code",
   "execution_count": 1,
   "metadata": {
    "colab": {
     "base_uri": "https://localhost:8080/"
    },
    "executionInfo": {
     "elapsed": 12408,
     "status": "ok",
     "timestamp": 1713424325412,
     "user": {
      "displayName": "­이진서 / 직원 / 그린바이오과학기술연구원",
      "userId": "11108064377578484520"
     },
     "user_tz": -540
    },
    "id": "GQo1Ioqzm9dq",
    "outputId": "3aee7a6b-fb8e-45aa-a0f5-1c21c8266c37"
   },
   "outputs": [
    {
     "name": "stdout",
     "output_type": "stream",
     "text": [
      "WARNING:tensorflow:From C:\\Users\\wlstj\\AppData\\Local\\Programs\\Python\\Python311\\Lib\\site-packages\\keras\\src\\losses.py:2976: The name tf.losses.sparse_softmax_cross_entropy is deprecated. Please use tf.compat.v1.losses.sparse_softmax_cross_entropy instead.\n",
      "\n"
     ]
    }
   ],
   "source": [
    "\"\"\" LSTM prediction: stacked LSTM \"\"\"\n",
    "\n",
    "# import libraries\n",
    "import numpy as np\n",
    "import pandas as pd\n",
    "from tensorflow.keras.models import Sequential\n",
    "from tensorflow.keras.layers import LSTM, Dense\n",
    "from tensorflow.keras.optimizers import Adam\n",
    "from sklearn.preprocessing import StandardScaler, MinMaxScaler\n",
    "import matplotlib.pyplot as plt\n"
   ]
  },
  {
   "cell_type": "code",
   "execution_count": 2,
   "metadata": {
    "id": "NHfpFZhV1KrZ"
   },
   "outputs": [],
   "source": [
    "data = pd.read_csv('data_hr - data_hr.csv', encoding='utf-8')"
   ]
  },
  {
   "cell_type": "code",
   "execution_count": 3,
   "metadata": {},
   "outputs": [
    {
     "name": "stdout",
     "output_type": "stream",
     "text": [
      "                    date       dam   90  100  101  211  212\n",
      "0        1997-01-01 0:00     0.000  0.0  0.3  0.0  0.3  0.0\n",
      "1        1997-01-01 1:00     0.000  0.0  0.0  0.0  0.0  0.0\n",
      "2        1997-01-01 2:00     0.000  0.0  0.0  0.0  0.0  0.0\n",
      "3        1997-01-01 3:00  2000.000  0.0  0.0  0.0  0.0  0.0\n",
      "4        1997-01-01 4:00     0.000  0.0  0.0  0.0  0.0  0.0\n",
      "...                  ...       ...  ...  ...  ...  ...  ...\n",
      "236659  2023-12-31 19:00   173.106  0.0  0.0  0.0  0.0  0.0\n",
      "236660  2023-12-31 20:00     0.000  0.0  0.0  0.0  0.0  0.0\n",
      "236661  2023-12-31 21:00   124.118  0.0  0.0  0.0  0.0  0.0\n",
      "236662  2023-12-31 22:00    15.417  0.0  0.0  0.0  0.0  0.0\n",
      "236663  2023-12-31 23:00     0.000  0.0  0.0  0.0  0.0  0.0\n",
      "\n",
      "[236664 rows x 7 columns]\n"
     ]
    }
   ],
   "source": [
    "print(data)"
   ]
  },
  {
   "cell_type": "code",
   "execution_count": 4,
   "metadata": {
    "id": "bXv8dcE91KhZ"
   },
   "outputs": [],
   "source": [
    "data = data.fillna(0)\n",
    "data = data[26280:]\n",
    "data = data.reset_index(drop=True, inplace=False)"
   ]
  },
  {
   "cell_type": "code",
   "execution_count": 5,
   "metadata": {
    "id": "36Yl3EaL1KfB"
   },
   "outputs": [],
   "source": [
    "original_dam = data['dam']"
   ]
  },
  {
   "cell_type": "code",
   "execution_count": 6,
   "metadata": {
    "colab": {
     "base_uri": "https://localhost:8080/"
    },
    "executionInfo": {
     "elapsed": 2,
     "status": "ok",
     "timestamp": 1713435468398,
     "user": {
      "displayName": "­이진서 / 직원 / 그린바이오과학기술연구원",
      "userId": "11108064377578484520"
     },
     "user_tz": -540
    },
    "id": "OomSV-1RnNNc",
    "outputId": "6e8cad60-f7ad-4f7e-9d2a-fc1a9014be18"
   },
   "outputs": [
    {
     "name": "stdout",
     "output_type": "stream",
     "text": [
      "0          13.100\n",
      "1           0.000\n",
      "2           0.000\n",
      "3         143.400\n",
      "4           0.000\n",
      "           ...   \n",
      "210379    173.106\n",
      "210380      0.000\n",
      "210381    124.118\n",
      "210382     15.417\n",
      "210383      0.000\n",
      "Name: dam, Length: 210384, dtype: float64\n"
     ]
    }
   ],
   "source": [
    "print(original_dam)"
   ]
  },
  {
   "cell_type": "code",
   "execution_count": 7,
   "metadata": {
    "id": "bT8kYSbbnl3d"
   },
   "outputs": [],
   "source": [
    "# separate dates for future plotting\n",
    "dates = pd.to_datetime(data['date'])"
   ]
  },
  {
   "cell_type": "code",
   "execution_count": null,
   "metadata": {
    "id": "Y4QTgucjbDwY"
   },
   "outputs": [],
   "source": []
  },
  {
   "cell_type": "code",
   "execution_count": 8,
   "metadata": {
    "id": "ogA_xIwDnnZH"
   },
   "outputs": [],
   "source": [
    "# variables for training\n",
    "cols = list(data)[1:7]"
   ]
  },
  {
   "cell_type": "code",
   "execution_count": 9,
   "metadata": {
    "colab": {
     "base_uri": "https://localhost:8080/"
    },
    "executionInfo": {
     "elapsed": 1,
     "status": "ok",
     "timestamp": 1713435478455,
     "user": {
      "displayName": "­이진서 / 직원 / 그린바이오과학기술연구원",
      "userId": "11108064377578484520"
     },
     "user_tz": -540
    },
    "id": "UAxYrWfg_32w",
    "outputId": "894f188b-1343-4482-fda9-2d09d80808d8"
   },
   "outputs": [
    {
     "name": "stdout",
     "output_type": "stream",
     "text": [
      "['dam', '90', '100', '101', '211', '212']\n"
     ]
    }
   ],
   "source": [
    "print(cols)"
   ]
  },
  {
   "cell_type": "code",
   "execution_count": 10,
   "metadata": {
    "colab": {
     "base_uri": "https://localhost:8080/"
    },
    "executionInfo": {
     "elapsed": 2,
     "status": "ok",
     "timestamp": 1713435478867,
     "user": {
      "displayName": "­이진서 / 직원 / 그린바이오과학기술연구원",
      "userId": "11108064377578484520"
     },
     "user_tz": -540
    },
    "id": "GylCG3T_sxF4",
    "outputId": "061d4263-16a8-4862-96bb-7511deadaa0c"
   },
   "outputs": [
    {
     "data": {
      "text/plain": [
       "date     object\n",
       "dam     float64\n",
       "90      float64\n",
       "100     float64\n",
       "101     float64\n",
       "211     float64\n",
       "212     float64\n",
       "dtype: object"
      ]
     },
     "execution_count": 10,
     "metadata": {},
     "output_type": "execute_result"
    }
   ],
   "source": [
    "data.dtypes"
   ]
  },
  {
   "cell_type": "code",
   "execution_count": 11,
   "metadata": {
    "id": "8Din6kzRnoen"
   },
   "outputs": [],
   "source": [
    "# new dataframe with only training data - 6 columns\n",
    "data = data[cols].astype(float)"
   ]
  },
  {
   "cell_type": "code",
   "execution_count": 12,
   "metadata": {
    "id": "HRrDFZ_Gnpko"
   },
   "outputs": [],
   "source": [
    "# normalize the dataset\n",
    "scaler = MinMaxScaler(feature_range = (0,1))\n",
    "dam_data_scaled = scaler.fit_transform(data)"
   ]
  },
  {
   "cell_type": "code",
   "execution_count": 13,
   "metadata": {
    "id": "qrdkeIePSL89"
   },
   "outputs": [],
   "source": [
    "dam = data.drop(['90','100','101','211','212'], axis = 1)"
   ]
  },
  {
   "cell_type": "code",
   "execution_count": 14,
   "metadata": {
    "id": "sC8fMiswut2i"
   },
   "outputs": [],
   "source": [
    "scaler_dam = MinMaxScaler(feature_range=(0,1))\n",
    "dam_scaled = scaler_dam.fit_transform(dam)"
   ]
  },
  {
   "cell_type": "code",
   "execution_count": 15,
   "metadata": {
    "colab": {
     "base_uri": "https://localhost:8080/"
    },
    "executionInfo": {
     "elapsed": 6,
     "status": "ok",
     "timestamp": 1713435481836,
     "user": {
      "displayName": "­이진서 / 직원 / 그린바이오과학기술연구원",
      "userId": "11108064377578484520"
     },
     "user_tz": -540
    },
    "id": "oszHWO0UEAiO",
    "outputId": "920a9dc9-4787-42e3-fede-775c5be69237"
   },
   "outputs": [
    {
     "name": "stdout",
     "output_type": "stream",
     "text": [
      "[[0.00123644 0.0011274  0.         0.         0.         0.        ]\n",
      " [0.         0.         0.         0.         0.         0.        ]\n",
      " [0.         0.         0.         0.         0.         0.        ]\n",
      " ...\n",
      " [0.01171487 0.         0.         0.         0.         0.        ]\n",
      " [0.00145513 0.         0.         0.         0.         0.        ]\n",
      " [0.         0.         0.         0.         0.         0.        ]]\n"
     ]
    }
   ],
   "source": [
    "print(dam_data_scaled)"
   ]
  },
  {
   "cell_type": "code",
   "execution_count": 16,
   "metadata": {
    "colab": {
     "base_uri": "https://localhost:8080/"
    },
    "executionInfo": {
     "elapsed": 2,
     "status": "ok",
     "timestamp": 1713435482510,
     "user": {
      "displayName": "­이진서 / 직원 / 그린바이오과학기술연구원",
      "userId": "11108064377578484520"
     },
     "user_tz": -540
    },
    "id": "avdExgS4NcoR",
    "outputId": "32a3dde7-13e5-4a00-afcc-ea279da91351"
   },
   "outputs": [
    {
     "name": "stdout",
     "output_type": "stream",
     "text": [
      "[[0.00123644]\n",
      " [0.        ]\n",
      " [0.        ]\n",
      " ...\n",
      " [0.01171487]\n",
      " [0.00145513]\n",
      " [0.        ]]\n"
     ]
    }
   ],
   "source": [
    "print(dam_scaled)"
   ]
  },
  {
   "cell_type": "code",
   "execution_count": 17,
   "metadata": {
    "colab": {
     "base_uri": "https://localhost:8080/"
    },
    "executionInfo": {
     "elapsed": 2,
     "status": "ok",
     "timestamp": 1713435483018,
     "user": {
      "displayName": "­이진서 / 직원 / 그린바이오과학기술연구원",
      "userId": "11108064377578484520"
     },
     "user_tz": -540
    },
    "id": "1xSw2podnqir",
    "outputId": "b9ff0546-868b-4d4d-a9e9-86168299aec4"
   },
   "outputs": [
    {
     "name": "stdout",
     "output_type": "stream",
     "text": [
      "189345   2021-08-07 09:00:00\n",
      "189346   2021-08-07 10:00:00\n",
      "189347   2021-08-07 11:00:00\n",
      "189348   2021-08-07 12:00:00\n",
      "189349   2021-08-07 13:00:00\n",
      "                 ...        \n",
      "210379   2023-12-31 19:00:00\n",
      "210380   2023-12-31 20:00:00\n",
      "210381   2023-12-31 21:00:00\n",
      "210382   2023-12-31 22:00:00\n",
      "210383   2023-12-31 23:00:00\n",
      "Name: date, Length: 21039, dtype: datetime64[ns]\n"
     ]
    }
   ],
   "source": [
    "# split to train data and test data\n",
    "n_train = int(0.9*dam_data_scaled.shape[0])\n",
    "train_data_scaled = dam_data_scaled[0: n_train]\n",
    "train_dates = dates[0: n_train]\n",
    "\n",
    "test_data_scaled = dam_data_scaled[n_train:]\n",
    "test_dates = dates[n_train:]\n",
    "print(test_dates)"
   ]
  },
  {
   "cell_type": "code",
   "execution_count": 18,
   "metadata": {
    "colab": {
     "base_uri": "https://localhost:8080/"
    },
    "executionInfo": {
     "elapsed": 400,
     "status": "ok",
     "timestamp": 1713435484972,
     "user": {
      "displayName": "­이진서 / 직원 / 그린바이오과학기술연구원",
      "userId": "11108064377578484520"
     },
     "user_tz": -540
    },
    "id": "ZUFo-ljhIzIm",
    "outputId": "a7a5d0b8-55c0-4ed8-cf60-dd9537e6ff84"
   },
   "outputs": [
    {
     "name": "stdout",
     "output_type": "stream",
     "text": [
      "[[0.00123644 0.0011274  0.         0.         0.         0.        ]\n",
      " [0.         0.         0.         0.         0.         0.        ]\n",
      " [0.         0.         0.         0.         0.         0.        ]\n",
      " [0.0135348  0.00789177 0.         0.         0.         0.        ]\n",
      " [0.         0.         0.         0.         0.         0.        ]\n",
      " [0.         0.         0.         0.         0.         0.        ]\n",
      " [0.00631435 0.         0.00148588 0.         0.         0.        ]\n",
      " [0.         0.         0.         0.         0.         0.        ]\n",
      " [0.0076263  0.         0.         0.         0.         0.        ]\n",
      " [0.         0.         0.00148588 0.         0.         0.        ]\n",
      " [0.0013969  0.         0.         0.         0.         0.        ]\n",
      " [0.00756023 0.         0.         0.         0.         0.        ]\n",
      " [0.         0.         0.00594354 0.         0.         0.        ]\n",
      " [0.         0.         0.         0.         0.         0.        ]\n",
      " [0.         0.         0.         0.         0.         0.        ]\n",
      " [0.         0.00450958 0.00445765 0.         0.         0.        ]\n",
      " [0.         0.         0.         0.         0.         0.        ]\n",
      " [0.00506847 0.         0.         0.         0.         0.        ]\n",
      " [0.         0.         0.00148588 0.         0.         0.        ]\n",
      " [0.02328476 0.         0.         0.         0.         0.        ]\n",
      " [0.         0.         0.         0.         0.         0.        ]\n",
      " [0.01293074 0.         0.         0.         0.         0.        ]\n",
      " [0.         0.         0.         0.         0.         0.        ]\n",
      " [0.00813598 0.         0.         0.         0.         0.        ]\n",
      " [0.00846633 0.         0.         0.         0.         0.        ]]\n"
     ]
    }
   ],
   "source": [
    "print(train_data_scaled[:25])"
   ]
  },
  {
   "cell_type": "code",
   "execution_count": 19,
   "metadata": {
    "id": "iCOaHw2Cnsnz"
   },
   "outputs": [],
   "source": [
    "# data reformatting for LSTM\n",
    "pred_days = 1  # prediction period\n",
    "seq_len = 72   # sequence length = past days for future prediction.\n",
    "input_dim = 6  # input_dimension = ['dam', '90', '100', '101', '211', '212']\n",
    "\n",
    "trainX = []\n",
    "trainY = []\n",
    "testX = []\n",
    "testY = []\n",
    "\n",
    "for i in range(seq_len, n_train-pred_days +1):\n",
    "    trainX.append(train_data_scaled[i - seq_len:i, 0:train_data_scaled.shape[1]])\n",
    "    trainY.append(train_data_scaled[i + pred_days - 1:i + pred_days , 0])\n",
    "\n",
    "for i in range(seq_len, len(test_data_scaled)-pred_days +1):\n",
    "    testX.append(test_data_scaled[i - seq_len:i, 0:test_data_scaled.shape[1]])\n",
    "    testY.append(test_data_scaled[i + pred_days - 1:i + pred_days, 0])\n",
    "\n",
    "trainX, trainY = np.array(trainX), np.array(trainY)\n",
    "testX, testY = np.array(testX), np.array(testY)"
   ]
  },
  {
   "cell_type": "code",
   "execution_count": 20,
   "metadata": {
    "colab": {
     "base_uri": "https://localhost:8080/"
    },
    "executionInfo": {
     "elapsed": 1,
     "status": "ok",
     "timestamp": 1713435489782,
     "user": {
      "displayName": "­이진서 / 직원 / 그린바이오과학기술연구원",
      "userId": "11108064377578484520"
     },
     "user_tz": -540
    },
    "id": "w6xCKBOanvvz",
    "outputId": "c780ad14-d1d7-423a-9ff4-067c95287aca"
   },
   "outputs": [
    {
     "name": "stdout",
     "output_type": "stream",
     "text": [
      "(189273, 72, 6) (189273, 1)\n",
      "(20967, 72, 6) (20967, 1)\n"
     ]
    }
   ],
   "source": [
    "print(trainX.shape, trainY.shape)\n",
    "print(testX.shape, testY.shape)"
   ]
  },
  {
   "cell_type": "code",
   "execution_count": 21,
   "metadata": {
    "colab": {
     "base_uri": "https://localhost:8080/"
    },
    "executionInfo": {
     "elapsed": 7,
     "status": "ok",
     "timestamp": 1713435490348,
     "user": {
      "displayName": "­이진서 / 직원 / 그린바이오과학기술연구원",
      "userId": "11108064377578484520"
     },
     "user_tz": -540
    },
    "id": "ABV11yxg_fPk",
    "outputId": "870ee083-52d2-48fa-b477-3830e4f3840a"
   },
   "outputs": [
    {
     "name": "stdout",
     "output_type": "stream",
     "text": [
      "[[[0.00123644 0.0011274  0.         0.         0.         0.        ]\n",
      "  [0.         0.         0.         0.         0.         0.        ]\n",
      "  [0.         0.         0.         0.         0.         0.        ]\n",
      "  [0.0135348  0.00789177 0.         0.         0.         0.        ]\n",
      "  [0.         0.         0.         0.         0.         0.        ]\n",
      "  [0.         0.         0.         0.         0.         0.        ]\n",
      "  [0.00631435 0.         0.00148588 0.         0.         0.        ]\n",
      "  [0.         0.         0.         0.         0.         0.        ]\n",
      "  [0.0076263  0.         0.         0.         0.         0.        ]\n",
      "  [0.         0.         0.00148588 0.         0.         0.        ]\n",
      "  [0.0013969  0.         0.         0.         0.         0.        ]\n",
      "  [0.00756023 0.         0.         0.         0.         0.        ]\n",
      "  [0.         0.         0.00594354 0.         0.         0.        ]\n",
      "  [0.         0.         0.         0.         0.         0.        ]\n",
      "  [0.         0.         0.         0.         0.         0.        ]\n",
      "  [0.         0.00450958 0.00445765 0.         0.         0.        ]\n",
      "  [0.         0.         0.         0.         0.         0.        ]\n",
      "  [0.00506847 0.         0.         0.         0.         0.        ]\n",
      "  [0.         0.         0.00148588 0.         0.         0.        ]\n",
      "  [0.02328476 0.         0.         0.         0.         0.        ]\n",
      "  [0.         0.         0.         0.         0.         0.        ]\n",
      "  [0.01293074 0.         0.         0.         0.         0.        ]\n",
      "  [0.         0.         0.         0.         0.         0.        ]\n",
      "  [0.00813598 0.         0.         0.         0.         0.        ]\n",
      "  [0.00846633 0.         0.         0.         0.         0.        ]\n",
      "  [0.         0.         0.         0.         0.         0.        ]\n",
      "  [0.00665414 0.         0.         0.         0.         0.        ]\n",
      "  [0.         0.         0.         0.         0.         0.        ]\n",
      "  [0.00814542 0.         0.         0.         0.         0.        ]\n",
      "  [0.0063993  0.         0.         0.         0.         0.        ]\n",
      "  [0.         0.         0.         0.00190476 0.         0.        ]\n",
      "  [0.         0.         0.         0.         0.         0.        ]\n",
      "  [0.00834363 0.         0.         0.         0.         0.        ]\n",
      "  [0.01484675 0.         0.00148588 0.04       0.         0.01704545]\n",
      "  [0.         0.         0.         0.         0.         0.        ]\n",
      "  [0.01484675 0.         0.         0.         0.         0.        ]\n",
      "  [0.         0.01127396 0.03566122 0.12761905 0.09848485 0.08522727]\n",
      "  [0.00660694 0.         0.         0.         0.         0.        ]\n",
      "  [0.02246361 0.         0.         0.         0.         0.        ]\n",
      "  [0.         0.0011274  0.0089153  0.         0.00757576 0.        ]\n",
      "  [0.00698448 0.         0.         0.         0.         0.        ]\n",
      "  [0.00167061 0.         0.         0.         0.         0.        ]\n",
      "  [0.         0.         0.         0.         0.         0.        ]\n",
      "  [0.00921197 0.         0.         0.         0.         0.        ]\n",
      "  [0.01386515 0.         0.         0.         0.         0.        ]\n",
      "  [0.         0.         0.         0.         0.         0.        ]\n",
      "  [0.01453528 0.         0.         0.         0.         0.        ]\n",
      "  [0.         0.         0.         0.         0.         0.        ]\n",
      "  [0.         0.         0.         0.         0.         0.        ]\n",
      "  [0.01355368 0.         0.         0.         0.         0.        ]\n",
      "  [0.         0.         0.         0.         0.         0.        ]\n",
      "  [0.02959911 0.         0.         0.         0.         0.        ]\n",
      "  [0.         0.         0.         0.         0.         0.        ]\n",
      "  [0.         0.         0.         0.         0.         0.        ]\n",
      "  [0.         0.         0.         0.         0.         0.        ]\n",
      "  [0.01479956 0.         0.         0.         0.         0.        ]\n",
      "  [0.         0.         0.         0.         0.         0.        ]\n",
      "  [0.         0.         0.         0.         0.         0.        ]\n",
      "  [0.         0.         0.         0.         0.         0.        ]\n",
      "  [0.00294481 0.         0.         0.         0.         0.        ]\n",
      "  [0.01460135 0.         0.         0.         0.         0.        ]\n",
      "  [0.         0.         0.         0.         0.         0.        ]\n",
      "  [0.0032846  0.         0.         0.         0.         0.        ]\n",
      "  [0.         0.         0.         0.         0.         0.        ]\n",
      "  [0.01134507 0.         0.         0.         0.         0.        ]\n",
      "  [0.         0.         0.         0.         0.         0.        ]\n",
      "  [0.         0.         0.         0.         0.         0.        ]\n",
      "  [0.         0.         0.         0.         0.         0.        ]\n",
      "  [0.01351592 0.         0.         0.         0.         0.        ]\n",
      "  [0.         0.         0.         0.         0.         0.        ]\n",
      "  [0.00704112 0.         0.         0.         0.         0.        ]\n",
      "  [0.         0.         0.         0.         0.         0.        ]]\n",
      "\n",
      " [[0.         0.         0.         0.         0.         0.        ]\n",
      "  [0.         0.         0.         0.         0.         0.        ]\n",
      "  [0.0135348  0.00789177 0.         0.         0.         0.        ]\n",
      "  [0.         0.         0.         0.         0.         0.        ]\n",
      "  [0.         0.         0.         0.         0.         0.        ]\n",
      "  [0.00631435 0.         0.00148588 0.         0.         0.        ]\n",
      "  [0.         0.         0.         0.         0.         0.        ]\n",
      "  [0.0076263  0.         0.         0.         0.         0.        ]\n",
      "  [0.         0.         0.00148588 0.         0.         0.        ]\n",
      "  [0.0013969  0.         0.         0.         0.         0.        ]\n",
      "  [0.00756023 0.         0.         0.         0.         0.        ]\n",
      "  [0.         0.         0.00594354 0.         0.         0.        ]\n",
      "  [0.         0.         0.         0.         0.         0.        ]\n",
      "  [0.         0.         0.         0.         0.         0.        ]\n",
      "  [0.         0.00450958 0.00445765 0.         0.         0.        ]\n",
      "  [0.         0.         0.         0.         0.         0.        ]\n",
      "  [0.00506847 0.         0.         0.         0.         0.        ]\n",
      "  [0.         0.         0.00148588 0.         0.         0.        ]\n",
      "  [0.02328476 0.         0.         0.         0.         0.        ]\n",
      "  [0.         0.         0.         0.         0.         0.        ]\n",
      "  [0.01293074 0.         0.         0.         0.         0.        ]\n",
      "  [0.         0.         0.         0.         0.         0.        ]\n",
      "  [0.00813598 0.         0.         0.         0.         0.        ]\n",
      "  [0.00846633 0.         0.         0.         0.         0.        ]\n",
      "  [0.         0.         0.         0.         0.         0.        ]\n",
      "  [0.00665414 0.         0.         0.         0.         0.        ]\n",
      "  [0.         0.         0.         0.         0.         0.        ]\n",
      "  [0.00814542 0.         0.         0.         0.         0.        ]\n",
      "  [0.0063993  0.         0.         0.         0.         0.        ]\n",
      "  [0.         0.         0.         0.00190476 0.         0.        ]\n",
      "  [0.         0.         0.         0.         0.         0.        ]\n",
      "  [0.00834363 0.         0.         0.         0.         0.        ]\n",
      "  [0.01484675 0.         0.00148588 0.04       0.         0.01704545]\n",
      "  [0.         0.         0.         0.         0.         0.        ]\n",
      "  [0.01484675 0.         0.         0.         0.         0.        ]\n",
      "  [0.         0.01127396 0.03566122 0.12761905 0.09848485 0.08522727]\n",
      "  [0.00660694 0.         0.         0.         0.         0.        ]\n",
      "  [0.02246361 0.         0.         0.         0.         0.        ]\n",
      "  [0.         0.0011274  0.0089153  0.         0.00757576 0.        ]\n",
      "  [0.00698448 0.         0.         0.         0.         0.        ]\n",
      "  [0.00167061 0.         0.         0.         0.         0.        ]\n",
      "  [0.         0.         0.         0.         0.         0.        ]\n",
      "  [0.00921197 0.         0.         0.         0.         0.        ]\n",
      "  [0.01386515 0.         0.         0.         0.         0.        ]\n",
      "  [0.         0.         0.         0.         0.         0.        ]\n",
      "  [0.01453528 0.         0.         0.         0.         0.        ]\n",
      "  [0.         0.         0.         0.         0.         0.        ]\n",
      "  [0.         0.         0.         0.         0.         0.        ]\n",
      "  [0.01355368 0.         0.         0.         0.         0.        ]\n",
      "  [0.         0.         0.         0.         0.         0.        ]\n",
      "  [0.02959911 0.         0.         0.         0.         0.        ]\n",
      "  [0.         0.         0.         0.         0.         0.        ]\n",
      "  [0.         0.         0.         0.         0.         0.        ]\n",
      "  [0.         0.         0.         0.         0.         0.        ]\n",
      "  [0.01479956 0.         0.         0.         0.         0.        ]\n",
      "  [0.         0.         0.         0.         0.         0.        ]\n",
      "  [0.         0.         0.         0.         0.         0.        ]\n",
      "  [0.         0.         0.         0.         0.         0.        ]\n",
      "  [0.00294481 0.         0.         0.         0.         0.        ]\n",
      "  [0.01460135 0.         0.         0.         0.         0.        ]\n",
      "  [0.         0.         0.         0.         0.         0.        ]\n",
      "  [0.0032846  0.         0.         0.         0.         0.        ]\n",
      "  [0.         0.         0.         0.         0.         0.        ]\n",
      "  [0.01134507 0.         0.         0.         0.         0.        ]\n",
      "  [0.         0.         0.         0.         0.         0.        ]\n",
      "  [0.         0.         0.         0.         0.         0.        ]\n",
      "  [0.         0.         0.         0.         0.         0.        ]\n",
      "  [0.01351592 0.         0.         0.         0.         0.        ]\n",
      "  [0.         0.         0.         0.         0.         0.        ]\n",
      "  [0.00704112 0.         0.         0.         0.         0.        ]\n",
      "  [0.         0.         0.         0.         0.         0.        ]\n",
      "  [0.02891954 0.         0.         0.         0.         0.        ]]] [0.02891954]\n"
     ]
    }
   ],
   "source": [
    "print(trainX[:2], trainY[0])"
   ]
  },
  {
   "cell_type": "code",
   "execution_count": 22,
   "metadata": {
    "colab": {
     "base_uri": "https://localhost:8080/"
    },
    "executionInfo": {
     "elapsed": 1224,
     "status": "ok",
     "timestamp": 1713435498713,
     "user": {
      "displayName": "­이진서 / 직원 / 그린바이오과학기술연구원",
      "userId": "11108064377578484520"
     },
     "user_tz": -540
    },
    "id": "r0DxPNxbnwJ3",
    "outputId": "51c4d05e-9921-481f-c484-f7f0dcb4afd0"
   },
   "outputs": [
    {
     "name": "stdout",
     "output_type": "stream",
     "text": [
      "WARNING:tensorflow:From C:\\Users\\wlstj\\AppData\\Local\\Programs\\Python\\Python311\\Lib\\site-packages\\keras\\src\\backend.py:873: The name tf.get_default_graph is deprecated. Please use tf.compat.v1.get_default_graph instead.\n",
      "\n",
      "Model: \"sequential\"\n",
      "_________________________________________________________________\n",
      " Layer (type)                Output Shape              Param #   \n",
      "=================================================================\n",
      " lstm (LSTM)                 (None, 72, 64)            18176     \n",
      "                                                                 \n",
      " lstm_1 (LSTM)               (None, 32)                12416     \n",
      "                                                                 \n",
      " dense (Dense)               (None, 1)                 33        \n",
      "                                                                 \n",
      "=================================================================\n",
      "Total params: 30625 (119.63 KB)\n",
      "Trainable params: 30625 (119.63 KB)\n",
      "Non-trainable params: 0 (0.00 Byte)\n",
      "_________________________________________________________________\n"
     ]
    }
   ],
   "source": [
    "# LSTM model\n",
    "model = Sequential()\n",
    "model.add(LSTM(64, input_shape=(trainX.shape[1], trainX.shape[2]), # (seq length, input dimension)\n",
    "               return_sequences=True))\n",
    "model.add(LSTM(32, return_sequences=False))\n",
    "model.add(Dense(trainY.shape[1]))\n",
    "\n",
    "model.summary()"
   ]
  },
  {
   "cell_type": "code",
   "execution_count": 23,
   "metadata": {
    "id": "XBbmyaHmnxML"
   },
   "outputs": [],
   "source": [
    "# specify your learning rate\n",
    "learning_rate = 0.01\n",
    "# create an Adam optimizer with the specified learning rate\n",
    "optimizer = Adam(learning_rate=learning_rate)\n",
    "# compile your model using the custom optimizer\n",
    "model.compile(optimizer=optimizer, loss='mse')"
   ]
  },
  {
   "cell_type": "code",
   "execution_count": 24,
   "metadata": {
    "colab": {
     "base_uri": "https://localhost:8080/"
    },
    "executionInfo": {
     "elapsed": 471,
     "status": "ok",
     "timestamp": 1713435499183,
     "user": {
      "displayName": "­이진서 / 직원 / 그린바이오과학기술연구원",
      "userId": "11108064377578484520"
     },
     "user_tz": -540
    },
    "id": "ftq3t9DnnyIw",
    "outputId": "e221ccda-d34b-47a6-c695-444acea9db6d"
   },
   "outputs": [
    {
     "name": "stdout",
     "output_type": "stream",
     "text": [
      "No weights found, training model from scratch\n",
      "Epoch 1/30\n",
      "WARNING:tensorflow:From C:\\Users\\wlstj\\AppData\\Local\\Programs\\Python\\Python311\\Lib\\site-packages\\keras\\src\\utils\\tf_utils.py:492: The name tf.ragged.RaggedTensorValue is deprecated. Please use tf.compat.v1.ragged.RaggedTensorValue instead.\n",
      "\n",
      "5324/5324 [==============================] - 145s 27ms/step - loss: 4.4901e-04 - val_loss: 1.1829e-04\n",
      "Epoch 2/30\n",
      "5324/5324 [==============================] - 141s 26ms/step - loss: 1.5690e-04 - val_loss: 1.5081e-04\n",
      "Epoch 3/30\n",
      "5324/5324 [==============================] - 141s 26ms/step - loss: 1.3200e-04 - val_loss: 1.1036e-04\n",
      "Epoch 4/30\n",
      "5324/5324 [==============================] - 142s 27ms/step - loss: 1.2284e-04 - val_loss: 1.6007e-04\n",
      "Epoch 5/30\n",
      "5324/5324 [==============================] - 141s 26ms/step - loss: 4.9045e-04 - val_loss: 2.4988e-04\n",
      "Epoch 6/30\n",
      "5324/5324 [==============================] - 142s 27ms/step - loss: 3.3993e-04 - val_loss: 0.0022\n",
      "Epoch 7/30\n",
      "5324/5324 [==============================] - 142s 27ms/step - loss: 2.8848e-04 - val_loss: 6.4639e-04\n",
      "Epoch 8/30\n",
      "5324/5324 [==============================] - 137s 26ms/step - loss: 3.2807e-04 - val_loss: 5.3010e-04\n",
      "Epoch 9/30\n",
      "5324/5324 [==============================] - 137s 26ms/step - loss: 3.0234e-04 - val_loss: 6.3700e-04\n",
      "Epoch 10/30\n",
      "5324/5324 [==============================] - 141s 26ms/step - loss: 3.0623e-04 - val_loss: 4.2260e-04\n",
      "Epoch 11/30\n",
      "5324/5324 [==============================] - 138s 26ms/step - loss: 2.7041e-04 - val_loss: 1.7826e-04\n",
      "Epoch 12/30\n",
      "5324/5324 [==============================] - 138s 26ms/step - loss: 2.5061e-04 - val_loss: 1.3477e-04\n",
      "Epoch 13/30\n",
      "5324/5324 [==============================] - 138s 26ms/step - loss: 2.7705e-04 - val_loss: 4.2467e-04\n",
      "Epoch 14/30\n",
      "5324/5324 [==============================] - 138s 26ms/step - loss: 2.7626e-04 - val_loss: 2.6696e-04\n",
      "Epoch 15/30\n",
      "5324/5324 [==============================] - 148s 28ms/step - loss: 2.5429e-04 - val_loss: 2.1103e-04\n",
      "Epoch 16/30\n",
      "5324/5324 [==============================] - 166s 31ms/step - loss: 2.5420e-04 - val_loss: 3.9466e-04\n",
      "Epoch 17/30\n",
      "5324/5324 [==============================] - 169s 32ms/step - loss: 2.6011e-04 - val_loss: 3.7428e-04\n",
      "Epoch 18/30\n",
      "5324/5324 [==============================] - 141s 27ms/step - loss: 2.4339e-04 - val_loss: 3.1765e-04\n",
      "Epoch 19/30\n",
      "5324/5324 [==============================] - 145s 27ms/step - loss: 2.8053e-04 - val_loss: 4.6092e-04\n",
      "Epoch 20/30\n",
      "5324/5324 [==============================] - 171s 32ms/step - loss: 2.5906e-04 - val_loss: 2.0889e-04\n",
      "Epoch 21/30\n",
      "5324/5324 [==============================] - 173s 32ms/step - loss: 2.4308e-04 - val_loss: 9.7987e-04\n",
      "Epoch 22/30\n",
      "5324/5324 [==============================] - 179s 34ms/step - loss: 2.3092e-04 - val_loss: 1.2364e-04\n",
      "Epoch 23/30\n",
      "5324/5324 [==============================] - 148s 28ms/step - loss: 2.4019e-04 - val_loss: 1.3491e-04\n",
      "Epoch 24/30\n",
      "5324/5324 [==============================] - 146s 27ms/step - loss: 2.2372e-04 - val_loss: 1.5835e-04\n",
      "Epoch 25/30\n",
      "5324/5324 [==============================] - 146s 27ms/step - loss: 2.3732e-04 - val_loss: 2.0933e-04\n",
      "Epoch 26/30\n",
      "5324/5324 [==============================] - 191s 36ms/step - loss: 2.2032e-04 - val_loss: 2.5767e-04\n",
      "Epoch 27/30\n",
      "5324/5324 [==============================] - 208s 39ms/step - loss: 2.2146e-04 - val_loss: 1.2481e-04\n",
      "Epoch 28/30\n",
      "5324/5324 [==============================] - 211s 40ms/step - loss: 1.5863e-04 - val_loss: 1.0572e-04\n",
      "Epoch 29/30\n",
      "5324/5324 [==============================] - 209s 39ms/step - loss: 3.9724e-04 - val_loss: 2.6546e-04\n",
      "Epoch 30/30\n",
      "5324/5324 [==============================] - 214s 40ms/step - loss: 2.1672e-04 - val_loss: 3.5622e-04\n"
     ]
    },
    {
     "data": {
      "image/png": "[encoded data removed]",
      "text/plain": [
       "<Figure size 640x480 with 1 Axes>"
      ]
     },
     "metadata": {},
     "output_type": "display_data"
    }
   ],
   "source": [
    "# Try to load weights\n",
    "try:\n",
    "    model.load_weights('72hr_dam_lstm_weights.h5')\n",
    "    print(\"Loaded model weights from disk\")\n",
    "except:\n",
    "    print(\"No weights found, training model from scratch\")\n",
    "    # Fit the model\n",
    "    history = model.fit(trainX, trainY, epochs=30, batch_size=32,\n",
    "                    validation_split=0.1, verbose=1)\n",
    "    # Save model weights after training\n",
    "    model.save_weights('72hr_dam_lstm_weights.h5')\n",
    "\n",
    "    plt.plot(history.history['loss'], label='Training loss')\n",
    "    plt.plot(history.history['val_loss'], label='Validation loss')\n",
    "    plt.legend()\n",
    "    plt.show()"
   ]
  },
  {
   "cell_type": "code",
   "execution_count": 25,
   "metadata": {},
   "outputs": [],
   "source": [
    "# generate array filled with means for prediction\n",
    "# mean_values_pred = np.repeat(scaler.mean_[np.newaxis, :], prediction.shape[0], axis=0)\n",
    "\n",
    "# # substitute predictions into the first column\n",
    "# mean_values_pred[:, 0] = np.squeeze(prediction)\n",
    "\n",
    "# inverse transform\n",
    "# y_pred = scaler_dam.inverse_transform(prediction)[:,0]\n",
    "\n",
    "# # generate array filled with means for testY\n",
    "# mean_values_testY = np.repeat(scaler.mean_[np.newaxis, :], testY.shape[0], axis=0)\n",
    "\n",
    "# # substitute testY into the first column\n",
    "# mean_values_testY[:, 0] = np.squeeze(testY)"
   ]
  },
  {
   "cell_type": "code",
   "execution_count": 26,
   "metadata": {
    "colab": {
     "base_uri": "https://localhost:8080/",
     "height": 537
    },
    "executionInfo": {
     "elapsed": 8565,
     "status": "ok",
     "timestamp": 1713435509961,
     "user": {
      "displayName": "­이진서 / 직원 / 그린바이오과학기술연구원",
      "userId": "11108064377578484520"
     },
     "user_tz": -540
    },
    "id": "WoP_IYSun8Vf",
    "outputId": "b6c2a2c1-ec88-46f4-8c7a-94bea37c04a7"
   },
   "outputs": [
    {
     "name": "stdout",
     "output_type": "stream",
     "text": [
      "656/656 [==============================] - 11s 14ms/step\n",
      "(20967, 1) (20967, 1)\n"
     ]
    },
    {
     "data": {
      "image/png": "[encoded data removed]",
      "text/plain": [
       "<Figure size 1400x500 with 1 Axes>"
      ]
     },
     "metadata": {},
     "output_type": "display_data"
    }
   ],
   "source": [
    "# prediction\n",
    "prediction = model.predict(testX)\n",
    "print(prediction.shape, testY.shape)\n",
    "\n",
    "y_pred = scaler_dam.inverse_transform(prediction)[:,0]\n",
    "testY_original = scaler_dam.inverse_transform(testY)[:,0]\n",
    "\n",
    "# plotting\n",
    "plt.figure(figsize=(14, 5))\n",
    "\n",
    "# plot original 'Open' prices\n",
    "plt.plot(dates, original_dam, color='green', label='Original Dam Flow')\n",
    "\n",
    "# plot actual vs predicted\n",
    "plt.plot(test_dates[seq_len:], testY_original, color='blue', label='Actual Dam Flow')\n",
    "plt.plot(test_dates[seq_len:], y_pred, color='red', linestyle='--', label='Predicted Dam Flow')\n",
    "plt.xlabel('Date')\n",
    "plt.ylabel('Dam Flow')\n",
    "plt.title('Original, Actual and Predicted Dam Flow')\n",
    "plt.legend()\n",
    "plt.show()"
   ]
  },
  {
   "cell_type": "code",
   "execution_count": null,
   "metadata": {
    "id": "8ZKHmLJqsbN0"
   },
   "outputs": [],
   "source": []
  },
  {
   "cell_type": "code",
   "execution_count": 27,
   "metadata": {
    "colab": {
     "base_uri": "https://localhost:8080/"
    },
    "executionInfo": {
     "elapsed": 780,
     "status": "ok",
     "timestamp": 1713435548312,
     "user": {
      "displayName": "­이진서 / 직원 / 그린바이오과학기술연구원",
      "userId": "11108064377578484520"
     },
     "user_tz": -540
    },
    "id": "3zvLqBTuDrSI",
    "outputId": "77561f51-9925-4769-a107-6168d51c3dc3"
   },
   "outputs": [
    {
     "name": "stdout",
     "output_type": "stream",
     "text": [
      "20991 20967 20967\n",
      "                     date        0           0\n",
      "0     2021-08-09 09:00:00    1.493  235.799835\n",
      "1     2021-08-09 10:00:00  204.139  227.403320\n",
      "2     2021-08-09 11:00:00   71.500  229.172806\n",
      "3     2021-08-09 12:00:00   71.533  222.973938\n",
      "4     2021-08-09 13:00:00   71.449  229.662216\n",
      "...                   ...      ...         ...\n",
      "20986 2023-12-31 19:00:00      NaN         NaN\n",
      "20987 2023-12-31 20:00:00      NaN         NaN\n",
      "20988 2023-12-31 21:00:00      NaN         NaN\n",
      "20989 2023-12-31 22:00:00      NaN         NaN\n",
      "20990 2023-12-31 23:00:00      NaN         NaN\n",
      "\n",
      "[20991 rows x 3 columns]\n"
     ]
    }
   ],
   "source": [
    "testDates = pd.DataFrame(test_dates[48:])\n",
    "testDates = testDates.reset_index(drop=True)\n",
    "pred_y = pd.DataFrame(y_pred)\n",
    "origin_y = pd.DataFrame(testY_original)\n",
    "\n",
    "print(len(testDates), len(pred_y), len(origin_y))\n",
    "\n",
    "lstm_include_dam = pd.concat([testDates, origin_y, pred_y], axis = 1)\n",
    "print(lstm_include_dam)\n",
    "\n",
    "# lstm_include_dam = pd.DataFrame(lstm_include_dam)\n",
    "# lstm_include_dam.to_csv(\"hr_lstm_include_dam.csv\")"
   ]
  },
  {
   "cell_type": "code",
   "execution_count": 28,
   "metadata": {
    "colab": {
     "base_uri": "https://localhost:8080/"
    },
    "executionInfo": {
     "elapsed": 1922,
     "status": "ok",
     "timestamp": 1713434784172,
     "user": {
      "displayName": "­이진서 / 직원 / 그린바이오과학기술연구원",
      "userId": "11108064377578484520"
     },
     "user_tz": -540
    },
    "id": "-5qlN7mbHZ6O",
    "outputId": "36554d8f-ccea-43d0-8ff1-aa5ec0a45f9b"
   },
   "outputs": [
    {
     "name": "stdout",
     "output_type": "stream",
     "text": [
      "[0.01256896 0.         0.         0.         0.         0.        ]\n",
      "             0    1    2    3    4    5\n",
      "0      133.167  0.0  0.0  0.0  0.0  0.0\n",
      "1        1.493  0.0  0.0  0.0  0.0  0.0\n",
      "2      204.139  0.0  0.0  0.0  0.0  0.0\n",
      "3       71.500  0.0  0.0  0.0  0.0  4.2\n",
      "4       71.533  0.0  0.0  0.0  0.0  0.0\n",
      "...        ...  ...  ...  ...  ...  ...\n",
      "20962   21.177  1.6  0.0  0.0  0.0  0.0\n",
      "20963  173.106  0.0  0.0  0.0  0.0  0.0\n",
      "20964    0.000  0.0  0.0  0.0  0.0  0.0\n",
      "20965  124.118  0.0  0.0  0.0  0.0  0.0\n",
      "20966   15.417  0.0  0.0  0.0  0.0  0.0\n",
      "\n",
      "[20967 rows x 6 columns]\n"
     ]
    }
   ],
   "source": [
    "testX_last = []\n",
    "\n",
    "for x in testX:\n",
    "  testX_last.append(x[-1])\n",
    "\n",
    "print(testX_last[0])\n",
    "\n",
    "testX_last = scaler.inverse_transform(testX_last)\n",
    "testX_last = pd.DataFrame(testX_last)\n",
    "\n",
    "print(testX_last)\n",
    "\n",
    "#lstm_include_x = pd.concat([testDates, testX_last,origin_y,pred_y], axis = 1)\n",
    "#lstm_include_x.to_csv(\"data/hr_lstm_include_x.csv\")"
   ]
  },
  {
   "cell_type": "code",
   "execution_count": null,
   "metadata": {
    "colab": {
     "base_uri": "https://localhost:8080/"
    },
    "executionInfo": {
     "elapsed": 2,
     "status": "ok",
     "timestamp": 1713434784507,
     "user": {
      "displayName": "­이진서 / 직원 / 그린바이오과학기술연구원",
      "userId": "11108064377578484520"
     },
     "user_tz": -540
    },
    "id": "5BGZubPbNSLM",
    "outputId": "f9c6f448-f188-4b31-f892-cabdb91aa65b"
   },
   "outputs": [],
   "source": []
  },
  {
   "cell_type": "code",
   "execution_count": 29,
   "metadata": {
    "id": "sUD6rcP8X3eN"
   },
   "outputs": [],
   "source": [
    "# original_data = pd.DataFrame(testY_original)\n",
    "# prediction_data = pd.DataFrame(y_pred)\n",
    "\n",
    "# print(original_data)\n",
    "# print(prediction_data)\n",
    "\n",
    "# result = pd.concat([original_data,prediction_data],axis=1)\n",
    "# result.to_csv(\"/content/drive/MyDrive/240410/result.csv\")"
   ]
  },
  {
   "cell_type": "code",
   "execution_count": null,
   "metadata": {
    "id": "ZRKa_2xAYhQ-"
   },
   "outputs": [],
   "source": []
  },
  {
   "cell_type": "code",
   "execution_count": null,
   "metadata": {
    "id": "DafNHljDGVgS"
   },
   "outputs": [],
   "source": []
  },
  {
   "cell_type": "code",
   "execution_count": 30,
   "metadata": {
    "colab": {
     "base_uri": "https://localhost:8080/",
     "height": 485
    },
    "executionInfo": {
     "elapsed": 1178,
     "status": "ok",
     "timestamp": 1713435566409,
     "user": {
      "displayName": "­이진서 / 직원 / 그린바이오과학기술연구원",
      "userId": "11108064377578484520"
     },
     "user_tz": -540
    },
    "id": "fXGQtK4aoApN",
    "outputId": "099c917f-2baf-426e-a143-a04a512b6353"
   },
   "outputs": [
    {
     "data": {
      "image/png": "[encoded data removed]",
      "text/plain": [
       "<Figure size 1400x500 with 1 Axes>"
      ]
     },
     "metadata": {},
     "output_type": "display_data"
    }
   ],
   "source": [
    "# Calculate the start and end indices for the zoomed plot\n",
    "zoom_start = len(test_dates) - 365*24*2\n",
    "zoom_end = len(test_dates)\n",
    "\n",
    "# Create the zoomed plot\n",
    "plt.figure(figsize=(14, 5))\n",
    "\n",
    "# Adjust the start index for the testY_original and y_pred arrays\n",
    "adjusted_start = zoom_start - seq_len\n",
    "\n",
    "plt.plot(test_dates[zoom_start:zoom_end],\n",
    "         testY_original[adjusted_start:zoom_end - zoom_start + adjusted_start],\n",
    "         color='blue',\n",
    "         label='Actual Dam Flow')\n",
    "\n",
    "plt.plot(test_dates[zoom_start:zoom_end],\n",
    "         y_pred[adjusted_start:zoom_end - zoom_start + adjusted_start ],\n",
    "         color='red',\n",
    "         linestyle='--',\n",
    "         label='Predicted Dam Flow')\n",
    "\n",
    "plt.xlabel('Date')\n",
    "plt.ylabel('Dam Flow')\n",
    "plt.title('Zoomed In Actual vs Predicted Dam Flow')\n",
    "plt.legend()\n",
    "plt.show()"
   ]
  },
  {
   "cell_type": "code",
   "execution_count": 31,
   "metadata": {
    "colab": {
     "base_uri": "https://localhost:8080/",
     "height": 449
    },
    "executionInfo": {
     "elapsed": 943,
     "status": "ok",
     "timestamp": 1713435569113,
     "user": {
      "displayName": "­이진서 / 직원 / 그린바이오과학기술연구원",
      "userId": "11108064377578484520"
     },
     "user_tz": -540
    },
    "id": "el4PPAciqI5b",
    "outputId": "681bbf39-677e-4384-f271-a9e4fb809d51"
   },
   "outputs": [
    {
     "data": {
      "image/png": "[encoded data removed]",
      "text/plain": [
       "<Figure size 640x480 with 1 Axes>"
      ]
     },
     "metadata": {},
     "output_type": "display_data"
    }
   ],
   "source": [
    "# 일대일 그래프\n",
    "x = np.arange(0,max(max(testY_original), max(y_pred)))\n",
    "y = x\n",
    "plt.scatter(testY_original[:], y_pred[:], color = 'purple', alpha = 0.6)\n",
    "plt.plot(x,y, color = 'blue', alpha = 0.6, label = 'y = x')\n",
    "plt.xlabel('Actuals')\n",
    "plt.ylabel('Simulate')\n",
    "\n",
    "plt.legend()\n",
    "plt.show()"
   ]
  },
  {
   "cell_type": "code",
   "execution_count": null,
   "metadata": {
    "id": "EA04WPeiWiGY"
   },
   "outputs": [],
   "source": []
  },
  {
   "cell_type": "code",
   "execution_count": 32,
   "metadata": {
    "colab": {
     "base_uri": "https://localhost:8080/"
    },
    "executionInfo": {
     "elapsed": 2,
     "status": "ok",
     "timestamp": 1713435572640,
     "user": {
      "displayName": "­이진서 / 직원 / 그린바이오과학기술연구원",
      "userId": "11108064377578484520"
     },
     "user_tz": -540
    },
    "id": "ntPIbgUHqIzJ",
    "outputId": "adbe8a37-421d-4bf4-edea-cc0064943bd7"
   },
   "outputs": [
    {
     "name": "stdout",
     "output_type": "stream",
     "text": [
      "RMSE : 192.68\n",
      "NSE : 0.201999\n",
      "PBIAS : -209.162435\n",
      "R Square : 0.507313\n"
     ]
    }
   ],
   "source": [
    "#RMSE\n",
    "from sklearn.metrics import r2_score\n",
    "from sklearn.metrics import mean_squared_error\n",
    "\n",
    "rmse = np.sqrt(mean_squared_error(testY_original, y_pred))\n",
    "print('RMSE : %.2f' %(rmse))\n",
    "\n",
    "# NSE\n",
    "from numpy import mean\n",
    "num_sum1 = 0\n",
    "num_sum2 = 0\n",
    "num_avg = mean(testY_original[:])\n",
    "for i in range(len(testY_original)):\n",
    "  num1 = testY_original[i] - y_pred[i]\n",
    "  num_sum1 += num1**2\n",
    "  num2 = testY_original[i] - num_avg\n",
    "  num_sum2 += num2**2\n",
    "\n",
    "nse = 1 - (num_sum1 / num_sum2)\n",
    "print('NSE : %f' %nse)\n",
    "\n",
    "# PBIAS\n",
    "num_sum1 = 0\n",
    "for i in range(len(testY_original)):\n",
    "  num1 = testY_original[i] - y_pred[i]\n",
    "  num_sum1 += num1\n",
    "\n",
    "pbias = (num_sum1 / np.sum(testY_original[:])) * 100\n",
    "print('PBIAS : %f' %pbias)\n",
    "\n",
    "#R^2\n",
    "import math\n",
    "\n",
    "num_sum1 = 0\n",
    "num_sum2 = 0\n",
    "num_sum3 = 0\n",
    "act_avg = mean(testY_original[:])\n",
    "pred_avg = mean(y_pred[:])\n",
    "for i in range(len(testY_original)):\n",
    "  num1 = (testY_original[i] - act_avg) * (y_pred[i] - pred_avg)\n",
    "  num_sum1 += num1\n",
    "  num2 = testY_original[i] - pred_avg\n",
    "  num_sum2 += num2**2\n",
    "  num3 = y_pred[i] - pred_avg\n",
    "  num_sum3 += num3**2\n",
    "\n",
    "r_square = (num_sum1 / (math.sqrt(num_sum2)* math.sqrt(num_sum3)))**2\n",
    "print('R Square : %f' %r_square)"
   ]
  },
  {
   "cell_type": "code",
   "execution_count": null,
   "metadata": {
    "colab": {
     "base_uri": "https://localhost:8080/"
    },
    "executionInfo": {
     "elapsed": 4,
     "status": "ok",
     "timestamp": 1713435573170,
     "user": {
      "displayName": "­이진서 / 직원 / 그린바이오과학기술연구원",
      "userId": "11108064377578484520"
     },
     "user_tz": -540
    },
    "id": "XxZoV4xCqIvU",
    "outputId": "86a97e70-8d1f-48da-b9de-dd2903eb0a93"
   },
   "outputs": [],
   "source": []
  },
  {
   "cell_type": "code",
   "execution_count": null,
   "metadata": {
    "colab": {
     "base_uri": "https://localhost:8080/"
    },
    "executionInfo": {
     "elapsed": 2,
     "status": "ok",
     "timestamp": 1713435574303,
     "user": {
      "displayName": "­이진서 / 직원 / 그린바이오과학기술연구원",
      "userId": "11108064377578484520"
     },
     "user_tz": -540
    },
    "id": "NO2tKNhrqIoA",
    "outputId": "76b17b4b-d9c0-4f19-96f9-4a4ea5761c98"
   },
   "outputs": [],
   "source": []
  },
  {
   "cell_type": "code",
   "execution_count": null,
   "metadata": {
    "colab": {
     "base_uri": "https://localhost:8080/"
    },
    "executionInfo": {
     "elapsed": 549,
     "status": "ok",
     "timestamp": 1713435575224,
     "user": {
      "displayName": "­이진서 / 직원 / 그린바이오과학기술연구원",
      "userId": "11108064377578484520"
     },
     "user_tz": -540
    },
    "id": "k9y4Gv5I8SEY",
    "outputId": "5cc3351d-4477-48af-b39c-ea3f4f2e3ef4"
   },
   "outputs": [],
   "source": []
  },
  {
   "cell_type": "code",
   "execution_count": null,
   "metadata": {
    "id": "3EEMNpCZxPta"
   },
   "outputs": [],
   "source": []
  }
 ],
 "metadata": {
  "colab": {
   "authorship_tag": "ABX9TyMDtNOYLvgzMdUzjEA8ZgA9",
   "provenance": []
  },
  "kernelspec": {
   "display_name": "Python 3 (ipykernel)",
   "language": "python",
   "name": "python3"
  },
  "language_info": {
   "codemirror_mode": {
    "name": "ipython",
    "version": 3
   },
   "file_extension": ".py",
   "mimetype": "text/x-python",
   "name": "python",
   "nbconvert_exporter": "python",
   "pygments_lexer": "ipython3",
   "version": "3.11.7"
  }
 },
 "nbformat": 4,
 "nbformat_minor": 4
}
