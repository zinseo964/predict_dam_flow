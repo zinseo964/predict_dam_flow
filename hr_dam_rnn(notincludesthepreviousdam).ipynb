{
 "cells": [
  {
   "cell_type": "code",
   "execution_count": 1,
   "metadata": {
    "colab": {
     "base_uri": "https://localhost:8080/"
    },
    "executionInfo": {
     "elapsed": 2427,
     "status": "ok",
     "timestamp": 1713936281020,
     "user": {
      "displayName": "­이진서 / 직원 / 그린바이오과학기술연구원",
      "userId": "11108064377578484520"
     },
     "user_tz": -540
    },
    "id": "GQo1Ioqzm9dq",
    "outputId": "439233df-020a-4e92-c61f-9c9a3d64fc99"
   },
   "outputs": [
    {
     "name": "stdout",
     "output_type": "stream",
     "text": [
      "WARNING:tensorflow:From C:\\Users\\wlstj\\AppData\\Local\\Programs\\Python\\Python311\\Lib\\site-packages\\keras\\src\\losses.py:2976: The name tf.losses.sparse_softmax_cross_entropy is deprecated. Please use tf.compat.v1.losses.sparse_softmax_cross_entropy instead.\n",
      "\n"
     ]
    }
   ],
   "source": [
    "\"\"\" RNN dam flow prediction: stacked RNN \"\"\"\n",
    "\n",
    "# import libraries\n",
    "import numpy as np\n",
    "import pandas as pd\n",
    "from tensorflow.keras.models import Sequential\n",
    "from tensorflow.keras.layers import Dense, Flatten\n",
    "from tensorflow.keras.optimizers import Adam\n",
    "from sklearn.preprocessing import StandardScaler, MinMaxScaler\n",
    "import matplotlib.pyplot as plt\n"
   ]
  },
  {
   "cell_type": "code",
   "execution_count": 2,
   "metadata": {
    "executionInfo": {
     "elapsed": 812,
     "status": "ok",
     "timestamp": 1713936181956,
     "user": {
      "displayName": "­이진서 / 직원 / 그린바이오과학기술연구원",
      "userId": "11108064377578484520"
     },
     "user_tz": -540
    },
    "id": "NHfpFZhV1KrZ"
   },
   "outputs": [],
   "source": [
    "data = pd.read_csv('data_hr(2359).csv', encoding='utf-8')"
   ]
  },
  {
   "cell_type": "code",
   "execution_count": 3,
   "metadata": {
    "executionInfo": {
     "elapsed": 3,
     "status": "ok",
     "timestamp": 1713936181957,
     "user": {
      "displayName": "­이진서 / 직원 / 그린바이오과학기술연구원",
      "userId": "11108064377578484520"
     },
     "user_tz": -540
    },
    "id": "_dHIpEd22O2E"
   },
   "outputs": [],
   "source": [
    "data = data[26280:]\n",
    "data = data.reset_index(drop=True, inplace=False)\n",
    "data = data.fillna(0)"
   ]
  },
  {
   "cell_type": "code",
   "execution_count": 4,
   "metadata": {
    "colab": {
     "base_uri": "https://localhost:8080/"
    },
    "executionInfo": {
     "elapsed": 3,
     "status": "ok",
     "timestamp": 1713936181957,
     "user": {
      "displayName": "­이진서 / 직원 / 그린바이오과학기술연구원",
      "userId": "11108064377578484520"
     },
     "user_tz": -540
    },
    "id": "8LCkdpxW4q0W",
    "outputId": "a0422029-0cad-4c8b-d833-03bf07ced77d"
   },
   "outputs": [
    {
     "name": "stdout",
     "output_type": "stream",
     "text": [
      "                    date      dam   90  100  101  211  212\n",
      "0        2000-01-01 0:00  148.600  1.3  0.0  0.0  0.0  0.0\n",
      "1        2000-01-01 1:00    0.000  0.0  0.0  0.0  0.0  0.0\n",
      "2        2000-01-01 2:00  143.400  0.0  0.0  0.0  0.0  0.0\n",
      "3        2000-01-01 3:00    0.000  0.7  0.0  0.0  0.0  0.0\n",
      "4        2000-01-01 4:00    0.000  0.0  0.0  0.0  0.0  0.0\n",
      "...                  ...      ...  ...  ...  ...  ...  ...\n",
      "210379  2023-12-31 19:00    0.000  0.0  0.0  0.0  0.0  0.0\n",
      "210380  2023-12-31 20:00  124.118  0.0  0.0  0.0  0.0  0.0\n",
      "210381  2023-12-31 21:00   15.417  0.0  0.0  0.0  0.0  0.0\n",
      "210382  2023-12-31 22:00    0.000  0.0  0.0  0.0  0.0  0.0\n",
      "210383  2023-12-31 23:00  148.222  0.0  0.0  0.0  0.0  0.0\n",
      "\n",
      "[210384 rows x 7 columns]\n"
     ]
    }
   ],
   "source": [
    "print(data)"
   ]
  },
  {
   "cell_type": "code",
   "execution_count": null,
   "metadata": {
    "executionInfo": {
     "elapsed": 456,
     "status": "ok",
     "timestamp": 1713936182411,
     "user": {
      "displayName": "­이진서 / 직원 / 그린바이오과학기술연구원",
      "userId": "11108064377578484520"
     },
     "user_tz": -540
    },
    "id": "bXv8dcE91KhZ"
   },
   "outputs": [],
   "source": []
  },
  {
   "cell_type": "code",
   "execution_count": 5,
   "metadata": {
    "executionInfo": {
     "elapsed": 9,
     "status": "ok",
     "timestamp": 1713936182412,
     "user": {
      "displayName": "­이진서 / 직원 / 그린바이오과학기술연구원",
      "userId": "11108064377578484520"
     },
     "user_tz": -540
    },
    "id": "p39VaDNvnlIh"
   },
   "outputs": [],
   "source": [
    "# save original 'Open' prices for later\n",
    "original_dam = data['dam'].values"
   ]
  },
  {
   "cell_type": "code",
   "execution_count": 6,
   "metadata": {
    "executionInfo": {
     "elapsed": 9,
     "status": "ok",
     "timestamp": 1713936182412,
     "user": {
      "displayName": "­이진서 / 직원 / 그린바이오과학기술연구원",
      "userId": "11108064377578484520"
     },
     "user_tz": -540
    },
    "id": "bT8kYSbbnl3d"
   },
   "outputs": [],
   "source": [
    "# separate dates for future plotting\n",
    "dates = pd.to_datetime(data['date'])"
   ]
  },
  {
   "cell_type": "code",
   "execution_count": 7,
   "metadata": {
    "executionInfo": {
     "elapsed": 8,
     "status": "ok",
     "timestamp": 1713936182412,
     "user": {
      "displayName": "­이진서 / 직원 / 그린바이오과학기술연구원",
      "userId": "11108064377578484520"
     },
     "user_tz": -540
    },
    "id": "ogA_xIwDnnZH"
   },
   "outputs": [],
   "source": [
    "# variables for training\n",
    "cols = list(data)[1:7]"
   ]
  },
  {
   "cell_type": "code",
   "execution_count": 8,
   "metadata": {
    "colab": {
     "base_uri": "https://localhost:8080/"
    },
    "executionInfo": {
     "elapsed": 8,
     "status": "ok",
     "timestamp": 1713936182412,
     "user": {
      "displayName": "­이진서 / 직원 / 그린바이오과학기술연구원",
      "userId": "11108064377578484520"
     },
     "user_tz": -540
    },
    "id": "UAxYrWfg_32w",
    "outputId": "11f0ff9a-565a-407a-8e62-27beb3682b1d"
   },
   "outputs": [
    {
     "name": "stdout",
     "output_type": "stream",
     "text": [
      "['dam', '90', '100', '101', '211', '212']\n"
     ]
    }
   ],
   "source": [
    "print(cols)"
   ]
  },
  {
   "cell_type": "code",
   "execution_count": 9,
   "metadata": {
    "executionInfo": {
     "elapsed": 8,
     "status": "ok",
     "timestamp": 1713936182412,
     "user": {
      "displayName": "­이진서 / 직원 / 그린바이오과학기술연구원",
      "userId": "11108064377578484520"
     },
     "user_tz": -540
    },
    "id": "8Din6kzRnoen"
   },
   "outputs": [],
   "source": [
    "# new dataframe with only training data - 5 columns\n",
    "data = data[cols].astype(float)"
   ]
  },
  {
   "cell_type": "code",
   "execution_count": 10,
   "metadata": {
    "executionInfo": {
     "elapsed": 7,
     "status": "ok",
     "timestamp": 1713936182412,
     "user": {
      "displayName": "­이진서 / 직원 / 그린바이오과학기술연구원",
      "userId": "11108064377578484520"
     },
     "user_tz": -540
    },
    "id": "HRrDFZ_Gnpko"
   },
   "outputs": [],
   "source": [
    "# # normalize the dataset\n",
    "# scaler = StandardScaler()\n",
    "# scaler = scaler.fit(data)\n",
    "# dam_data_scaled = scaler.transform(data)\n",
    "\n",
    "# dam = data.drop(['90','100','101','211','212'], axis=1)\n",
    "\n",
    "# scaler_dam = StandardScaler()\n",
    "# dam_scaled = scaler_dam.fit_transform(dam)"
   ]
  },
  {
   "cell_type": "code",
   "execution_count": null,
   "metadata": {},
   "outputs": [],
   "source": []
  },
  {
   "cell_type": "code",
   "execution_count": 11,
   "metadata": {},
   "outputs": [],
   "source": [
    "scaler = MinMaxScaler()\n",
    "dam_data_scaled = scaler.fit_transform(data)\n",
    "\n",
    "dam = data.drop(['90','100','101','211','212'], axis=1)\n",
    "scaler_dam = MinMaxScaler()\n",
    "dam_scaled = scaler_dam.fit_transform(dam)"
   ]
  },
  {
   "cell_type": "code",
   "execution_count": 12,
   "metadata": {
    "colab": {
     "base_uri": "https://localhost:8080/"
    },
    "executionInfo": {
     "elapsed": 7,
     "status": "ok",
     "timestamp": 1713936182412,
     "user": {
      "displayName": "­이진서 / 직원 / 그린바이오과학기술연구원",
      "userId": "11108064377578484520"
     },
     "user_tz": -540
    },
    "id": "oszHWO0UEAiO",
    "outputId": "9af02300-1efa-4889-ca18-105c6f2468fd"
   },
   "outputs": [
    {
     "name": "stdout",
     "output_type": "stream",
     "text": [
      "[[0.0140256  0.01465614 0.         0.         0.         0.        ]\n",
      " [0.         0.         0.         0.         0.         0.        ]\n",
      " [0.0135348  0.         0.         0.         0.         0.        ]\n",
      " [0.         0.00789177 0.         0.         0.         0.        ]\n",
      " [0.         0.         0.         0.         0.         0.        ]\n",
      " [0.00631435 0.         0.         0.         0.         0.        ]\n",
      " [0.         0.         0.00148588 0.         0.         0.        ]\n",
      " [0.0076263  0.         0.         0.         0.         0.        ]\n",
      " [0.         0.         0.         0.         0.         0.        ]\n",
      " [0.0013969  0.         0.00148588 0.         0.         0.        ]\n",
      " [0.00756023 0.         0.         0.         0.         0.        ]\n",
      " [0.         0.         0.         0.         0.         0.        ]\n",
      " [0.         0.         0.00594354 0.         0.         0.        ]\n",
      " [0.         0.         0.         0.         0.         0.        ]\n",
      " [0.         0.         0.         0.         0.         0.        ]]\n"
     ]
    }
   ],
   "source": [
    "print(dam_data_scaled[:15])"
   ]
  },
  {
   "cell_type": "code",
   "execution_count": 13,
   "metadata": {
    "colab": {
     "base_uri": "https://localhost:8080/"
    },
    "executionInfo": {
     "elapsed": 6,
     "status": "ok",
     "timestamp": 1713936182412,
     "user": {
      "displayName": "­이진서 / 직원 / 그린바이오과학기술연구원",
      "userId": "11108064377578484520"
     },
     "user_tz": -540
    },
    "id": "1xSw2podnqir",
    "outputId": "2de75e12-df13-4d9d-dc41-569c79746061"
   },
   "outputs": [
    {
     "name": "stdout",
     "output_type": "stream",
     "text": [
      "189345   2021-08-07 09:00:00\n",
      "189346   2021-08-07 10:00:00\n",
      "189347   2021-08-07 11:00:00\n",
      "189348   2021-08-07 12:00:00\n",
      "189349   2021-08-07 13:00:00\n",
      "Name: date, dtype: datetime64[ns]\n"
     ]
    }
   ],
   "source": [
    "# split to train data and test data\n",
    "n_train = int(0.9*dam_data_scaled.shape[0])\n",
    "train_data_scaled = dam_data_scaled[0: n_train]\n",
    "train_dates = dates[0: n_train]\n",
    "\n",
    "test_data_scaled = dam_data_scaled[n_train:]\n",
    "test_dates = dates[n_train:]\n",
    "print(test_dates.head(5))"
   ]
  },
  {
   "cell_type": "code",
   "execution_count": 14,
   "metadata": {
    "colab": {
     "base_uri": "https://localhost:8080/"
    },
    "executionInfo": {
     "elapsed": 1116,
     "status": "ok",
     "timestamp": 1713936183524,
     "user": {
      "displayName": "­이진서 / 직원 / 그린바이오과학기술연구원",
      "userId": "11108064377578484520"
     },
     "user_tz": -540
    },
    "id": "iCOaHw2Cnsnz",
    "outputId": "b3510f08-0a10-45fb-9e4c-feea46be765d"
   },
   "outputs": [
    {
     "name": "stdout",
     "output_type": "stream",
     "text": [
      "[0.        0.0011274 0.        0.        0.        0.       ]\n",
      "[0.00846633]\n"
     ]
    }
   ],
   "source": [
    "# data reformatting for LSTM\n",
    "pred_days = 1  # prediction period\n",
    "seq_len = 24   # sequence length = past days for future prediction.\n",
    "input_dim = 5  # input_dimension = ['dam', '90', '100', '101', '211', '212']\n",
    "\n",
    "trainX = []\n",
    "trainY = []\n",
    "testX = []\n",
    "testY = []\n",
    "\n",
    "for i in range(seq_len, n_train-pred_days +1):\n",
    "    trainX.append(train_data_scaled[i - seq_len:i, 0:train_data_scaled.shape[1]])\n",
    "    trainY.append(train_data_scaled[i + pred_days - 2:i + pred_days-1, 0])\n",
    "\n",
    "for i in range(seq_len, len(test_data_scaled)-pred_days +1):\n",
    "    testX.append(test_data_scaled[i - seq_len:i, 0:test_data_scaled.shape[1]])\n",
    "    testY.append(test_data_scaled[i + pred_days - 2:i + pred_days-1, 0])\n",
    "\n",
    "print(trainX[1][-1])\n",
    "print(trainY[0])\n",
    "\n",
    "trainX, trainY = np.array(trainX), np.array(trainY)\n",
    "testX, testY = np.array(testX), np.array(testY)"
   ]
  },
  {
   "cell_type": "code",
   "execution_count": 15,
   "metadata": {
    "colab": {
     "base_uri": "https://localhost:8080/"
    },
    "executionInfo": {
     "elapsed": 5,
     "status": "ok",
     "timestamp": 1713936183524,
     "user": {
      "displayName": "­이진서 / 직원 / 그린바이오과학기술연구원",
      "userId": "11108064377578484520"
     },
     "user_tz": -540
    },
    "id": "6Kb_f1MEFlyQ",
    "outputId": "919c9a17-28f2-4560-a1e9-d02dff91b31a"
   },
   "outputs": [
    {
     "name": "stdout",
     "output_type": "stream",
     "text": [
      "[[8.46632799e-03]\n",
      " [0.00000000e+00]\n",
      " [6.65413738e-03]\n",
      " ...\n",
      " [4.71924637e-05]\n",
      " [4.71924637e-05]\n",
      " [4.71924637e-05]]\n"
     ]
    }
   ],
   "source": [
    "print(trainY)"
   ]
  },
  {
   "cell_type": "code",
   "execution_count": 16,
   "metadata": {
    "colab": {
     "base_uri": "https://localhost:8080/"
    },
    "executionInfo": {
     "elapsed": 4,
     "status": "ok",
     "timestamp": 1713936183524,
     "user": {
      "displayName": "­이진서 / 직원 / 그린바이오과학기술연구원",
      "userId": "11108064377578484520"
     },
     "user_tz": -540
    },
    "id": "w6xCKBOanvvz",
    "outputId": "53f0fc8a-0403-48a3-c73e-0d9bc9d1fd38"
   },
   "outputs": [
    {
     "name": "stdout",
     "output_type": "stream",
     "text": [
      "(189321, 24, 6) (189321, 1)\n",
      "(21015, 24, 6) (21015, 1)\n"
     ]
    }
   ],
   "source": [
    "print(trainX.shape, trainY.shape)\n",
    "print(testX.shape, testY.shape)"
   ]
  },
  {
   "cell_type": "code",
   "execution_count": 17,
   "metadata": {
    "colab": {
     "base_uri": "https://localhost:8080/"
    },
    "executionInfo": {
     "elapsed": 361,
     "status": "ok",
     "timestamp": 1713937364030,
     "user": {
      "displayName": "­이진서 / 직원 / 그린바이오과학기술연구원",
      "userId": "11108064377578484520"
     },
     "user_tz": -540
    },
    "id": "r0DxPNxbnwJ3",
    "outputId": "83699730-2606-457a-bd37-9fda89ad800a",
    "scrolled": true
   },
   "outputs": [
    {
     "name": "stdout",
     "output_type": "stream",
     "text": [
      "WARNING:tensorflow:From C:\\Users\\wlstj\\AppData\\Local\\Programs\\Python\\Python311\\Lib\\site-packages\\keras\\src\\backend.py:873: The name tf.get_default_graph is deprecated. Please use tf.compat.v1.get_default_graph instead.\n",
      "\n",
      "Model: \"sequential\"\n",
      "_________________________________________________________________\n",
      " Layer (type)                Output Shape              Param #   \n",
      "=================================================================\n",
      " flatten (Flatten)           (None, 144)               0         \n",
      "                                                                 \n",
      " dense (Dense)               (None, 64)                9280      \n",
      "                                                                 \n",
      " dense_1 (Dense)             (None, 32)                2080      \n",
      "                                                                 \n",
      " dense_2 (Dense)             (None, 1)                 33        \n",
      "                                                                 \n",
      "=================================================================\n",
      "Total params: 11393 (44.50 KB)\n",
      "Trainable params: 11393 (44.50 KB)\n",
      "Non-trainable params: 0 (0.00 Byte)\n",
      "_________________________________________________________________\n"
     ]
    }
   ],
   "source": [
    "# RNN model\n",
    "model = Sequential()\n",
    "model.add(Flatten(input_shape=(trainX.shape[1], trainX.shape[2])))\n",
    "model.add(Dense(64, activation='relu'))\n",
    "model.add(Dense(32))\n",
    "model.add(Dense(trainY.shape[1]))\n",
    "model.summary()"
   ]
  },
  {
   "cell_type": "code",
   "execution_count": 18,
   "metadata": {
    "executionInfo": {
     "elapsed": 2,
     "status": "ok",
     "timestamp": 1713937368278,
     "user": {
      "displayName": "­이진서 / 직원 / 그린바이오과학기술연구원",
      "userId": "11108064377578484520"
     },
     "user_tz": -540
    },
    "id": "XBbmyaHmnxML"
   },
   "outputs": [],
   "source": [
    "# specify your learning rate\n",
    "learning_rate = 0.01\n",
    "# create an Adam optimizer with the specified learning rate\n",
    "optimizer = Adam(learning_rate=learning_rate)\n",
    "# compile your model using the custom optimizer\n",
    "model.compile(optimizer=optimizer, loss='mse')"
   ]
  },
  {
   "cell_type": "code",
   "execution_count": 19,
   "metadata": {
    "colab": {
     "base_uri": "https://localhost:8080/",
     "height": 1000
    },
    "executionInfo": {
     "elapsed": 401453,
     "status": "ok",
     "timestamp": 1713937770045,
     "user": {
      "displayName": "­이진서 / 직원 / 그린바이오과학기술연구원",
      "userId": "11108064377578484520"
     },
     "user_tz": -540
    },
    "id": "ftq3t9DnnyIw",
    "outputId": "b9c63d0e-675e-489c-b2aa-94d8f722a110"
   },
   "outputs": [
    {
     "name": "stdout",
     "output_type": "stream",
     "text": [
      "No weights found, training model from scratch\n",
      "Epoch 1/30\n",
      "WARNING:tensorflow:From C:\\Users\\wlstj\\AppData\\Local\\Programs\\Python\\Python311\\Lib\\site-packages\\keras\\src\\utils\\tf_utils.py:492: The name tf.ragged.RaggedTensorValue is deprecated. Please use tf.compat.v1.ragged.RaggedTensorValue instead.\n",
      "\n",
      "5325/5325 [==============================] - 7s 1ms/step - loss: 1.7563e-04 - val_loss: 3.1890e-05\n",
      "Epoch 2/30\n",
      "5325/5325 [==============================] - 6s 1ms/step - loss: 3.5670e-04 - val_loss: 6.0755e-04\n",
      "Epoch 3/30\n",
      "5325/5325 [==============================] - 6s 1ms/step - loss: 8.2403e-04 - val_loss: 5.9869e-04\n",
      "Epoch 4/30\n",
      "5325/5325 [==============================] - 6s 1ms/step - loss: 1.2016e-04 - val_loss: 1.3740e-05\n",
      "Epoch 5/30\n",
      "5325/5325 [==============================] - 6s 1ms/step - loss: 5.4878e-05 - val_loss: 8.1275e-06\n",
      "Epoch 6/30\n",
      "5325/5325 [==============================] - 6s 1ms/step - loss: 2.7983e-05 - val_loss: 2.3055e-05\n",
      "Epoch 7/30\n",
      "5325/5325 [==============================] - 6s 1ms/step - loss: 3.1840e-05 - val_loss: 2.5016e-05\n",
      "Epoch 8/30\n",
      "5325/5325 [==============================] - 6s 1ms/step - loss: 3.2150e-05 - val_loss: 2.8038e-05\n",
      "Epoch 9/30\n",
      "5325/5325 [==============================] - 6s 1ms/step - loss: 5.7249e-05 - val_loss: 8.3830e-06\n",
      "Epoch 10/30\n",
      "5325/5325 [==============================] - 6s 1ms/step - loss: 2.1235e-05 - val_loss: 7.0439e-05\n",
      "Epoch 11/30\n",
      "5325/5325 [==============================] - 6s 1ms/step - loss: 6.3975e-05 - val_loss: 4.7145e-07\n",
      "Epoch 12/30\n",
      "5325/5325 [==============================] - 6s 1ms/step - loss: 3.5413e-05 - val_loss: 8.6362e-06\n",
      "Epoch 13/30\n",
      "5325/5325 [==============================] - 6s 1ms/step - loss: 5.4280e-05 - val_loss: 5.0297e-06\n",
      "Epoch 14/30\n",
      "5325/5325 [==============================] - 6s 1ms/step - loss: 6.0019e-05 - val_loss: 5.0499e-06\n",
      "Epoch 15/30\n",
      "5325/5325 [==============================] - 6s 1ms/step - loss: 2.7631e-05 - val_loss: 2.6308e-06\n",
      "Epoch 16/30\n",
      "5325/5325 [==============================] - 6s 1ms/step - loss: 1.1057e-04 - val_loss: 1.3486e-05\n",
      "Epoch 17/30\n",
      "5325/5325 [==============================] - 6s 1ms/step - loss: 2.4205e-05 - val_loss: 1.2649e-06\n",
      "Epoch 18/30\n",
      "5325/5325 [==============================] - 6s 1ms/step - loss: 2.4352e-05 - val_loss: 2.1221e-06\n",
      "Epoch 19/30\n",
      "5325/5325 [==============================] - 6s 1ms/step - loss: 3.1566e-05 - val_loss: 1.4200e-05\n",
      "Epoch 20/30\n",
      "5325/5325 [==============================] - 6s 1ms/step - loss: 2.5901e-05 - val_loss: 4.9158e-06\n",
      "Epoch 21/30\n",
      "5325/5325 [==============================] - 6s 1ms/step - loss: 5.7407e-05 - val_loss: 1.4633e-06\n",
      "Epoch 22/30\n",
      "5325/5325 [==============================] - 6s 1ms/step - loss: 2.5178e-05 - val_loss: 2.0987e-06\n",
      "Epoch 23/30\n",
      "5325/5325 [==============================] - 6s 1ms/step - loss: 5.0715e-05 - val_loss: 8.2623e-06\n",
      "Epoch 24/30\n",
      "5325/5325 [==============================] - 6s 1ms/step - loss: 1.8902e-05 - val_loss: 1.2382e-06\n",
      "Epoch 25/30\n",
      "5325/5325 [==============================] - 6s 1ms/step - loss: 3.4882e-05 - val_loss: 1.9491e-06\n",
      "Epoch 26/30\n",
      "5325/5325 [==============================] - 6s 1ms/step - loss: 1.8252e-05 - val_loss: 5.7823e-05\n",
      "Epoch 27/30\n",
      "5325/5325 [==============================] - 6s 1ms/step - loss: 4.8780e-05 - val_loss: 2.6768e-07\n",
      "Epoch 28/30\n",
      "5325/5325 [==============================] - 6s 1ms/step - loss: 1.5008e-05 - val_loss: 1.7156e-06\n",
      "Epoch 29/30\n",
      "5325/5325 [==============================] - 6s 1ms/step - loss: 2.6893e-05 - val_loss: 3.3137e-06\n",
      "Epoch 30/30\n",
      "5325/5325 [==============================] - 6s 1ms/step - loss: 1.5897e-05 - val_loss: 4.6351e-05\n"
     ]
    },
    {
     "data": {
      "image/png": "[encoded data removed]",
      "text/plain": [
       "<Figure size 640x480 with 1 Axes>"
      ]
     },
     "metadata": {},
     "output_type": "display_data"
    }
   ],
   "source": [
    "# Try to load weights\n",
    "try:\n",
    "    model.load_weights('4hr_dam_rnn_nodam_weights.h5')\n",
    "    print(\"Loaded model weights from disk\")\n",
    "except:\n",
    "    print(\"No weights found, training model from scratch\")\n",
    "    # Fit the model\n",
    "    history = model.fit(trainX, trainY, epochs=30, batch_size=32,\n",
    "                    validation_split=0.1, verbose=1)\n",
    "    # Save model weights after training\n",
    "    model.save_weights('hr_dam_rnn_nodam_weights.h5')\n",
    "\n",
    "    plt.plot(history.history['loss'], label='Training loss')\n",
    "    plt.plot(history.history['val_loss'], label='Validation loss')\n",
    "    plt.legend()\n",
    "    plt.show()"
   ]
  },
  {
   "cell_type": "code",
   "execution_count": 20,
   "metadata": {
    "executionInfo": {
     "elapsed": 3,
     "status": "ok",
     "timestamp": 1713937322350,
     "user": {
      "displayName": "­이진서 / 직원 / 그린바이오과학기술연구원",
      "userId": "11108064377578484520"
     },
     "user_tz": -540
    },
    "id": "GXFv3n-R8bkS"
   },
   "outputs": [],
   "source": [
    "# # generate array filled with means for prediction\n",
    "# mean_values_pred = np.repeat(scaler.mean_[np.newaxis, :], prediction.shape[0], axis=0)\n",
    "# # substitute predictions into the first column\n",
    "# mean_values_pred[:, 0] = np.squeeze(prediction)\n",
    "# # inverse transform\n",
    "# y_pred = scaler.inverse_transform(mean_values_pred)[:,0]\n",
    "# # generate array filled with means for testY\n",
    "# mean_values_testY = np.repeat(scaler.mean_[np.newaxis, :], testY.shape[0], axis=0)\n",
    "# # substitute testY into the first column\n",
    "# mean_values_testY[:, 0] = np.squeeze(testY)\n",
    "# # inverse transform\n",
    "# testY_original = scaler.inverse_transform(mean_values_testY)[:,0]\n",
    "# print(testY_original.shape)"
   ]
  },
  {
   "cell_type": "code",
   "execution_count": 31,
   "metadata": {
    "colab": {
     "base_uri": "https://localhost:8080/",
     "height": 537
    },
    "executionInfo": {
     "elapsed": 3886,
     "status": "ok",
     "timestamp": 1713937781825,
     "user": {
      "displayName": "­이진서 / 직원 / 그린바이오과학기술연구원",
      "userId": "11108064377578484520"
     },
     "user_tz": -540
    },
    "id": "WoP_IYSun8Vf",
    "outputId": "8634d8f3-d0f5-499c-a9b1-8b54f130d5ce"
   },
   "outputs": [
    {
     "name": "stdout",
     "output_type": "stream",
     "text": [
      "657/657 [==============================] - 1s 763us/step\n"
     ]
    },
    {
     "data": {
      "image/png": "[encoded data removed]",
      "text/plain": [
       "<Figure size 1400x500 with 1 Axes>"
      ]
     },
     "metadata": {},
     "output_type": "display_data"
    }
   ],
   "source": [
    "# prediction\n",
    "prediction = model.predict(testX)\n",
    "\n",
    "y_pred = scaler_dam.inverse_transform(prediction)[:,0]\n",
    "testY_original = scaler_dam.inverse_transform(testY)[:,0]\n",
    "\n",
    "# plotting\n",
    "plt.figure(figsize=(14, 5))\n",
    "\n",
    "plt.plot(dates, original_dam, color='green', label='Original Dam Flow')\n",
    "\n",
    "# plot actual vs predicted\n",
    "plt.plot(test_dates[seq_len:], testY_original, color='blue', label='Actual Dam Flow')\n",
    "plt.plot(test_dates[seq_len:], y_pred, color='red', linestyle='--', label='Predicted Dam Flow')\n",
    "plt.xlabel('Date')\n",
    "plt.ylabel('Dam Flow')\n",
    "plt.title('Original, Actual and Predicted Dam Flow')\n",
    "plt.legend()\n",
    "plt.show()"
   ]
  },
  {
   "cell_type": "code",
   "execution_count": 32,
   "metadata": {
    "colab": {
     "base_uri": "https://localhost:8080/"
    },
    "executionInfo": {
     "elapsed": 4,
     "status": "ok",
     "timestamp": 1713937781825,
     "user": {
      "displayName": "­이진서 / 직원 / 그린바이오과학기술연구원",
      "userId": "11108064377578484520"
     },
     "user_tz": -540
    },
    "id": "qvU70a9fMMqQ",
    "outputId": "62873d01-2940-4dc2-bfce-46d5412cdc8a"
   },
   "outputs": [
    {
     "name": "stdout",
     "output_type": "stream",
     "text": [
      "189345   2021-08-07 09:00:00\n",
      "189346   2021-08-07 10:00:00\n",
      "189347   2021-08-07 11:00:00\n",
      "189348   2021-08-07 12:00:00\n",
      "189349   2021-08-07 13:00:00\n",
      "                 ...        \n",
      "210379   2023-12-31 19:00:00\n",
      "210380   2023-12-31 20:00:00\n",
      "210381   2023-12-31 21:00:00\n",
      "210382   2023-12-31 22:00:00\n",
      "210383   2023-12-31 23:00:00\n",
      "Name: date, Length: 21039, dtype: datetime64[ns]\n"
     ]
    }
   ],
   "source": [
    "print(test_dates)"
   ]
  },
  {
   "cell_type": "code",
   "execution_count": 33,
   "metadata": {
    "colab": {
     "base_uri": "https://localhost:8080/"
    },
    "executionInfo": {
     "elapsed": 455,
     "status": "ok",
     "timestamp": 1713937782278,
     "user": {
      "displayName": "­이진서 / 직원 / 그린바이오과학기술연구원",
      "userId": "11108064377578484520"
     },
     "user_tz": -540
    },
    "id": "AENy12cEJLEA",
    "outputId": "5222120a-37c5-4714-f931-ccbcb2b74b42"
   },
   "outputs": [
    {
     "name": "stdout",
     "output_type": "stream",
     "text": [
      "                     date        0           0\n",
      "0     2021-08-08 09:00:00    0.500  -45.308659\n",
      "1     2021-08-08 10:00:00   68.522   53.055973\n",
      "2     2021-08-08 11:00:00   71.548   49.921337\n",
      "3     2021-08-08 12:00:00    0.000  -61.107517\n",
      "4     2021-08-08 13:00:00   71.713   55.260876\n",
      "...                   ...      ...         ...\n",
      "21010 2023-12-31 19:00:00  173.106  140.409988\n",
      "21011 2023-12-31 20:00:00    0.000  -48.760628\n",
      "21012 2023-12-31 21:00:00  124.118  107.111305\n",
      "21013 2023-12-31 22:00:00   15.417  -31.022730\n",
      "21014 2023-12-31 23:00:00    0.000 -100.685417\n",
      "\n",
      "[21015 rows x 3 columns]\n"
     ]
    }
   ],
   "source": [
    "testDates = pd.DataFrame(test_dates[24:])\n",
    "testDates = testDates.reset_index(drop = True)\n",
    "pred_y = pd.DataFrame(y_pred)\n",
    "origin_y = pd.DataFrame(testY_original)\n",
    "\n",
    "lstm_include_dam = pd.concat([testDates, origin_y, pred_y], axis = 1)\n",
    "print(lstm_include_dam)\n",
    "\n",
    "lstm_include_dam = pd.DataFrame(lstm_include_dam)\n",
    "lstm_include_dam.to_csv(\"data/hr_lstm_notinclude_dam.csv\")"
   ]
  },
  {
   "cell_type": "code",
   "execution_count": 34,
   "metadata": {
    "colab": {
     "base_uri": "https://localhost:8080/"
    },
    "executionInfo": {
     "elapsed": 3,
     "status": "ok",
     "timestamp": 1713937782278,
     "user": {
      "displayName": "­이진서 / 직원 / 그린바이오과학기술연구원",
      "userId": "11108064377578484520"
     },
     "user_tz": -540
    },
    "id": "spNcmk1sbTZg",
    "outputId": "d0da6901-9def-4d5a-a2a2-242434456bec"
   },
   "outputs": [
    {
     "name": "stdout",
     "output_type": "stream",
     "text": [
      "[4.71924637e-05 4.50958286e-02 0.00000000e+00 0.00000000e+00\n",
      " 0.00000000e+00 0.00000000e+00]\n",
      "                     date        0           1    2    3    4    5        0  \\\n",
      "0     2021-08-08 09:00:00    0.500  477.786336  0.0  0.0  0.0  0.0    0.500   \n",
      "1     2021-08-08 10:00:00   68.522   23.889317  0.0  0.0  0.0  0.0   68.522   \n",
      "2     2021-08-08 11:00:00   71.548    0.000000  0.0  0.0  0.0  0.0   71.548   \n",
      "3     2021-08-08 12:00:00    0.000    0.000000  0.0  0.0  0.0  0.0    0.000   \n",
      "4     2021-08-08 13:00:00   71.713  274.727143  0.0  0.0  0.0  0.0   71.713   \n",
      "...                   ...      ...         ...  ...  ...  ...  ...      ...   \n",
      "21010 2023-12-31 19:00:00  173.106  191.114534  0.0  0.0  0.0  0.0  173.106   \n",
      "21011 2023-12-31 20:00:00    0.000    0.000000  0.0  0.0  0.0  0.0    0.000   \n",
      "21012 2023-12-31 21:00:00  124.118    0.000000  0.0  0.0  0.0  0.0  124.118   \n",
      "21013 2023-12-31 22:00:00   15.417    0.000000  0.0  0.0  0.0  0.0   15.417   \n",
      "21014 2023-12-31 23:00:00    0.000    0.000000  0.0  0.0  0.0  0.0    0.000   \n",
      "\n",
      "                0  \n",
      "0      -45.308659  \n",
      "1       53.055973  \n",
      "2       49.921337  \n",
      "3      -61.107517  \n",
      "4       55.260876  \n",
      "...           ...  \n",
      "21010  140.409988  \n",
      "21011  -48.760628  \n",
      "21012  107.111305  \n",
      "21013  -31.022730  \n",
      "21014 -100.685417  \n",
      "\n",
      "[21015 rows x 9 columns]\n"
     ]
    }
   ],
   "source": [
    "testX_last = []\n",
    "\n",
    "for x in testX:\n",
    "  testX_last.append(x[-1])\n",
    "\n",
    "print(testX_last[0])\n",
    "\n",
    "testX_last = scaler_dam.inverse_transform(testX_last)\n",
    "testX_last = pd.DataFrame(testX_last)\n",
    "\n",
    "lstm_notinclude_x = pd.concat([testDates, testX_last, origin_y, pred_y], axis = 1)\n",
    "lstm_notinclude_x.to_csv(\"data/hr_lstm_notinclude_x.csv\")\n",
    "\n",
    "print(lstm_notinclude_x)"
   ]
  },
  {
   "cell_type": "code",
   "execution_count": 35,
   "metadata": {
    "colab": {
     "base_uri": "https://localhost:8080/",
     "height": 487
    },
    "executionInfo": {
     "elapsed": 568,
     "status": "ok",
     "timestamp": 1713937782845,
     "user": {
      "displayName": "­이진서 / 직원 / 그린바이오과학기술연구원",
      "userId": "11108064377578484520"
     },
     "user_tz": -540
    },
    "id": "fXGQtK4aoApN",
    "outputId": "e93295f8-783d-4079-9682-0f77ecac306e"
   },
   "outputs": [
    {
     "data": {
      "image/png": "[encoded data removed]",
      "text/plain": [
       "<Figure size 1400x500 with 1 Axes>"
      ]
     },
     "metadata": {},
     "output_type": "display_data"
    }
   ],
   "source": [
    "# Calculate the start and end indices for the zoomed plot\n",
    "zoom_start = len(test_dates) - 21015\n",
    "zoom_end = len(test_dates)\n",
    "\n",
    "# Create the zoomed plot\n",
    "plt.figure(figsize=(14, 5))\n",
    "\n",
    "# Adjust the start index for the testY_original and y_pred arrays\n",
    "adjusted_start = zoom_start - seq_len\n",
    "\n",
    "plt.plot(test_dates[zoom_start:zoom_end],\n",
    "         testY_original[adjusted_start:zoom_end - zoom_start + adjusted_start],\n",
    "         color='blue',\n",
    "         label='Actual Dam Flow')\n",
    "\n",
    "plt.plot(test_dates[zoom_start:zoom_end],\n",
    "         y_pred[adjusted_start:zoom_end - zoom_start + adjusted_start ],\n",
    "         color='red',\n",
    "         linestyle='--',\n",
    "         label='Predicted Dam Flow')\n",
    "\n",
    "plt.xlabel('Date')\n",
    "plt.ylabel('Dam Flow')\n",
    "plt.title('Zoomed In Actual vs Predicted Dam Flow')\n",
    "plt.legend()\n",
    "plt.show()"
   ]
  },
  {
   "cell_type": "code",
   "execution_count": 36,
   "metadata": {
    "colab": {
     "base_uri": "https://localhost:8080/",
     "height": 449
    },
    "executionInfo": {
     "elapsed": 678,
     "status": "ok",
     "timestamp": 1713937783520,
     "user": {
      "displayName": "­이진서 / 직원 / 그린바이오과학기술연구원",
      "userId": "11108064377578484520"
     },
     "user_tz": -540
    },
    "id": "el4PPAciqI5b",
    "outputId": "0e396703-83e4-45fb-8d7c-8436347c85d2"
   },
   "outputs": [
    {
     "data": {
      "image/png": "[encoded data removed]",
      "text/plain": [
       "<Figure size 640x480 with 1 Axes>"
      ]
     },
     "metadata": {},
     "output_type": "display_data"
    }
   ],
   "source": [
    "# 일대일 그래프\n",
    "x = np.arange(0,max(max(testY_original), max(y_pred)))\n",
    "y = x\n",
    "plt.scatter(testY_original[:], y_pred[:], color = 'purple', alpha = 0.6)\n",
    "plt.plot(x,y, color = 'blue', alpha = 0.6, label = 'y = x')\n",
    "plt.xlabel('Actuals')\n",
    "plt.ylabel('Simulate')\n",
    "\n",
    "plt.legend()\n",
    "plt.show()"
   ]
  },
  {
   "cell_type": "code",
   "execution_count": 37,
   "metadata": {
    "colab": {
     "base_uri": "https://localhost:8080/"
    },
    "executionInfo": {
     "elapsed": 8,
     "status": "ok",
     "timestamp": 1713937783520,
     "user": {
      "displayName": "­이진서 / 직원 / 그린바이오과학기술연구원",
      "userId": "11108064377578484520"
     },
     "user_tz": -540
    },
    "id": "ntPIbgUHqIzJ",
    "outputId": "8a0ba523-9d5a-475c-a246-9cf54297e46e"
   },
   "outputs": [
    {
     "name": "stdout",
     "output_type": "stream",
     "text": [
      "RMSE : 60.91\n"
     ]
    }
   ],
   "source": [
    "#RMSE\n",
    "from sklearn.metrics import r2_score\n",
    "from sklearn.metrics import mean_squared_error\n",
    "\n",
    "rmse = np.sqrt(mean_squared_error(testY_original, y_pred))\n",
    "print('RMSE : %.2f' %(rmse))"
   ]
  },
  {
   "cell_type": "code",
   "execution_count": 38,
   "metadata": {
    "colab": {
     "base_uri": "https://localhost:8080/"
    },
    "executionInfo": {
     "elapsed": 6,
     "status": "ok",
     "timestamp": 1713937783520,
     "user": {
      "displayName": "­이진서 / 직원 / 그린바이오과학기술연구원",
      "userId": "11108064377578484520"
     },
     "user_tz": -540
    },
    "id": "XxZoV4xCqIvU",
    "outputId": "09ae9878-29db-46db-d526-d991d7e54f4f"
   },
   "outputs": [
    {
     "name": "stdout",
     "output_type": "stream",
     "text": [
      "NSE : 0.920089\n"
     ]
    }
   ],
   "source": [
    "# NSE\n",
    "from numpy import mean\n",
    "num_sum1 = 0\n",
    "num_sum2 = 0\n",
    "num_avg = mean(testY_original[:])\n",
    "for i in range(len(testY_original)):\n",
    "  num1 = testY_original[i] - y_pred[i]\n",
    "  num_sum1 += num1**2\n",
    "  num2 = testY_original[i] - num_avg\n",
    "  num_sum2 += num2**2\n",
    "\n",
    "nse = 1 - (num_sum1 / num_sum2)\n",
    "print('NSE : %f' %nse)"
   ]
  },
  {
   "cell_type": "code",
   "execution_count": 39,
   "metadata": {
    "colab": {
     "base_uri": "https://localhost:8080/"
    },
    "executionInfo": {
     "elapsed": 5,
     "status": "ok",
     "timestamp": 1713937783520,
     "user": {
      "displayName": "­이진서 / 직원 / 그린바이오과학기술연구원",
      "userId": "11108064377578484520"
     },
     "user_tz": -540
    },
    "id": "NO2tKNhrqIoA",
    "outputId": "ad12c8b0-06f6-4279-f5de-f811c1ca2577"
   },
   "outputs": [
    {
     "name": "stdout",
     "output_type": "stream",
     "text": [
      "PBIAS : 40.765249\n"
     ]
    }
   ],
   "source": [
    "# PBIAS\n",
    "num_sum1 = 0\n",
    "for i in range(len(testY_original)):\n",
    "  num1 = testY_original[i] - y_pred[i]\n",
    "  num_sum1 += num1\n",
    "\n",
    "pbias = (num_sum1 / np.sum(testY_original[:])) * 100\n",
    "print('PBIAS : %f' %pbias)"
   ]
  },
  {
   "cell_type": "code",
   "execution_count": 40,
   "metadata": {
    "colab": {
     "base_uri": "https://localhost:8080/"
    },
    "executionInfo": {
     "elapsed": 4,
     "status": "ok",
     "timestamp": 1713937783520,
     "user": {
      "displayName": "­이진서 / 직원 / 그린바이오과학기술연구원",
      "userId": "11108064377578484520"
     },
     "user_tz": -540
    },
    "id": "k9y4Gv5I8SEY",
    "outputId": "ff71abf6-0d57-422f-c94e-57e5a3c6d969"
   },
   "outputs": [
    {
     "name": "stdout",
     "output_type": "stream",
     "text": [
      "R Square : 0.957445\n"
     ]
    }
   ],
   "source": [
    "#R^2\n",
    "import math\n",
    "\n",
    "num_sum1 = 0\n",
    "num_sum2 = 0\n",
    "num_sum3 = 0\n",
    "act_avg = mean(testY_original[:])\n",
    "pred_avg = mean(y_pred[:])\n",
    "for i in range(len(testY_original)):\n",
    "  num1 = (testY_original[i] - act_avg) * (y_pred[i] - pred_avg)\n",
    "  num_sum1 += num1\n",
    "  num2 = testY_original[i] - pred_avg\n",
    "  num_sum2 += num2**2\n",
    "  num3 = y_pred[i] - pred_avg\n",
    "  num_sum3 += num3**2\n",
    "\n",
    "r_square = (num_sum1 / (math.sqrt(num_sum2)* math.sqrt(num_sum3)))**2\n",
    "print('R Square : %f' %r_square)"
   ]
  },
  {
   "cell_type": "code",
   "execution_count": null,
   "metadata": {
    "executionInfo": {
     "elapsed": 4,
     "status": "ok",
     "timestamp": 1713937783521,
     "user": {
      "displayName": "­이진서 / 직원 / 그린바이오과학기술연구원",
      "userId": "11108064377578484520"
     },
     "user_tz": -540
    },
    "id": "ugVawgGqgSpB"
   },
   "outputs": [],
   "source": []
  },
  {
   "cell_type": "code",
   "execution_count": null,
   "metadata": {},
   "outputs": [],
   "source": []
  }
 ],
 "metadata": {
  "colab": {
   "authorship_tag": "ABX9TyNw5FwN31nUMfPHQpuzB//S",
   "provenance": []
  },
  "kernelspec": {
   "display_name": "Python 3 (ipykernel)",
   "language": "python",
   "name": "python3"
  },
  "language_info": {
   "codemirror_mode": {
    "name": "ipython",
    "version": 3
   },
   "file_extension": ".py",
   "mimetype": "text/x-python",
   "name": "python",
   "nbconvert_exporter": "python",
   "pygments_lexer": "ipython3",
   "version": "3.11.7"
  }
 },
 "nbformat": 4,
 "nbformat_minor": 4
}
